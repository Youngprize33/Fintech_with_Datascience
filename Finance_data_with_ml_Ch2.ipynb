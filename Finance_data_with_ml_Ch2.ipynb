{
  "nbformat": 4,
  "nbformat_minor": 0,
  "metadata": {
    "colab": {
      "name": "Finance data with ml Ch2.ipynb",
      "provenance": [],
      "toc_visible": true,
      "include_colab_link": true
    },
    "kernelspec": {
      "name": "python3",
      "display_name": "Python 3"
    },
    "language_info": {
      "name": "python"
    }
  },
  "cells": [
    {
      "cell_type": "markdown",
      "metadata": {
        "id": "view-in-github",
        "colab_type": "text"
      },
      "source": [
        "<a href=\"https://colab.research.google.com/github/Youngprize33/Fintech_with_Datascience/blob/main/Finance_data_with_ml_Ch2.ipynb\" target=\"_parent\"><img src=\"https://colab.research.google.com/assets/colab-badge.svg\" alt=\"Open In Colab\"/></a>"
      ]
    },
    {
      "cell_type": "markdown",
      "metadata": {
        "id": "DFFXLlkTJvZF"
      },
      "source": [
        "#데이터프레임에 익숙해지기"
      ]
    },
    {
      "cell_type": "markdown",
      "metadata": {
        "id": "4VfqZqGjex-M"
      },
      "source": [
        "판다스는 데이터가 위치한 URL을 입력하는 것만으로도 데이터를 바로 읽어오는 기능을 가지고 있다.  \n",
        "csv 파일 형태의 데이터를 로드하여 데이터프레임에 저장해보기."
      ]
    },
    {
      "cell_type": "markdown",
      "metadata": {
        "id": "FMXU5cxexpUY"
      },
      "source": [
        "데이터가 위치한 url을 기재하여 파일을 읽어올 수도 있다."
      ]
    },
    {
      "cell_type": "code",
      "metadata": {
        "id": "Usuq-C_YnQ2Z"
      },
      "source": [
        "import pandas as pd"
      ],
      "execution_count": null,
      "outputs": []
    },
    {
      "cell_type": "code",
      "metadata": {
        "id": "RW1wnr4-w6kG"
      },
      "source": [
        "url = 'https://raw.githubusercontent.com/justmarkham/DAT8/master/data/drinks.csv'\n",
        "drink_df = pd.read_csv(url, ',')"
      ],
      "execution_count": null,
      "outputs": []
    },
    {
      "cell_type": "markdown",
      "metadata": {
        "id": "ygbtJcJfe4C9"
      },
      "source": [
        "drink_df의 타입 확인."
      ]
    },
    {
      "cell_type": "code",
      "metadata": {
        "colab": {
          "base_uri": "https://localhost:8080/"
        },
        "id": "-Y5sBIK-1vt-",
        "outputId": "476a402d-06e9-401f-ee6c-205e821fb508"
      },
      "source": [
        "# 타입 확인\n",
        "type(drink_df)"
      ],
      "execution_count": null,
      "outputs": [
        {
          "output_type": "execute_result",
          "data": {
            "text/plain": [
              "pandas.core.frame.DataFrame"
            ]
          },
          "metadata": {
            "tags": []
          },
          "execution_count": 3
        }
      ]
    },
    {
      "cell_type": "code",
      "metadata": {
        "colab": {
          "base_uri": "https://localhost:8080/",
          "height": 417
        },
        "id": "t6lhhyjHiaJ4",
        "outputId": "78563738-cf1b-4cdf-a5a5-96029f481a53"
      },
      "source": [
        "drink_df"
      ],
      "execution_count": null,
      "outputs": [
        {
          "output_type": "execute_result",
          "data": {
            "text/html": [
              "<div>\n",
              "<style scoped>\n",
              "    .dataframe tbody tr th:only-of-type {\n",
              "        vertical-align: middle;\n",
              "    }\n",
              "\n",
              "    .dataframe tbody tr th {\n",
              "        vertical-align: top;\n",
              "    }\n",
              "\n",
              "    .dataframe thead th {\n",
              "        text-align: right;\n",
              "    }\n",
              "</style>\n",
              "<table border=\"1\" class=\"dataframe\">\n",
              "  <thead>\n",
              "    <tr style=\"text-align: right;\">\n",
              "      <th></th>\n",
              "      <th>country</th>\n",
              "      <th>beer_servings</th>\n",
              "      <th>spirit_servings</th>\n",
              "      <th>wine_servings</th>\n",
              "      <th>total_litres_of_pure_alcohol</th>\n",
              "      <th>continent</th>\n",
              "    </tr>\n",
              "  </thead>\n",
              "  <tbody>\n",
              "    <tr>\n",
              "      <th>0</th>\n",
              "      <td>Afghanistan</td>\n",
              "      <td>0</td>\n",
              "      <td>0</td>\n",
              "      <td>0</td>\n",
              "      <td>0.0</td>\n",
              "      <td>AS</td>\n",
              "    </tr>\n",
              "    <tr>\n",
              "      <th>1</th>\n",
              "      <td>Albania</td>\n",
              "      <td>89</td>\n",
              "      <td>132</td>\n",
              "      <td>54</td>\n",
              "      <td>4.9</td>\n",
              "      <td>EU</td>\n",
              "    </tr>\n",
              "    <tr>\n",
              "      <th>2</th>\n",
              "      <td>Algeria</td>\n",
              "      <td>25</td>\n",
              "      <td>0</td>\n",
              "      <td>14</td>\n",
              "      <td>0.7</td>\n",
              "      <td>AF</td>\n",
              "    </tr>\n",
              "    <tr>\n",
              "      <th>3</th>\n",
              "      <td>Andorra</td>\n",
              "      <td>245</td>\n",
              "      <td>138</td>\n",
              "      <td>312</td>\n",
              "      <td>12.4</td>\n",
              "      <td>EU</td>\n",
              "    </tr>\n",
              "    <tr>\n",
              "      <th>4</th>\n",
              "      <td>Angola</td>\n",
              "      <td>217</td>\n",
              "      <td>57</td>\n",
              "      <td>45</td>\n",
              "      <td>5.9</td>\n",
              "      <td>AF</td>\n",
              "    </tr>\n",
              "    <tr>\n",
              "      <th>...</th>\n",
              "      <td>...</td>\n",
              "      <td>...</td>\n",
              "      <td>...</td>\n",
              "      <td>...</td>\n",
              "      <td>...</td>\n",
              "      <td>...</td>\n",
              "    </tr>\n",
              "    <tr>\n",
              "      <th>188</th>\n",
              "      <td>Venezuela</td>\n",
              "      <td>333</td>\n",
              "      <td>100</td>\n",
              "      <td>3</td>\n",
              "      <td>7.7</td>\n",
              "      <td>SA</td>\n",
              "    </tr>\n",
              "    <tr>\n",
              "      <th>189</th>\n",
              "      <td>Vietnam</td>\n",
              "      <td>111</td>\n",
              "      <td>2</td>\n",
              "      <td>1</td>\n",
              "      <td>2.0</td>\n",
              "      <td>AS</td>\n",
              "    </tr>\n",
              "    <tr>\n",
              "      <th>190</th>\n",
              "      <td>Yemen</td>\n",
              "      <td>6</td>\n",
              "      <td>0</td>\n",
              "      <td>0</td>\n",
              "      <td>0.1</td>\n",
              "      <td>AS</td>\n",
              "    </tr>\n",
              "    <tr>\n",
              "      <th>191</th>\n",
              "      <td>Zambia</td>\n",
              "      <td>32</td>\n",
              "      <td>19</td>\n",
              "      <td>4</td>\n",
              "      <td>2.5</td>\n",
              "      <td>AF</td>\n",
              "    </tr>\n",
              "    <tr>\n",
              "      <th>192</th>\n",
              "      <td>Zimbabwe</td>\n",
              "      <td>64</td>\n",
              "      <td>18</td>\n",
              "      <td>4</td>\n",
              "      <td>4.7</td>\n",
              "      <td>AF</td>\n",
              "    </tr>\n",
              "  </tbody>\n",
              "</table>\n",
              "<p>193 rows × 6 columns</p>\n",
              "</div>"
            ],
            "text/plain": [
              "         country  beer_servings  ...  total_litres_of_pure_alcohol  continent\n",
              "0    Afghanistan              0  ...                           0.0         AS\n",
              "1        Albania             89  ...                           4.9         EU\n",
              "2        Algeria             25  ...                           0.7         AF\n",
              "3        Andorra            245  ...                          12.4         EU\n",
              "4         Angola            217  ...                           5.9         AF\n",
              "..           ...            ...  ...                           ...        ...\n",
              "188    Venezuela            333  ...                           7.7         SA\n",
              "189      Vietnam            111  ...                           2.0         AS\n",
              "190        Yemen              6  ...                           0.1         AS\n",
              "191       Zambia             32  ...                           2.5         AF\n",
              "192     Zimbabwe             64  ...                           4.7         AF\n",
              "\n",
              "[193 rows x 6 columns]"
            ]
          },
          "metadata": {
            "tags": []
          },
          "execution_count": 4
        }
      ]
    },
    {
      "cell_type": "markdown",
      "metadata": {
        "id": "CZIwZQL01t39"
      },
      "source": [
        "## 데이터프레임의 출력"
      ]
    },
    {
      "cell_type": "markdown",
      "metadata": {
        "id": "jss5nD8jfA82"
      },
      "source": [
        "`head()`는 상위 5개의 행을 출력."
      ]
    },
    {
      "cell_type": "code",
      "metadata": {
        "colab": {
          "base_uri": "https://localhost:8080/",
          "height": 203
        },
        "id": "io6VcIW11x8d",
        "outputId": "be2c6e76-9416-432e-bc2a-d7c609eaa6e3"
      },
      "source": [
        "# 상위 5개의 행을 출력\n",
        "drink_df.head()"
      ],
      "execution_count": null,
      "outputs": [
        {
          "output_type": "execute_result",
          "data": {
            "text/html": [
              "<div>\n",
              "<style scoped>\n",
              "    .dataframe tbody tr th:only-of-type {\n",
              "        vertical-align: middle;\n",
              "    }\n",
              "\n",
              "    .dataframe tbody tr th {\n",
              "        vertical-align: top;\n",
              "    }\n",
              "\n",
              "    .dataframe thead th {\n",
              "        text-align: right;\n",
              "    }\n",
              "</style>\n",
              "<table border=\"1\" class=\"dataframe\">\n",
              "  <thead>\n",
              "    <tr style=\"text-align: right;\">\n",
              "      <th></th>\n",
              "      <th>country</th>\n",
              "      <th>beer_servings</th>\n",
              "      <th>spirit_servings</th>\n",
              "      <th>wine_servings</th>\n",
              "      <th>total_litres_of_pure_alcohol</th>\n",
              "      <th>continent</th>\n",
              "    </tr>\n",
              "  </thead>\n",
              "  <tbody>\n",
              "    <tr>\n",
              "      <th>0</th>\n",
              "      <td>Afghanistan</td>\n",
              "      <td>0</td>\n",
              "      <td>0</td>\n",
              "      <td>0</td>\n",
              "      <td>0.0</td>\n",
              "      <td>AS</td>\n",
              "    </tr>\n",
              "    <tr>\n",
              "      <th>1</th>\n",
              "      <td>Albania</td>\n",
              "      <td>89</td>\n",
              "      <td>132</td>\n",
              "      <td>54</td>\n",
              "      <td>4.9</td>\n",
              "      <td>EU</td>\n",
              "    </tr>\n",
              "    <tr>\n",
              "      <th>2</th>\n",
              "      <td>Algeria</td>\n",
              "      <td>25</td>\n",
              "      <td>0</td>\n",
              "      <td>14</td>\n",
              "      <td>0.7</td>\n",
              "      <td>AF</td>\n",
              "    </tr>\n",
              "    <tr>\n",
              "      <th>3</th>\n",
              "      <td>Andorra</td>\n",
              "      <td>245</td>\n",
              "      <td>138</td>\n",
              "      <td>312</td>\n",
              "      <td>12.4</td>\n",
              "      <td>EU</td>\n",
              "    </tr>\n",
              "    <tr>\n",
              "      <th>4</th>\n",
              "      <td>Angola</td>\n",
              "      <td>217</td>\n",
              "      <td>57</td>\n",
              "      <td>45</td>\n",
              "      <td>5.9</td>\n",
              "      <td>AF</td>\n",
              "    </tr>\n",
              "  </tbody>\n",
              "</table>\n",
              "</div>"
            ],
            "text/plain": [
              "       country  beer_servings  ...  total_litres_of_pure_alcohol  continent\n",
              "0  Afghanistan              0  ...                           0.0         AS\n",
              "1      Albania             89  ...                           4.9         EU\n",
              "2      Algeria             25  ...                           0.7         AF\n",
              "3      Andorra            245  ...                          12.4         EU\n",
              "4       Angola            217  ...                           5.9         AF\n",
              "\n",
              "[5 rows x 6 columns]"
            ]
          },
          "metadata": {
            "tags": []
          },
          "execution_count": 5
        }
      ]
    },
    {
      "cell_type": "markdown",
      "metadata": {
        "id": "A2J2feW5fDEh"
      },
      "source": [
        "head(숫자)는 상위 입력한 숫자만큼의 행 출력."
      ]
    },
    {
      "cell_type": "code",
      "metadata": {
        "colab": {
          "base_uri": "https://localhost:8080/",
          "height": 357
        },
        "id": "QeOZoqai14Py",
        "outputId": "cf53da9a-be0b-4368-bc63-951fe007929e"
      },
      "source": [
        "# 상위 10개의 행을 출력\n",
        "drink_df.head(10)"
      ],
      "execution_count": null,
      "outputs": [
        {
          "output_type": "execute_result",
          "data": {
            "text/html": [
              "<div>\n",
              "<style scoped>\n",
              "    .dataframe tbody tr th:only-of-type {\n",
              "        vertical-align: middle;\n",
              "    }\n",
              "\n",
              "    .dataframe tbody tr th {\n",
              "        vertical-align: top;\n",
              "    }\n",
              "\n",
              "    .dataframe thead th {\n",
              "        text-align: right;\n",
              "    }\n",
              "</style>\n",
              "<table border=\"1\" class=\"dataframe\">\n",
              "  <thead>\n",
              "    <tr style=\"text-align: right;\">\n",
              "      <th></th>\n",
              "      <th>country</th>\n",
              "      <th>beer_servings</th>\n",
              "      <th>spirit_servings</th>\n",
              "      <th>wine_servings</th>\n",
              "      <th>total_litres_of_pure_alcohol</th>\n",
              "      <th>continent</th>\n",
              "    </tr>\n",
              "  </thead>\n",
              "  <tbody>\n",
              "    <tr>\n",
              "      <th>0</th>\n",
              "      <td>Afghanistan</td>\n",
              "      <td>0</td>\n",
              "      <td>0</td>\n",
              "      <td>0</td>\n",
              "      <td>0.0</td>\n",
              "      <td>AS</td>\n",
              "    </tr>\n",
              "    <tr>\n",
              "      <th>1</th>\n",
              "      <td>Albania</td>\n",
              "      <td>89</td>\n",
              "      <td>132</td>\n",
              "      <td>54</td>\n",
              "      <td>4.9</td>\n",
              "      <td>EU</td>\n",
              "    </tr>\n",
              "    <tr>\n",
              "      <th>2</th>\n",
              "      <td>Algeria</td>\n",
              "      <td>25</td>\n",
              "      <td>0</td>\n",
              "      <td>14</td>\n",
              "      <td>0.7</td>\n",
              "      <td>AF</td>\n",
              "    </tr>\n",
              "    <tr>\n",
              "      <th>3</th>\n",
              "      <td>Andorra</td>\n",
              "      <td>245</td>\n",
              "      <td>138</td>\n",
              "      <td>312</td>\n",
              "      <td>12.4</td>\n",
              "      <td>EU</td>\n",
              "    </tr>\n",
              "    <tr>\n",
              "      <th>4</th>\n",
              "      <td>Angola</td>\n",
              "      <td>217</td>\n",
              "      <td>57</td>\n",
              "      <td>45</td>\n",
              "      <td>5.9</td>\n",
              "      <td>AF</td>\n",
              "    </tr>\n",
              "    <tr>\n",
              "      <th>5</th>\n",
              "      <td>Antigua &amp; Barbuda</td>\n",
              "      <td>102</td>\n",
              "      <td>128</td>\n",
              "      <td>45</td>\n",
              "      <td>4.9</td>\n",
              "      <td>NaN</td>\n",
              "    </tr>\n",
              "    <tr>\n",
              "      <th>6</th>\n",
              "      <td>Argentina</td>\n",
              "      <td>193</td>\n",
              "      <td>25</td>\n",
              "      <td>221</td>\n",
              "      <td>8.3</td>\n",
              "      <td>SA</td>\n",
              "    </tr>\n",
              "    <tr>\n",
              "      <th>7</th>\n",
              "      <td>Armenia</td>\n",
              "      <td>21</td>\n",
              "      <td>179</td>\n",
              "      <td>11</td>\n",
              "      <td>3.8</td>\n",
              "      <td>EU</td>\n",
              "    </tr>\n",
              "    <tr>\n",
              "      <th>8</th>\n",
              "      <td>Australia</td>\n",
              "      <td>261</td>\n",
              "      <td>72</td>\n",
              "      <td>212</td>\n",
              "      <td>10.4</td>\n",
              "      <td>OC</td>\n",
              "    </tr>\n",
              "    <tr>\n",
              "      <th>9</th>\n",
              "      <td>Austria</td>\n",
              "      <td>279</td>\n",
              "      <td>75</td>\n",
              "      <td>191</td>\n",
              "      <td>9.7</td>\n",
              "      <td>EU</td>\n",
              "    </tr>\n",
              "  </tbody>\n",
              "</table>\n",
              "</div>"
            ],
            "text/plain": [
              "             country  beer_servings  ...  total_litres_of_pure_alcohol  continent\n",
              "0        Afghanistan              0  ...                           0.0         AS\n",
              "1            Albania             89  ...                           4.9         EU\n",
              "2            Algeria             25  ...                           0.7         AF\n",
              "3            Andorra            245  ...                          12.4         EU\n",
              "4             Angola            217  ...                           5.9         AF\n",
              "5  Antigua & Barbuda            102  ...                           4.9        NaN\n",
              "6          Argentina            193  ...                           8.3         SA\n",
              "7            Armenia             21  ...                           3.8         EU\n",
              "8          Australia            261  ...                          10.4         OC\n",
              "9            Austria            279  ...                           9.7         EU\n",
              "\n",
              "[10 rows x 6 columns]"
            ]
          },
          "metadata": {
            "tags": []
          },
          "execution_count": 6
        }
      ]
    },
    {
      "cell_type": "markdown",
      "metadata": {
        "id": "8KpvQ2qcfD1X"
      },
      "source": [
        "tail()은 하위 5개의 행을 출력."
      ]
    },
    {
      "cell_type": "code",
      "metadata": {
        "colab": {
          "base_uri": "https://localhost:8080/",
          "height": 203
        },
        "id": "aWk569E119D-",
        "outputId": "0a8f3c53-f33d-42de-a52e-18b37fc193e9"
      },
      "source": [
        "# 하위 5개의 행을 출력\n",
        "drink_df.tail()"
      ],
      "execution_count": null,
      "outputs": [
        {
          "output_type": "execute_result",
          "data": {
            "text/html": [
              "<div>\n",
              "<style scoped>\n",
              "    .dataframe tbody tr th:only-of-type {\n",
              "        vertical-align: middle;\n",
              "    }\n",
              "\n",
              "    .dataframe tbody tr th {\n",
              "        vertical-align: top;\n",
              "    }\n",
              "\n",
              "    .dataframe thead th {\n",
              "        text-align: right;\n",
              "    }\n",
              "</style>\n",
              "<table border=\"1\" class=\"dataframe\">\n",
              "  <thead>\n",
              "    <tr style=\"text-align: right;\">\n",
              "      <th></th>\n",
              "      <th>country</th>\n",
              "      <th>beer_servings</th>\n",
              "      <th>spirit_servings</th>\n",
              "      <th>wine_servings</th>\n",
              "      <th>total_litres_of_pure_alcohol</th>\n",
              "      <th>continent</th>\n",
              "    </tr>\n",
              "  </thead>\n",
              "  <tbody>\n",
              "    <tr>\n",
              "      <th>188</th>\n",
              "      <td>Venezuela</td>\n",
              "      <td>333</td>\n",
              "      <td>100</td>\n",
              "      <td>3</td>\n",
              "      <td>7.7</td>\n",
              "      <td>SA</td>\n",
              "    </tr>\n",
              "    <tr>\n",
              "      <th>189</th>\n",
              "      <td>Vietnam</td>\n",
              "      <td>111</td>\n",
              "      <td>2</td>\n",
              "      <td>1</td>\n",
              "      <td>2.0</td>\n",
              "      <td>AS</td>\n",
              "    </tr>\n",
              "    <tr>\n",
              "      <th>190</th>\n",
              "      <td>Yemen</td>\n",
              "      <td>6</td>\n",
              "      <td>0</td>\n",
              "      <td>0</td>\n",
              "      <td>0.1</td>\n",
              "      <td>AS</td>\n",
              "    </tr>\n",
              "    <tr>\n",
              "      <th>191</th>\n",
              "      <td>Zambia</td>\n",
              "      <td>32</td>\n",
              "      <td>19</td>\n",
              "      <td>4</td>\n",
              "      <td>2.5</td>\n",
              "      <td>AF</td>\n",
              "    </tr>\n",
              "    <tr>\n",
              "      <th>192</th>\n",
              "      <td>Zimbabwe</td>\n",
              "      <td>64</td>\n",
              "      <td>18</td>\n",
              "      <td>4</td>\n",
              "      <td>4.7</td>\n",
              "      <td>AF</td>\n",
              "    </tr>\n",
              "  </tbody>\n",
              "</table>\n",
              "</div>"
            ],
            "text/plain": [
              "       country  beer_servings  ...  total_litres_of_pure_alcohol  continent\n",
              "188  Venezuela            333  ...                           7.7         SA\n",
              "189    Vietnam            111  ...                           2.0         AS\n",
              "190      Yemen              6  ...                           0.1         AS\n",
              "191     Zambia             32  ...                           2.5         AF\n",
              "192   Zimbabwe             64  ...                           4.7         AF\n",
              "\n",
              "[5 rows x 6 columns]"
            ]
          },
          "metadata": {
            "tags": []
          },
          "execution_count": 7
        }
      ]
    },
    {
      "cell_type": "markdown",
      "metadata": {
        "id": "EvFMUHEAfFLo"
      },
      "source": [
        "sample(숫자)는 랜덤으로 선택된 10개의 행을 출력.  \n",
        "데이터를 눈으로 파악할 때 연속적으로 실행하며 데이터를 파악이 가능한 장점 보유"
      ]
    },
    {
      "cell_type": "code",
      "metadata": {
        "colab": {
          "base_uri": "https://localhost:8080/",
          "height": 357
        },
        "id": "bcwRW7yzKZ9S",
        "outputId": "016d7a7d-d2cc-416f-97f8-f2fd80779150"
      },
      "source": [
        "# 랜덤으로 선택된 10개의 행을 출력\n",
        "drink_df.sample(10)"
      ],
      "execution_count": null,
      "outputs": [
        {
          "output_type": "execute_result",
          "data": {
            "text/html": [
              "<div>\n",
              "<style scoped>\n",
              "    .dataframe tbody tr th:only-of-type {\n",
              "        vertical-align: middle;\n",
              "    }\n",
              "\n",
              "    .dataframe tbody tr th {\n",
              "        vertical-align: top;\n",
              "    }\n",
              "\n",
              "    .dataframe thead th {\n",
              "        text-align: right;\n",
              "    }\n",
              "</style>\n",
              "<table border=\"1\" class=\"dataframe\">\n",
              "  <thead>\n",
              "    <tr style=\"text-align: right;\">\n",
              "      <th></th>\n",
              "      <th>country</th>\n",
              "      <th>beer_servings</th>\n",
              "      <th>spirit_servings</th>\n",
              "      <th>wine_servings</th>\n",
              "      <th>total_litres_of_pure_alcohol</th>\n",
              "      <th>continent</th>\n",
              "    </tr>\n",
              "  </thead>\n",
              "  <tbody>\n",
              "    <tr>\n",
              "      <th>85</th>\n",
              "      <td>Japan</td>\n",
              "      <td>77</td>\n",
              "      <td>202</td>\n",
              "      <td>16</td>\n",
              "      <td>7.0</td>\n",
              "      <td>AS</td>\n",
              "    </tr>\n",
              "    <tr>\n",
              "      <th>141</th>\n",
              "      <td>Russian Federation</td>\n",
              "      <td>247</td>\n",
              "      <td>326</td>\n",
              "      <td>73</td>\n",
              "      <td>11.5</td>\n",
              "      <td>AS</td>\n",
              "    </tr>\n",
              "    <tr>\n",
              "      <th>131</th>\n",
              "      <td>Papua New Guinea</td>\n",
              "      <td>44</td>\n",
              "      <td>39</td>\n",
              "      <td>1</td>\n",
              "      <td>1.5</td>\n",
              "      <td>OC</td>\n",
              "    </tr>\n",
              "    <tr>\n",
              "      <th>73</th>\n",
              "      <td>Haiti</td>\n",
              "      <td>1</td>\n",
              "      <td>326</td>\n",
              "      <td>1</td>\n",
              "      <td>5.9</td>\n",
              "      <td>NaN</td>\n",
              "    </tr>\n",
              "    <tr>\n",
              "      <th>119</th>\n",
              "      <td>Nepal</td>\n",
              "      <td>5</td>\n",
              "      <td>6</td>\n",
              "      <td>0</td>\n",
              "      <td>0.2</td>\n",
              "      <td>AS</td>\n",
              "    </tr>\n",
              "    <tr>\n",
              "      <th>176</th>\n",
              "      <td>Turkey</td>\n",
              "      <td>51</td>\n",
              "      <td>22</td>\n",
              "      <td>7</td>\n",
              "      <td>1.4</td>\n",
              "      <td>AS</td>\n",
              "    </tr>\n",
              "    <tr>\n",
              "      <th>178</th>\n",
              "      <td>Tuvalu</td>\n",
              "      <td>6</td>\n",
              "      <td>41</td>\n",
              "      <td>9</td>\n",
              "      <td>1.0</td>\n",
              "      <td>OC</td>\n",
              "    </tr>\n",
              "    <tr>\n",
              "      <th>180</th>\n",
              "      <td>Ukraine</td>\n",
              "      <td>206</td>\n",
              "      <td>237</td>\n",
              "      <td>45</td>\n",
              "      <td>8.9</td>\n",
              "      <td>EU</td>\n",
              "    </tr>\n",
              "    <tr>\n",
              "      <th>37</th>\n",
              "      <td>Colombia</td>\n",
              "      <td>159</td>\n",
              "      <td>76</td>\n",
              "      <td>3</td>\n",
              "      <td>4.2</td>\n",
              "      <td>SA</td>\n",
              "    </tr>\n",
              "    <tr>\n",
              "      <th>46</th>\n",
              "      <td>North Korea</td>\n",
              "      <td>0</td>\n",
              "      <td>0</td>\n",
              "      <td>0</td>\n",
              "      <td>0.0</td>\n",
              "      <td>AS</td>\n",
              "    </tr>\n",
              "  </tbody>\n",
              "</table>\n",
              "</div>"
            ],
            "text/plain": [
              "                country  beer_servings  ...  total_litres_of_pure_alcohol  continent\n",
              "85                Japan             77  ...                           7.0         AS\n",
              "141  Russian Federation            247  ...                          11.5         AS\n",
              "131    Papua New Guinea             44  ...                           1.5         OC\n",
              "73                Haiti              1  ...                           5.9        NaN\n",
              "119               Nepal              5  ...                           0.2         AS\n",
              "176              Turkey             51  ...                           1.4         AS\n",
              "178              Tuvalu              6  ...                           1.0         OC\n",
              "180             Ukraine            206  ...                           8.9         EU\n",
              "37             Colombia            159  ...                           4.2         SA\n",
              "46          North Korea              0  ...                           0.0         AS\n",
              "\n",
              "[10 rows x 6 columns]"
            ]
          },
          "metadata": {
            "tags": []
          },
          "execution_count": 39
        }
      ]
    },
    {
      "cell_type": "markdown",
      "metadata": {
        "id": "lI0MraPufJOW"
      },
      "source": [
        "index는 데이터프레임 인덱스 확인."
      ]
    },
    {
      "cell_type": "code",
      "metadata": {
        "colab": {
          "base_uri": "https://localhost:8080/"
        },
        "id": "Y5bPuNHo2Nln",
        "outputId": "4fc1b123-132a-4234-fac7-27f2c9b12a67"
      },
      "source": [
        "# 인덱스의 범위 확인\n",
        "drink_df.index"
      ],
      "execution_count": null,
      "outputs": [
        {
          "output_type": "execute_result",
          "data": {
            "text/plain": [
              "RangeIndex(start=0, stop=193, step=1)"
            ]
          },
          "metadata": {
            "tags": []
          },
          "execution_count": 23
        }
      ]
    },
    {
      "cell_type": "markdown",
      "metadata": {
        "id": "T1w0p57bfK9u"
      },
      "source": [
        "현재 인덱스는 0부터 시작해서 +1씩(step) 증가하여 192까지.  \n",
        "193에서 stop한다는 것은 193은 포함하지 않는다는 의미.  \n",
        "즉, 0번부터 192번까지의 샘플이 있는 셈이므로 총 샘플의 수는 193개.\n",
        "\n",
        "`dtypes`는 각 데이터프레임의 열의 타입을 확인 가능."
      ]
    },
    {
      "cell_type": "code",
      "metadata": {
        "colab": {
          "base_uri": "https://localhost:8080/"
        },
        "id": "aFY67uFW2VIR",
        "outputId": "fedc6473-f011-4cdd-e7f8-f97e8821da53"
      },
      "source": [
        "# 각 컬럼의 타입 출력\n",
        "drink_df.dtypes"
      ],
      "execution_count": null,
      "outputs": [
        {
          "output_type": "execute_result",
          "data": {
            "text/plain": [
              "country                          object\n",
              "beer_servings                     int64\n",
              "spirit_servings                   int64\n",
              "wine_servings                     int64\n",
              "total_litres_of_pure_alcohol    float64\n",
              "continent                        object\n",
              "dtype: object"
            ]
          },
          "metadata": {
            "tags": []
          },
          "execution_count": 24
        }
      ]
    },
    {
      "cell_type": "markdown",
      "metadata": {
        "id": "stDEYN6tfQ0-"
      },
      "source": [
        "데이터프레임의 타입에서 object라고 표현되는 부분은 해당 타입이 문자열이라는 의미.  \n",
        "int64는 정수형 데이터, float64는 실수형 데이터\n",
        "\n",
        "위의 출력 결과를 해석해보면, country, continent 열은 문자열 데이터로 구성되어져 있고,  \n",
        "beer_servings, spirit_servings, wine_servings 열은 정수형 데이터,   total_litres_of_prue_alcohol 열은 실수형 데이터로 구성되어져 있다는 의미.\n",
        "\n",
        "이를 통해서 각 열의 데이터 자료형이 무엇인지를 파악할 수 있다."
      ]
    },
    {
      "cell_type": "markdown",
      "metadata": {
        "id": "BBK1gGhRfTyV"
      },
      "source": [
        "shape는 데이터프레임의 행과 열의 수를 확인할 수 있다."
      ]
    },
    {
      "cell_type": "code",
      "metadata": {
        "colab": {
          "base_uri": "https://localhost:8080/"
        },
        "id": "xTMWEiuz2ZLg",
        "outputId": "62ca8659-82e4-4e10-cc12-178d01fea927"
      },
      "source": [
        "# 데이터프레임의 행과 열의 개수 출력\n",
        "drink_df.shape"
      ],
      "execution_count": null,
      "outputs": [
        {
          "output_type": "execute_result",
          "data": {
            "text/plain": [
              "(193, 6)"
            ]
          },
          "metadata": {
            "tags": []
          },
          "execution_count": 26
        }
      ]
    },
    {
      "cell_type": "markdown",
      "metadata": {
        "id": "ZmnvU0GAfV--"
      },
      "source": [
        "위 출력 결과는 해당 데이터프레임이 193개의 행, 6개의 열을 가지고 있음을 알려줌.\n",
        "\n",
        "`values`는 데이터프레임 형태를 Numpy 행렬 형태로 변환하여 출력."
      ]
    },
    {
      "cell_type": "code",
      "metadata": {
        "colab": {
          "base_uri": "https://localhost:8080/"
        },
        "id": "uQf_jF5u2dRT",
        "outputId": "921428d3-dac5-4623-cdd5-0d9f13b77cf8"
      },
      "source": [
        "# Numpy 타입으로 출력\n",
        "drink_df.values"
      ],
      "execution_count": null,
      "outputs": [
        {
          "output_type": "execute_result",
          "data": {
            "text/plain": [
              "array([['Afghanistan', 0, 0, 0, 0.0, 'AS'],\n",
              "       ['Albania', 89, 132, 54, 4.9, 'EU'],\n",
              "       ['Algeria', 25, 0, 14, 0.7, 'AF'],\n",
              "       ...,\n",
              "       ['Yemen', 6, 0, 0, 0.1, 'AS'],\n",
              "       ['Zambia', 32, 19, 4, 2.5, 'AF'],\n",
              "       ['Zimbabwe', 64, 18, 4, 4.7, 'AF']], dtype=object)"
            ]
          },
          "metadata": {
            "tags": []
          },
          "execution_count": 27
        }
      ]
    },
    {
      "cell_type": "code",
      "metadata": {
        "colab": {
          "base_uri": "https://localhost:8080/"
        },
        "id": "LgRUwEvnjh1k",
        "outputId": "d2e96bb2-0cbd-43a5-cf8d-72b416ffb1b3"
      },
      "source": [
        "type(drink_df.values)"
      ],
      "execution_count": null,
      "outputs": [
        {
          "output_type": "execute_result",
          "data": {
            "text/plain": [
              "numpy.ndarray"
            ]
          },
          "metadata": {
            "tags": []
          },
          "execution_count": 28
        }
      ]
    },
    {
      "cell_type": "markdown",
      "metadata": {
        "id": "R_9c84HCfX-s"
      },
      "source": [
        "Numpy를 요약하자면\n",
        "\n",
        "각각의 행을 아래와 같이 데이터프레임의 행 형태에서"
      ]
    },
    {
      "cell_type": "markdown",
      "metadata": {
        "id": "2bQiKfN9fZSO"
      },
      "source": [
        "아래와 같은 형태로 변환된다. \n",
        "\n",
        "- ['Afghanistan', 0, 0, 0, 0.0, 'AS']"
      ]
    },
    {
      "cell_type": "markdown",
      "metadata": {
        "id": "v5rzcUcnfbKJ"
      },
      "source": [
        "변환한 데이터의 첫번째 행을 출력하려면 변환 후 0번 인덱스로 접근"
      ]
    },
    {
      "cell_type": "code",
      "metadata": {
        "colab": {
          "base_uri": "https://localhost:8080/"
        },
        "id": "pAZqnvPTjk08",
        "outputId": "385406dc-d242-4d80-b6b7-56195863f063"
      },
      "source": [
        "drink_df.values[0]"
      ],
      "execution_count": null,
      "outputs": [
        {
          "output_type": "execute_result",
          "data": {
            "text/plain": [
              "array(['Afghanistan', 0, 0, 0, 0.0, 'AS'], dtype=object)"
            ]
          },
          "metadata": {
            "tags": []
          },
          "execution_count": 29
        }
      ]
    },
    {
      "cell_type": "markdown",
      "metadata": {
        "id": "1EUc2fBwfhNu"
      },
      "source": [
        "위와 같은 형태로 변환이 되었다는 것은 다음과 같이 for문 접근도 가능하다는 의미"
      ]
    },
    {
      "cell_type": "code",
      "metadata": {
        "colab": {
          "base_uri": "https://localhost:8080/"
        },
        "id": "adHx0Nsmj_nu",
        "outputId": "0aaa6909-3946-40b0-80c3-a68ef6f15f6b"
      },
      "source": [
        "for element in drink_df.values[0]:\n",
        "  print(element)"
      ],
      "execution_count": null,
      "outputs": [
        {
          "output_type": "stream",
          "text": [
            "Afghanistan\n",
            "0\n",
            "0\n",
            "0\n",
            "0.0\n",
            "AS\n"
          ],
          "name": "stdout"
        }
      ]
    },
    {
      "cell_type": "markdown",
      "metadata": {
        "id": "ylIFlITe2sZz"
      },
      "source": [
        "## 데이터 프레임의 컬럼 접근"
      ]
    },
    {
      "cell_type": "markdown",
      "metadata": {
        "id": "-AMGIJaWflpK"
      },
      "source": [
        "데이터프레임의 특정 열에 접근하는 가장 쉬운 방법은\n",
        "\n",
        "`데이터프레임의 이름.열의 이름`\n",
        "\n",
        "과 같은 방식으로 접근하는 것.  \n",
        "다시 말해, 데이터프레임의 이름을 적고, 온점을 찍은 후에 열의 이름을 적으면 해당 열만을 불러오기."
      ]
    },
    {
      "cell_type": "code",
      "metadata": {
        "colab": {
          "base_uri": "https://localhost:8080/"
        },
        "id": "Vf63fNo72uer",
        "outputId": "96d7a0c8-acc1-4581-b20e-357cb1ccccfb"
      },
      "source": [
        "drink_df.beer_servings"
      ],
      "execution_count": null,
      "outputs": [
        {
          "output_type": "execute_result",
          "data": {
            "text/plain": [
              "0        0\n",
              "1       89\n",
              "2       25\n",
              "3      245\n",
              "4      217\n",
              "      ... \n",
              "188    333\n",
              "189    111\n",
              "190      6\n",
              "191     32\n",
              "192     64\n",
              "Name: beer_servings, Length: 193, dtype: int64"
            ]
          },
          "metadata": {
            "tags": []
          },
          "execution_count": 31
        }
      ]
    },
    {
      "cell_type": "markdown",
      "metadata": {
        "id": "Vg6ZnbYNfnMa"
      },
      "source": [
        "또 다른 방법은\n",
        "\n",
        "`데이터프레임의 이름['해당 열의 이름']`과 같은 방법\n",
        "\n",
        "이는 위와 동일한 결과를 출력"
      ]
    },
    {
      "cell_type": "code",
      "metadata": {
        "colab": {
          "base_uri": "https://localhost:8080/"
        },
        "id": "yjfvLSoj2xWH",
        "outputId": "5d828cac-daa8-476c-ef64-3e414a27ba17"
      },
      "source": [
        "# 또 다른 방법\n",
        "drink_df['beer_servings']"
      ],
      "execution_count": null,
      "outputs": [
        {
          "output_type": "execute_result",
          "data": {
            "text/plain": [
              "0        0\n",
              "1       89\n",
              "2       25\n",
              "3      245\n",
              "4      217\n",
              "      ... \n",
              "188    333\n",
              "189    111\n",
              "190      6\n",
              "191     32\n",
              "192     64\n",
              "Name: beer_servings, Length: 193, dtype: int64"
            ]
          },
          "metadata": {
            "tags": []
          },
          "execution_count": 32
        }
      ]
    },
    {
      "cell_type": "markdown",
      "metadata": {
        "id": "9QL1daf8fo9n"
      },
      "source": [
        "2차원 테이블 형태를 데이터프레임,  \n",
        "이렇게 특정 하나의 열만을 불러올 경우에는 데이터프레임이 아니라 데이터 타입이 판다스(Pandas)에서 제공하는 또 다른 데이터 타입인 '시리즈(Series)'.  \n",
        "\n",
        "실제로 특정 열만 불러오고 타입을 확인해보면,"
      ]
    },
    {
      "cell_type": "code",
      "metadata": {
        "colab": {
          "base_uri": "https://localhost:8080/"
        },
        "id": "PHgBO8dE217b",
        "outputId": "0fbf04a2-ac42-4761-ca8a-f9d8e3e2733c"
      },
      "source": [
        "# 컬럼의 타입 확인\n",
        "type(drink_df.beer_servings)"
      ],
      "execution_count": null,
      "outputs": [
        {
          "output_type": "execute_result",
          "data": {
            "text/plain": [
              "pandas.core.series.Series"
            ]
          },
          "metadata": {
            "tags": []
          },
          "execution_count": 33
        }
      ]
    },
    {
      "cell_type": "markdown",
      "metadata": {
        "id": "vfhub9UAft5G"
      },
      "source": [
        "만약 하나의 열이 아니라 선택적으로 다수의 열에 접근려면\n",
        "\n",
        "`데이터프레임의 이름[['특정열의 이름1', '특정열의 이름2']]`\n",
        "\n",
        "와 같은 방식으로 접근.  \n",
        "예를 들어서 beer_servings과 wine_servings 2개의 열만을 불러온다면,"
      ]
    },
    {
      "cell_type": "code",
      "metadata": {
        "colab": {
          "base_uri": "https://localhost:8080/",
          "height": 417
        },
        "id": "bH82bBBg2-mY",
        "outputId": "69c2b988-6d9d-42f3-a635-12fba1b9eea5"
      },
      "source": [
        "drink_df[['beer_servings','wine_servings']] "
      ],
      "execution_count": null,
      "outputs": [
        {
          "output_type": "execute_result",
          "data": {
            "text/html": [
              "<div>\n",
              "<style scoped>\n",
              "    .dataframe tbody tr th:only-of-type {\n",
              "        vertical-align: middle;\n",
              "    }\n",
              "\n",
              "    .dataframe tbody tr th {\n",
              "        vertical-align: top;\n",
              "    }\n",
              "\n",
              "    .dataframe thead th {\n",
              "        text-align: right;\n",
              "    }\n",
              "</style>\n",
              "<table border=\"1\" class=\"dataframe\">\n",
              "  <thead>\n",
              "    <tr style=\"text-align: right;\">\n",
              "      <th></th>\n",
              "      <th>beer_servings</th>\n",
              "      <th>wine_servings</th>\n",
              "    </tr>\n",
              "  </thead>\n",
              "  <tbody>\n",
              "    <tr>\n",
              "      <th>0</th>\n",
              "      <td>0</td>\n",
              "      <td>0</td>\n",
              "    </tr>\n",
              "    <tr>\n",
              "      <th>1</th>\n",
              "      <td>89</td>\n",
              "      <td>54</td>\n",
              "    </tr>\n",
              "    <tr>\n",
              "      <th>2</th>\n",
              "      <td>25</td>\n",
              "      <td>14</td>\n",
              "    </tr>\n",
              "    <tr>\n",
              "      <th>3</th>\n",
              "      <td>245</td>\n",
              "      <td>312</td>\n",
              "    </tr>\n",
              "    <tr>\n",
              "      <th>4</th>\n",
              "      <td>217</td>\n",
              "      <td>45</td>\n",
              "    </tr>\n",
              "    <tr>\n",
              "      <th>...</th>\n",
              "      <td>...</td>\n",
              "      <td>...</td>\n",
              "    </tr>\n",
              "    <tr>\n",
              "      <th>188</th>\n",
              "      <td>333</td>\n",
              "      <td>3</td>\n",
              "    </tr>\n",
              "    <tr>\n",
              "      <th>189</th>\n",
              "      <td>111</td>\n",
              "      <td>1</td>\n",
              "    </tr>\n",
              "    <tr>\n",
              "      <th>190</th>\n",
              "      <td>6</td>\n",
              "      <td>0</td>\n",
              "    </tr>\n",
              "    <tr>\n",
              "      <th>191</th>\n",
              "      <td>32</td>\n",
              "      <td>4</td>\n",
              "    </tr>\n",
              "    <tr>\n",
              "      <th>192</th>\n",
              "      <td>64</td>\n",
              "      <td>4</td>\n",
              "    </tr>\n",
              "  </tbody>\n",
              "</table>\n",
              "<p>193 rows × 2 columns</p>\n",
              "</div>"
            ],
            "text/plain": [
              "     beer_servings  wine_servings\n",
              "0                0              0\n",
              "1               89             54\n",
              "2               25             14\n",
              "3              245            312\n",
              "4              217             45\n",
              "..             ...            ...\n",
              "188            333              3\n",
              "189            111              1\n",
              "190              6              0\n",
              "191             32              4\n",
              "192             64              4\n",
              "\n",
              "[193 rows x 2 columns]"
            ]
          },
          "metadata": {
            "tags": []
          },
          "execution_count": 34
        }
      ]
    },
    {
      "cell_type": "markdown",
      "metadata": {
        "id": "0eXCMqGEfwUF"
      },
      "source": [
        "두 개의 열만이 뽑힌 데이터프레임이 출력.\n",
        "\n",
        "['특정 열의 이름1', '특정 열의 이름2'] 은 파이썬 리스트 형태.\n",
        "\n",
        "파이썬 리스트의 형태로 열의 이름을 나열한 뒤에\n",
        "\n",
        "`데이터프레임의 이름[열의 이름이 나열된 파이썬 리스트]`\n",
        "\n",
        "를 사용해도 동일한 결과를 출력."
      ]
    },
    {
      "cell_type": "code",
      "metadata": {
        "colab": {
          "base_uri": "https://localhost:8080/",
          "height": 417
        },
        "id": "gSxHj4t83Bza",
        "outputId": "3c4c449e-20a6-4fba-b28e-d6b4d138062f"
      },
      "source": [
        "cols = ['beer_servings','wine_servings']\n",
        "drink_df[cols]"
      ],
      "execution_count": null,
      "outputs": [
        {
          "output_type": "execute_result",
          "data": {
            "text/html": [
              "<div>\n",
              "<style scoped>\n",
              "    .dataframe tbody tr th:only-of-type {\n",
              "        vertical-align: middle;\n",
              "    }\n",
              "\n",
              "    .dataframe tbody tr th {\n",
              "        vertical-align: top;\n",
              "    }\n",
              "\n",
              "    .dataframe thead th {\n",
              "        text-align: right;\n",
              "    }\n",
              "</style>\n",
              "<table border=\"1\" class=\"dataframe\">\n",
              "  <thead>\n",
              "    <tr style=\"text-align: right;\">\n",
              "      <th></th>\n",
              "      <th>beer_servings</th>\n",
              "      <th>wine_servings</th>\n",
              "    </tr>\n",
              "  </thead>\n",
              "  <tbody>\n",
              "    <tr>\n",
              "      <th>0</th>\n",
              "      <td>0</td>\n",
              "      <td>0</td>\n",
              "    </tr>\n",
              "    <tr>\n",
              "      <th>1</th>\n",
              "      <td>89</td>\n",
              "      <td>54</td>\n",
              "    </tr>\n",
              "    <tr>\n",
              "      <th>2</th>\n",
              "      <td>25</td>\n",
              "      <td>14</td>\n",
              "    </tr>\n",
              "    <tr>\n",
              "      <th>3</th>\n",
              "      <td>245</td>\n",
              "      <td>312</td>\n",
              "    </tr>\n",
              "    <tr>\n",
              "      <th>4</th>\n",
              "      <td>217</td>\n",
              "      <td>45</td>\n",
              "    </tr>\n",
              "    <tr>\n",
              "      <th>...</th>\n",
              "      <td>...</td>\n",
              "      <td>...</td>\n",
              "    </tr>\n",
              "    <tr>\n",
              "      <th>188</th>\n",
              "      <td>333</td>\n",
              "      <td>3</td>\n",
              "    </tr>\n",
              "    <tr>\n",
              "      <th>189</th>\n",
              "      <td>111</td>\n",
              "      <td>1</td>\n",
              "    </tr>\n",
              "    <tr>\n",
              "      <th>190</th>\n",
              "      <td>6</td>\n",
              "      <td>0</td>\n",
              "    </tr>\n",
              "    <tr>\n",
              "      <th>191</th>\n",
              "      <td>32</td>\n",
              "      <td>4</td>\n",
              "    </tr>\n",
              "    <tr>\n",
              "      <th>192</th>\n",
              "      <td>64</td>\n",
              "      <td>4</td>\n",
              "    </tr>\n",
              "  </tbody>\n",
              "</table>\n",
              "<p>193 rows × 2 columns</p>\n",
              "</div>"
            ],
            "text/plain": [
              "     beer_servings  wine_servings\n",
              "0                0              0\n",
              "1               89             54\n",
              "2               25             14\n",
              "3              245            312\n",
              "4              217             45\n",
              "..             ...            ...\n",
              "188            333              3\n",
              "189            111              1\n",
              "190              6              0\n",
              "191             32              4\n",
              "192             64              4\n",
              "\n",
              "[193 rows x 2 columns]"
            ]
          },
          "metadata": {
            "tags": []
          },
          "execution_count": 35
        }
      ]
    },
    {
      "cell_type": "markdown",
      "metadata": {
        "id": "0dQ1Cfrd0Gbd"
      },
      "source": [
        "## 데이터의 info 출력하기"
      ]
    },
    {
      "cell_type": "markdown",
      "metadata": {
        "id": "v5o9H0nqf8Sf"
      },
      "source": [
        "info()는 데이터프레임의 전반적인 정보를 보여줌.  \n",
        "info() 사용하고, info()를 통해 알 수 있는 정보들을 최대한 정리. "
      ]
    },
    {
      "cell_type": "code",
      "metadata": {
        "id": "HsTRcYs3xEUc",
        "colab": {
          "base_uri": "https://localhost:8080/"
        },
        "outputId": "73f1d192-90b7-4b3d-c093-e6418686909b"
      },
      "source": [
        "drink_df.info()"
      ],
      "execution_count": null,
      "outputs": [
        {
          "output_type": "stream",
          "text": [
            "<class 'pandas.core.frame.DataFrame'>\n",
            "RangeIndex: 193 entries, 0 to 192\n",
            "Data columns (total 6 columns):\n",
            " #   Column                        Non-Null Count  Dtype  \n",
            "---  ------                        --------------  -----  \n",
            " 0   country                       193 non-null    object \n",
            " 1   beer_servings                 193 non-null    int64  \n",
            " 2   spirit_servings               193 non-null    int64  \n",
            " 3   wine_servings                 193 non-null    int64  \n",
            " 4   total_litres_of_pure_alcohol  193 non-null    float64\n",
            " 5   continent                     170 non-null    object \n",
            "dtypes: float64(1), int64(3), object(2)\n",
            "memory usage: 9.2+ KB\n"
          ],
          "name": "stdout"
        }
      ]
    },
    {
      "cell_type": "markdown",
      "metadata": {
        "id": "2TagTpdRf-id"
      },
      "source": [
        "info()를 통해 다음과 같은 정보 추출 가능.\n",
        "\n",
        "해당 데이터는 다음과 같은 열 존재.\n",
        "\n",
        "머신 러닝 용어로는 데이터를 파악하기 위한 이러한 열을 **특성(feature)**\n",
        "\n",
        "즉, 총 6개의 특성.\n",
        "\n",
        "- country : 국가\n",
        "- beer_servings : 맥주 소비량\n",
        "- spiti_servings : spirit 소비량\n",
        "- wine_servings : wine 소비량\n",
        "- total_litres_of_pure_alcohol : 총 알코올 소비량\n",
        "- continent : 대륙 정보\n",
        "\n",
        "info()의 출력 결과로부터 총 193개의 데이터가 존재하며, contry, continet 데이터의 경우에는 object.  \n",
        "데이터프레임에서 object는 문자열을 의미  \n",
        "그 외에는 정수형 데이터(int64) 또는 실수형 데이터(float 64)로 구성.\n",
        "\n",
        "데이터의 총 개수는 193개인데, Non-Null Count를 보면 continent의 경우에만 170개가 있다. \n",
        "\n",
        "이는 Null 데이터. 다시 말해 결측 데이터가 23개 존재한다는 것을 의미."
      ]
    },
    {
      "cell_type": "markdown",
      "metadata": {
        "id": "F28-uQtCJlSn"
      },
      "source": [
        "## Null 데이터 파악하기"
      ]
    },
    {
      "cell_type": "markdown",
      "metadata": {
        "id": "iIOROwkjgCRm"
      },
      "source": [
        "isnull().sum()은 해당 데이터프레임의 각 열에서 Null 데이터가 총 몇 개인지를 출력."
      ]
    },
    {
      "cell_type": "code",
      "metadata": {
        "colab": {
          "base_uri": "https://localhost:8080/"
        },
        "id": "gWBAMLZmJnOg",
        "outputId": "bff948b2-5577-4487-c681-92daf36c2e4f"
      },
      "source": [
        "print(drink_df.isnull().sum())"
      ],
      "execution_count": null,
      "outputs": [
        {
          "output_type": "stream",
          "text": [
            "country                          0\n",
            "beer_servings                    0\n",
            "spirit_servings                  0\n",
            "wine_servings                    0\n",
            "total_litres_of_pure_alcohol     0\n",
            "continent                       23\n",
            "dtype: int64\n"
          ],
          "name": "stdout"
        }
      ]
    },
    {
      "cell_type": "markdown",
      "metadata": {
        "id": "91ZcnSxagEIk"
      },
      "source": [
        "continent라는 열에서 총 23개의 Null(결측) 데이터가 있음을 확인."
      ]
    },
    {
      "cell_type": "markdown",
      "metadata": {
        "id": "kfVVSW-U0MK7"
      },
      "source": [
        "## 특성의 수치 정보 파악하기"
      ]
    },
    {
      "cell_type": "markdown",
      "metadata": {
        "id": "xRThYCZAgFnh"
      },
      "source": [
        "숫자와 같은 수치 데이터를 다루고 있다면, 해당 데이터의 최솟값, 최댓값, 평균값 등을 파악하는 것은 데이터 파악의 첫 걸음.\n",
        "\n",
        "데이터가 데이터프레임 형태로 저장된 상황에서 이를 가장 빠르게 파악할 수 있는 방법은\n",
        "\n",
        "`describe()`를 사용하는 것."
      ]
    },
    {
      "cell_type": "code",
      "metadata": {
        "colab": {
          "base_uri": "https://localhost:8080/",
          "height": 295
        },
        "id": "a_Zgu_lnywLb",
        "outputId": "442910d4-7aaa-4924-c6ad-04541075d12d"
      },
      "source": [
        "drink_df.describe()"
      ],
      "execution_count": null,
      "outputs": [
        {
          "output_type": "execute_result",
          "data": {
            "text/html": [
              "<div>\n",
              "<style scoped>\n",
              "    .dataframe tbody tr th:only-of-type {\n",
              "        vertical-align: middle;\n",
              "    }\n",
              "\n",
              "    .dataframe tbody tr th {\n",
              "        vertical-align: top;\n",
              "    }\n",
              "\n",
              "    .dataframe thead th {\n",
              "        text-align: right;\n",
              "    }\n",
              "</style>\n",
              "<table border=\"1\" class=\"dataframe\">\n",
              "  <thead>\n",
              "    <tr style=\"text-align: right;\">\n",
              "      <th></th>\n",
              "      <th>beer_servings</th>\n",
              "      <th>spirit_servings</th>\n",
              "      <th>wine_servings</th>\n",
              "      <th>total_litres_of_pure_alcohol</th>\n",
              "    </tr>\n",
              "  </thead>\n",
              "  <tbody>\n",
              "    <tr>\n",
              "      <th>count</th>\n",
              "      <td>193.000000</td>\n",
              "      <td>193.000000</td>\n",
              "      <td>193.000000</td>\n",
              "      <td>193.000000</td>\n",
              "    </tr>\n",
              "    <tr>\n",
              "      <th>mean</th>\n",
              "      <td>106.160622</td>\n",
              "      <td>80.994819</td>\n",
              "      <td>49.450777</td>\n",
              "      <td>4.717098</td>\n",
              "    </tr>\n",
              "    <tr>\n",
              "      <th>std</th>\n",
              "      <td>101.143103</td>\n",
              "      <td>88.284312</td>\n",
              "      <td>79.697598</td>\n",
              "      <td>3.773298</td>\n",
              "    </tr>\n",
              "    <tr>\n",
              "      <th>min</th>\n",
              "      <td>0.000000</td>\n",
              "      <td>0.000000</td>\n",
              "      <td>0.000000</td>\n",
              "      <td>0.000000</td>\n",
              "    </tr>\n",
              "    <tr>\n",
              "      <th>25%</th>\n",
              "      <td>20.000000</td>\n",
              "      <td>4.000000</td>\n",
              "      <td>1.000000</td>\n",
              "      <td>1.300000</td>\n",
              "    </tr>\n",
              "    <tr>\n",
              "      <th>50%</th>\n",
              "      <td>76.000000</td>\n",
              "      <td>56.000000</td>\n",
              "      <td>8.000000</td>\n",
              "      <td>4.200000</td>\n",
              "    </tr>\n",
              "    <tr>\n",
              "      <th>75%</th>\n",
              "      <td>188.000000</td>\n",
              "      <td>128.000000</td>\n",
              "      <td>59.000000</td>\n",
              "      <td>7.200000</td>\n",
              "    </tr>\n",
              "    <tr>\n",
              "      <th>max</th>\n",
              "      <td>376.000000</td>\n",
              "      <td>438.000000</td>\n",
              "      <td>370.000000</td>\n",
              "      <td>14.400000</td>\n",
              "    </tr>\n",
              "  </tbody>\n",
              "</table>\n",
              "</div>"
            ],
            "text/plain": [
              "       beer_servings  ...  total_litres_of_pure_alcohol\n",
              "count     193.000000  ...                    193.000000\n",
              "mean      106.160622  ...                      4.717098\n",
              "std       101.143103  ...                      3.773298\n",
              "min         0.000000  ...                      0.000000\n",
              "25%        20.000000  ...                      1.300000\n",
              "50%        76.000000  ...                      4.200000\n",
              "75%       188.000000  ...                      7.200000\n",
              "max       376.000000  ...                     14.400000\n",
              "\n",
              "[8 rows x 4 columns]"
            ]
          },
          "metadata": {
            "tags": []
          },
          "execution_count": 41
        }
      ]
    },
    {
      "cell_type": "markdown",
      "metadata": {
        "id": "nztVUXr-CNzi"
      },
      "source": [
        "describe()는 데이터프레임의 총 데이터의 수(count), 평균(mean), 표준편차(std), 분위수(25%, 50%, 75%)를 파악하여 출력.  \n",
        " 하지만 이는 숫자. 즉, 수치 정보에 국한되어서 계산하므로 문자열 타입의 데이터였던 country 열과 continent 열은 제외."
      ]
    },
    {
      "cell_type": "markdown",
      "metadata": {
        "id": "etq92yI-CQ9j"
      },
      "source": [
        "특정 열에 대해서만 출력해볼 수도 있다."
      ]
    },
    {
      "cell_type": "code",
      "metadata": {
        "colab": {
          "base_uri": "https://localhost:8080/"
        },
        "id": "fpKP2Zvx97X6",
        "outputId": "d284c6b6-5937-4083-ce80-23826ad23ea8"
      },
      "source": [
        "drink_df.beer_servings.describe()"
      ],
      "execution_count": null,
      "outputs": [
        {
          "output_type": "execute_result",
          "data": {
            "text/plain": [
              "count    193.000000\n",
              "mean     106.160622\n",
              "std      101.143103\n",
              "min        0.000000\n",
              "25%       20.000000\n",
              "50%       76.000000\n",
              "75%      188.000000\n",
              "max      376.000000\n",
              "Name: beer_servings, dtype: float64"
            ]
          },
          "metadata": {
            "tags": []
          },
          "execution_count": 24
        }
      ]
    },
    {
      "cell_type": "markdown",
      "metadata": {
        "id": "q9Ou_DnIgJHo"
      },
      "source": [
        "특정 열의 최대값, 최소값, 평균값, 총 합, 카운트도 계산가능."
      ]
    },
    {
      "cell_type": "code",
      "metadata": {
        "colab": {
          "base_uri": "https://localhost:8080/"
        },
        "id": "aeMUOM3Q9-eA",
        "outputId": "de9a4892-5930-41d7-8fdb-907a30971cf8"
      },
      "source": [
        "drink_df.beer_servings.mean()"
      ],
      "execution_count": null,
      "outputs": [
        {
          "output_type": "execute_result",
          "data": {
            "text/plain": [
              "106.16062176165804"
            ]
          },
          "metadata": {
            "tags": []
          },
          "execution_count": 42
        }
      ]
    },
    {
      "cell_type": "code",
      "metadata": {
        "colab": {
          "base_uri": "https://localhost:8080/"
        },
        "id": "5wemr5i5-DHU",
        "outputId": "4ea8266a-927e-4419-ccf1-e8d29597303d"
      },
      "source": [
        "drink_df.beer_servings.max()"
      ],
      "execution_count": null,
      "outputs": [
        {
          "output_type": "execute_result",
          "data": {
            "text/plain": [
              "376"
            ]
          },
          "metadata": {
            "tags": []
          },
          "execution_count": 43
        }
      ]
    },
    {
      "cell_type": "code",
      "metadata": {
        "colab": {
          "base_uri": "https://localhost:8080/"
        },
        "id": "wva9vB6F-Eiw",
        "outputId": "7d8dafc6-9727-4992-e2eb-93a60b780e29"
      },
      "source": [
        "drink_df.beer_servings.min()"
      ],
      "execution_count": null,
      "outputs": [
        {
          "output_type": "execute_result",
          "data": {
            "text/plain": [
              "0"
            ]
          },
          "metadata": {
            "tags": []
          },
          "execution_count": 44
        }
      ]
    },
    {
      "cell_type": "code",
      "metadata": {
        "colab": {
          "base_uri": "https://localhost:8080/"
        },
        "id": "ovU-Yjyd-GNA",
        "outputId": "f2c4409f-ef56-464c-a911-fbfb3a3f51cc"
      },
      "source": [
        "drink_df.beer_servings.sum()"
      ],
      "execution_count": null,
      "outputs": [
        {
          "output_type": "execute_result",
          "data": {
            "text/plain": [
              "20489"
            ]
          },
          "metadata": {
            "tags": []
          },
          "execution_count": 45
        }
      ]
    },
    {
      "cell_type": "code",
      "metadata": {
        "colab": {
          "base_uri": "https://localhost:8080/"
        },
        "id": "11u7YoBS-Isx",
        "outputId": "0dbc7c27-cda9-439a-bb17-c76348405b94"
      },
      "source": [
        "drink_df.beer_servings.count()"
      ],
      "execution_count": null,
      "outputs": [
        {
          "output_type": "execute_result",
          "data": {
            "text/plain": [
              "193"
            ]
          },
          "metadata": {
            "tags": []
          },
          "execution_count": 46
        }
      ]
    },
    {
      "cell_type": "markdown",
      "metadata": {
        "id": "IbtWRHMYCVZL"
      },
      "source": [
        "이렇게 바로 계산한 수치를 뽑을 수 있다면, 이 수치를 가지고 계산도 가능하다.  \n",
        " mean()으로 평균을 바로 구할 수 있긴 하지만, sum()과 count()를 이용하여 평균을 계산해보기."
      ]
    },
    {
      "cell_type": "code",
      "metadata": {
        "colab": {
          "base_uri": "https://localhost:8080/"
        },
        "id": "n-plXG95-KJc",
        "outputId": "f7a0779a-88e7-4844-8b0d-10698dda6259"
      },
      "source": [
        "float(drink_df.beer_servings.sum())/drink_df.beer_servings.count()"
      ],
      "execution_count": null,
      "outputs": [
        {
          "output_type": "execute_result",
          "data": {
            "text/plain": [
              "106.16062176165804"
            ]
          },
          "metadata": {
            "tags": []
          },
          "execution_count": 47
        }
      ]
    },
    {
      "cell_type": "markdown",
      "metadata": {
        "id": "z5QUc67--XZj"
      },
      "source": [
        "## 조건부 로직 적용하기"
      ]
    },
    {
      "cell_type": "markdown",
      "metadata": {
        "id": "wqKXZewjgOqO"
      },
      "source": [
        "데이터프레임에 우리가 원하는 조건을 걸어서 해당 조건을 충족하는 값들만을 뽑아오는 것도 가능하다.  \n",
        " 우선 특정 열에 대해서 조건을 걸었을 때 어떤 값을 반환하는지 확인해보기.\n",
        "\n",
        "`데이터프레임의 이름.특정 열의 이름 == '특정값'`\n",
        "\n",
        "이라는 코드는 각 행에서 해당 조건을 만족하는지를 판단하여 만족한다면 True, 아니라면 False의 값을 가지는 시리즈(Series)를 리턴."
      ]
    },
    {
      "cell_type": "code",
      "metadata": {
        "colab": {
          "base_uri": "https://localhost:8080/"
        },
        "id": "kfiMbdDE-biy",
        "outputId": "75f48281-f0a7-4b00-8907-da92ffd14852"
      },
      "source": [
        "drink_df.continent=='EU'"
      ],
      "execution_count": null,
      "outputs": [
        {
          "output_type": "execute_result",
          "data": {
            "text/plain": [
              "0      False\n",
              "1       True\n",
              "2      False\n",
              "3       True\n",
              "4      False\n",
              "       ...  \n",
              "188    False\n",
              "189    False\n",
              "190    False\n",
              "191    False\n",
              "192    False\n",
              "Name: continent, Length: 193, dtype: bool"
            ]
          },
          "metadata": {
            "tags": []
          },
          "execution_count": 48
        }
      ]
    },
    {
      "cell_type": "markdown",
      "metadata": {
        "id": "4zkyrGeFgQbP"
      },
      "source": [
        "하지만 일반적으로 저런 조건을 걸었을 때 우리가 원하는 건 True와 False로 구성된 시리즈(Series)가 아니라 continent의 값이 'EU'일 때의 데이터프레임 값을 뽑아내는 것.\n",
        "\n",
        "이 경우에는 저렇게 True와 False로 구성된 Series를 다음과 같이 사용.\n",
        "\n",
        "`데이터프레임의 이름[True와 False로 구성된 시리즈]`"
      ]
    },
    {
      "cell_type": "code",
      "metadata": {
        "colab": {
          "base_uri": "https://localhost:8080/"
        },
        "id": "4vR_fV8cc2Z0",
        "outputId": "56fdaee4-50ae-42b3-938b-819d438cfb8b"
      },
      "source": [
        "type(drink_df.continent=='EU')"
      ],
      "execution_count": null,
      "outputs": [
        {
          "output_type": "execute_result",
          "data": {
            "text/plain": [
              "pandas.core.series.Series"
            ]
          },
          "metadata": {
            "tags": []
          },
          "execution_count": 32
        }
      ]
    },
    {
      "cell_type": "code",
      "metadata": {
        "colab": {
          "base_uri": "https://localhost:8080/",
          "height": 665
        },
        "id": "gQDoQg8P-eYW",
        "outputId": "a7f0fc6d-342a-4eb1-a383-f72a97f48a22"
      },
      "source": [
        "drink_df[drink_df.continent=='EU'].head(20)"
      ],
      "execution_count": null,
      "outputs": [
        {
          "output_type": "execute_result",
          "data": {
            "text/html": [
              "<div>\n",
              "<style scoped>\n",
              "    .dataframe tbody tr th:only-of-type {\n",
              "        vertical-align: middle;\n",
              "    }\n",
              "\n",
              "    .dataframe tbody tr th {\n",
              "        vertical-align: top;\n",
              "    }\n",
              "\n",
              "    .dataframe thead th {\n",
              "        text-align: right;\n",
              "    }\n",
              "</style>\n",
              "<table border=\"1\" class=\"dataframe\">\n",
              "  <thead>\n",
              "    <tr style=\"text-align: right;\">\n",
              "      <th></th>\n",
              "      <th>country</th>\n",
              "      <th>beer_servings</th>\n",
              "      <th>spirit_servings</th>\n",
              "      <th>wine_servings</th>\n",
              "      <th>total_litres_of_pure_alcohol</th>\n",
              "      <th>continent</th>\n",
              "    </tr>\n",
              "  </thead>\n",
              "  <tbody>\n",
              "    <tr>\n",
              "      <th>1</th>\n",
              "      <td>Albania</td>\n",
              "      <td>89</td>\n",
              "      <td>132</td>\n",
              "      <td>54</td>\n",
              "      <td>4.9</td>\n",
              "      <td>EU</td>\n",
              "    </tr>\n",
              "    <tr>\n",
              "      <th>3</th>\n",
              "      <td>Andorra</td>\n",
              "      <td>245</td>\n",
              "      <td>138</td>\n",
              "      <td>312</td>\n",
              "      <td>12.4</td>\n",
              "      <td>EU</td>\n",
              "    </tr>\n",
              "    <tr>\n",
              "      <th>7</th>\n",
              "      <td>Armenia</td>\n",
              "      <td>21</td>\n",
              "      <td>179</td>\n",
              "      <td>11</td>\n",
              "      <td>3.8</td>\n",
              "      <td>EU</td>\n",
              "    </tr>\n",
              "    <tr>\n",
              "      <th>9</th>\n",
              "      <td>Austria</td>\n",
              "      <td>279</td>\n",
              "      <td>75</td>\n",
              "      <td>191</td>\n",
              "      <td>9.7</td>\n",
              "      <td>EU</td>\n",
              "    </tr>\n",
              "    <tr>\n",
              "      <th>10</th>\n",
              "      <td>Azerbaijan</td>\n",
              "      <td>21</td>\n",
              "      <td>46</td>\n",
              "      <td>5</td>\n",
              "      <td>1.3</td>\n",
              "      <td>EU</td>\n",
              "    </tr>\n",
              "    <tr>\n",
              "      <th>15</th>\n",
              "      <td>Belarus</td>\n",
              "      <td>142</td>\n",
              "      <td>373</td>\n",
              "      <td>42</td>\n",
              "      <td>14.4</td>\n",
              "      <td>EU</td>\n",
              "    </tr>\n",
              "    <tr>\n",
              "      <th>16</th>\n",
              "      <td>Belgium</td>\n",
              "      <td>295</td>\n",
              "      <td>84</td>\n",
              "      <td>212</td>\n",
              "      <td>10.5</td>\n",
              "      <td>EU</td>\n",
              "    </tr>\n",
              "    <tr>\n",
              "      <th>21</th>\n",
              "      <td>Bosnia-Herzegovina</td>\n",
              "      <td>76</td>\n",
              "      <td>173</td>\n",
              "      <td>8</td>\n",
              "      <td>4.6</td>\n",
              "      <td>EU</td>\n",
              "    </tr>\n",
              "    <tr>\n",
              "      <th>25</th>\n",
              "      <td>Bulgaria</td>\n",
              "      <td>231</td>\n",
              "      <td>252</td>\n",
              "      <td>94</td>\n",
              "      <td>10.3</td>\n",
              "      <td>EU</td>\n",
              "    </tr>\n",
              "    <tr>\n",
              "      <th>42</th>\n",
              "      <td>Croatia</td>\n",
              "      <td>230</td>\n",
              "      <td>87</td>\n",
              "      <td>254</td>\n",
              "      <td>10.2</td>\n",
              "      <td>EU</td>\n",
              "    </tr>\n",
              "    <tr>\n",
              "      <th>44</th>\n",
              "      <td>Cyprus</td>\n",
              "      <td>192</td>\n",
              "      <td>154</td>\n",
              "      <td>113</td>\n",
              "      <td>8.2</td>\n",
              "      <td>EU</td>\n",
              "    </tr>\n",
              "    <tr>\n",
              "      <th>45</th>\n",
              "      <td>Czech Republic</td>\n",
              "      <td>361</td>\n",
              "      <td>170</td>\n",
              "      <td>134</td>\n",
              "      <td>11.8</td>\n",
              "      <td>EU</td>\n",
              "    </tr>\n",
              "    <tr>\n",
              "      <th>48</th>\n",
              "      <td>Denmark</td>\n",
              "      <td>224</td>\n",
              "      <td>81</td>\n",
              "      <td>278</td>\n",
              "      <td>10.4</td>\n",
              "      <td>EU</td>\n",
              "    </tr>\n",
              "    <tr>\n",
              "      <th>57</th>\n",
              "      <td>Estonia</td>\n",
              "      <td>224</td>\n",
              "      <td>194</td>\n",
              "      <td>59</td>\n",
              "      <td>9.5</td>\n",
              "      <td>EU</td>\n",
              "    </tr>\n",
              "    <tr>\n",
              "      <th>60</th>\n",
              "      <td>Finland</td>\n",
              "      <td>263</td>\n",
              "      <td>133</td>\n",
              "      <td>97</td>\n",
              "      <td>10.0</td>\n",
              "      <td>EU</td>\n",
              "    </tr>\n",
              "    <tr>\n",
              "      <th>61</th>\n",
              "      <td>France</td>\n",
              "      <td>127</td>\n",
              "      <td>151</td>\n",
              "      <td>370</td>\n",
              "      <td>11.8</td>\n",
              "      <td>EU</td>\n",
              "    </tr>\n",
              "    <tr>\n",
              "      <th>64</th>\n",
              "      <td>Georgia</td>\n",
              "      <td>52</td>\n",
              "      <td>100</td>\n",
              "      <td>149</td>\n",
              "      <td>5.4</td>\n",
              "      <td>EU</td>\n",
              "    </tr>\n",
              "    <tr>\n",
              "      <th>65</th>\n",
              "      <td>Germany</td>\n",
              "      <td>346</td>\n",
              "      <td>117</td>\n",
              "      <td>175</td>\n",
              "      <td>11.3</td>\n",
              "      <td>EU</td>\n",
              "    </tr>\n",
              "    <tr>\n",
              "      <th>67</th>\n",
              "      <td>Greece</td>\n",
              "      <td>133</td>\n",
              "      <td>112</td>\n",
              "      <td>218</td>\n",
              "      <td>8.3</td>\n",
              "      <td>EU</td>\n",
              "    </tr>\n",
              "    <tr>\n",
              "      <th>75</th>\n",
              "      <td>Hungary</td>\n",
              "      <td>234</td>\n",
              "      <td>215</td>\n",
              "      <td>185</td>\n",
              "      <td>11.3</td>\n",
              "      <td>EU</td>\n",
              "    </tr>\n",
              "  </tbody>\n",
              "</table>\n",
              "</div>"
            ],
            "text/plain": [
              "               country  beer_servings  ...  total_litres_of_pure_alcohol  continent\n",
              "1              Albania             89  ...                           4.9         EU\n",
              "3              Andorra            245  ...                          12.4         EU\n",
              "7              Armenia             21  ...                           3.8         EU\n",
              "9              Austria            279  ...                           9.7         EU\n",
              "10          Azerbaijan             21  ...                           1.3         EU\n",
              "15             Belarus            142  ...                          14.4         EU\n",
              "16             Belgium            295  ...                          10.5         EU\n",
              "21  Bosnia-Herzegovina             76  ...                           4.6         EU\n",
              "25            Bulgaria            231  ...                          10.3         EU\n",
              "42             Croatia            230  ...                          10.2         EU\n",
              "44              Cyprus            192  ...                           8.2         EU\n",
              "45      Czech Republic            361  ...                          11.8         EU\n",
              "48             Denmark            224  ...                          10.4         EU\n",
              "57             Estonia            224  ...                           9.5         EU\n",
              "60             Finland            263  ...                          10.0         EU\n",
              "61              France            127  ...                          11.8         EU\n",
              "64             Georgia             52  ...                           5.4         EU\n",
              "65             Germany            346  ...                          11.3         EU\n",
              "67              Greece            133  ...                           8.3         EU\n",
              "75             Hungary            234  ...                          11.3         EU\n",
              "\n",
              "[20 rows x 6 columns]"
            ]
          },
          "metadata": {
            "tags": []
          },
          "execution_count": 49
        }
      ]
    },
    {
      "cell_type": "markdown",
      "metadata": {
        "id": "BUNuXOakgS2e"
      },
      "source": [
        "그렇다면 만약 beer_servings의 값이 158보다 큰 경우만을 필터링하고 싶다면 어떨까요?\n",
        "\n",
        "앞서 데이터프레임의 열을 호출하는 방법으로 다음과 같이 두 가지를 소개했습니다.\n",
        "\n",
        "`데이터프레임의 이름.열의 이름`\n",
        "\n",
        "`데이터프레임의 이름['열의 이름']`\n",
        "\n",
        "데이터프레임에서 beer_servings의 값이 158보다 큰 경우로 필터링하여 데이터프레임을 뽑아내는 코드는 아래의 두 가지 방법 존재.\n",
        "\n",
        "drink_df[drink_df.beer_servings > 158]  \n",
        "drink_df[drink_df['beer_servings'] > 158]"
      ]
    },
    {
      "cell_type": "code",
      "metadata": {
        "colab": {
          "base_uri": "https://localhost:8080/"
        },
        "id": "OcXPoUJ7-lm6",
        "outputId": "34a8ee06-316e-4648-b45c-233be50b6c2b"
      },
      "source": [
        "# 아래 두 가지는 동일함\n",
        "# drink_df[drink_df.beer_servings > 158]\n",
        "# drink_df[drink_df['beer_servings'] > 158] \n",
        "drink_df[drink_df['beer_servings'] > 158].head(20)"
      ],
      "execution_count": null,
      "outputs": [
        {
          "output_type": "execute_result",
          "data": {
            "text/html": [
              "<div>\n",
              "<style scoped>\n",
              "    .dataframe tbody tr th:only-of-type {\n",
              "        vertical-align: middle;\n",
              "    }\n",
              "\n",
              "    .dataframe tbody tr th {\n",
              "        vertical-align: top;\n",
              "    }\n",
              "\n",
              "    .dataframe thead th {\n",
              "        text-align: right;\n",
              "    }\n",
              "</style>\n",
              "<table border=\"1\" class=\"dataframe\">\n",
              "  <thead>\n",
              "    <tr style=\"text-align: right;\">\n",
              "      <th></th>\n",
              "      <th>country</th>\n",
              "      <th>beer_servings</th>\n",
              "      <th>spirit_servings</th>\n",
              "      <th>wine_servings</th>\n",
              "      <th>total_litres_of_pure_alcohol</th>\n",
              "      <th>continent</th>\n",
              "    </tr>\n",
              "  </thead>\n",
              "  <tbody>\n",
              "    <tr>\n",
              "      <th>3</th>\n",
              "      <td>Andorra</td>\n",
              "      <td>245</td>\n",
              "      <td>138</td>\n",
              "      <td>312</td>\n",
              "      <td>12.4</td>\n",
              "      <td>EU</td>\n",
              "    </tr>\n",
              "    <tr>\n",
              "      <th>4</th>\n",
              "      <td>Angola</td>\n",
              "      <td>217</td>\n",
              "      <td>57</td>\n",
              "      <td>45</td>\n",
              "      <td>5.9</td>\n",
              "      <td>AF</td>\n",
              "    </tr>\n",
              "    <tr>\n",
              "      <th>6</th>\n",
              "      <td>Argentina</td>\n",
              "      <td>193</td>\n",
              "      <td>25</td>\n",
              "      <td>221</td>\n",
              "      <td>8.3</td>\n",
              "      <td>SA</td>\n",
              "    </tr>\n",
              "    <tr>\n",
              "      <th>8</th>\n",
              "      <td>Australia</td>\n",
              "      <td>261</td>\n",
              "      <td>72</td>\n",
              "      <td>212</td>\n",
              "      <td>10.4</td>\n",
              "      <td>OC</td>\n",
              "    </tr>\n",
              "    <tr>\n",
              "      <th>9</th>\n",
              "      <td>Austria</td>\n",
              "      <td>279</td>\n",
              "      <td>75</td>\n",
              "      <td>191</td>\n",
              "      <td>9.7</td>\n",
              "      <td>EU</td>\n",
              "    </tr>\n",
              "    <tr>\n",
              "      <th>16</th>\n",
              "      <td>Belgium</td>\n",
              "      <td>295</td>\n",
              "      <td>84</td>\n",
              "      <td>212</td>\n",
              "      <td>10.5</td>\n",
              "      <td>EU</td>\n",
              "    </tr>\n",
              "    <tr>\n",
              "      <th>17</th>\n",
              "      <td>Belize</td>\n",
              "      <td>263</td>\n",
              "      <td>114</td>\n",
              "      <td>8</td>\n",
              "      <td>6.8</td>\n",
              "      <td>NaN</td>\n",
              "    </tr>\n",
              "    <tr>\n",
              "      <th>20</th>\n",
              "      <td>Bolivia</td>\n",
              "      <td>167</td>\n",
              "      <td>41</td>\n",
              "      <td>8</td>\n",
              "      <td>3.8</td>\n",
              "      <td>SA</td>\n",
              "    </tr>\n",
              "    <tr>\n",
              "      <th>22</th>\n",
              "      <td>Botswana</td>\n",
              "      <td>173</td>\n",
              "      <td>35</td>\n",
              "      <td>35</td>\n",
              "      <td>5.4</td>\n",
              "      <td>AF</td>\n",
              "    </tr>\n",
              "    <tr>\n",
              "      <th>23</th>\n",
              "      <td>Brazil</td>\n",
              "      <td>245</td>\n",
              "      <td>145</td>\n",
              "      <td>16</td>\n",
              "      <td>7.2</td>\n",
              "      <td>SA</td>\n",
              "    </tr>\n",
              "    <tr>\n",
              "      <th>25</th>\n",
              "      <td>Bulgaria</td>\n",
              "      <td>231</td>\n",
              "      <td>252</td>\n",
              "      <td>94</td>\n",
              "      <td>10.3</td>\n",
              "      <td>EU</td>\n",
              "    </tr>\n",
              "    <tr>\n",
              "      <th>32</th>\n",
              "      <td>Canada</td>\n",
              "      <td>240</td>\n",
              "      <td>122</td>\n",
              "      <td>100</td>\n",
              "      <td>8.2</td>\n",
              "      <td>NaN</td>\n",
              "    </tr>\n",
              "    <tr>\n",
              "      <th>37</th>\n",
              "      <td>Colombia</td>\n",
              "      <td>159</td>\n",
              "      <td>76</td>\n",
              "      <td>3</td>\n",
              "      <td>4.2</td>\n",
              "      <td>SA</td>\n",
              "    </tr>\n",
              "    <tr>\n",
              "      <th>42</th>\n",
              "      <td>Croatia</td>\n",
              "      <td>230</td>\n",
              "      <td>87</td>\n",
              "      <td>254</td>\n",
              "      <td>10.2</td>\n",
              "      <td>EU</td>\n",
              "    </tr>\n",
              "    <tr>\n",
              "      <th>44</th>\n",
              "      <td>Cyprus</td>\n",
              "      <td>192</td>\n",
              "      <td>154</td>\n",
              "      <td>113</td>\n",
              "      <td>8.2</td>\n",
              "      <td>EU</td>\n",
              "    </tr>\n",
              "    <tr>\n",
              "      <th>45</th>\n",
              "      <td>Czech Republic</td>\n",
              "      <td>361</td>\n",
              "      <td>170</td>\n",
              "      <td>134</td>\n",
              "      <td>11.8</td>\n",
              "      <td>EU</td>\n",
              "    </tr>\n",
              "    <tr>\n",
              "      <th>48</th>\n",
              "      <td>Denmark</td>\n",
              "      <td>224</td>\n",
              "      <td>81</td>\n",
              "      <td>278</td>\n",
              "      <td>10.4</td>\n",
              "      <td>EU</td>\n",
              "    </tr>\n",
              "    <tr>\n",
              "      <th>51</th>\n",
              "      <td>Dominican Republic</td>\n",
              "      <td>193</td>\n",
              "      <td>147</td>\n",
              "      <td>9</td>\n",
              "      <td>6.2</td>\n",
              "      <td>NaN</td>\n",
              "    </tr>\n",
              "    <tr>\n",
              "      <th>52</th>\n",
              "      <td>Ecuador</td>\n",
              "      <td>162</td>\n",
              "      <td>74</td>\n",
              "      <td>3</td>\n",
              "      <td>4.2</td>\n",
              "      <td>SA</td>\n",
              "    </tr>\n",
              "    <tr>\n",
              "      <th>57</th>\n",
              "      <td>Estonia</td>\n",
              "      <td>224</td>\n",
              "      <td>194</td>\n",
              "      <td>59</td>\n",
              "      <td>9.5</td>\n",
              "      <td>EU</td>\n",
              "    </tr>\n",
              "  </tbody>\n",
              "</table>\n",
              "</div>"
            ],
            "text/plain": [
              "               country  beer_servings  ...  total_litres_of_pure_alcohol  continent\n",
              "3              Andorra            245  ...                          12.4         EU\n",
              "4               Angola            217  ...                           5.9         AF\n",
              "6            Argentina            193  ...                           8.3         SA\n",
              "8            Australia            261  ...                          10.4         OC\n",
              "9              Austria            279  ...                           9.7         EU\n",
              "16             Belgium            295  ...                          10.5         EU\n",
              "17              Belize            263  ...                           6.8        NaN\n",
              "20             Bolivia            167  ...                           3.8         SA\n",
              "22            Botswana            173  ...                           5.4         AF\n",
              "23              Brazil            245  ...                           7.2         SA\n",
              "25            Bulgaria            231  ...                          10.3         EU\n",
              "32              Canada            240  ...                           8.2        NaN\n",
              "37            Colombia            159  ...                           4.2         SA\n",
              "42             Croatia            230  ...                          10.2         EU\n",
              "44              Cyprus            192  ...                           8.2         EU\n",
              "45      Czech Republic            361  ...                          11.8         EU\n",
              "48             Denmark            224  ...                          10.4         EU\n",
              "51  Dominican Republic            193  ...                           6.2        NaN\n",
              "52             Ecuador            162  ...                           4.2         SA\n",
              "57             Estonia            224  ...                           9.5         EU\n",
              "\n",
              "[20 rows x 6 columns]"
            ]
          },
          "metadata": {
            "tags": []
          },
          "execution_count": 34
        }
      ]
    },
    {
      "cell_type": "markdown",
      "metadata": {
        "id": "Zzeip-E9gxRf"
      },
      "source": [
        "그렇다면 조건을 걸되, 특정 열 몇 개만 출력하고 싶다면?\n",
        "\n",
        "앞서 특정 열들만을 뽑아서 출력하는 방법을 아래와 같다.\n",
        "\n",
        "`데이터프레임의 이름[['특정 열의 이름1, '특정 열의 이름2']]`\n",
        "\n",
        "이를 응용하여 beer_servings의 값이 10 이하이면서 country, beer_servings의 두 개의 열만을 뽑아내는 방법은 다음과 같다.\n",
        "\n",
        "drink_df[drink_df.beer_servings <= 10][['country','beer_servings']]\n",
        "\n",
        "우선, drink_df[drink_df.beer_servings <= 10]로 조건에 맞는 데이터프레임을 뽑아낸 뒤에 이 데이터프레임에 [['country','beer_servings']]를 붙여서 2개의 열만을 뽑아내는 것."
      ]
    },
    {
      "cell_type": "code",
      "metadata": {
        "colab": {
          "base_uri": "https://localhost:8080/",
          "height": 1000
        },
        "id": "gel1D-81-oDo",
        "outputId": "f713ef5d-c9bb-4934-bb5d-5b5c7f74a5bd"
      },
      "source": [
        "drink_df[drink_df.beer_servings <= 10]"
      ],
      "execution_count": null,
      "outputs": [
        {
          "output_type": "execute_result",
          "data": {
            "text/html": [
              "<div>\n",
              "<style scoped>\n",
              "    .dataframe tbody tr th:only-of-type {\n",
              "        vertical-align: middle;\n",
              "    }\n",
              "\n",
              "    .dataframe tbody tr th {\n",
              "        vertical-align: top;\n",
              "    }\n",
              "\n",
              "    .dataframe thead th {\n",
              "        text-align: right;\n",
              "    }\n",
              "</style>\n",
              "<table border=\"1\" class=\"dataframe\">\n",
              "  <thead>\n",
              "    <tr style=\"text-align: right;\">\n",
              "      <th></th>\n",
              "      <th>country</th>\n",
              "      <th>beer_servings</th>\n",
              "      <th>spirit_servings</th>\n",
              "      <th>wine_servings</th>\n",
              "      <th>total_litres_of_pure_alcohol</th>\n",
              "      <th>continent</th>\n",
              "    </tr>\n",
              "  </thead>\n",
              "  <tbody>\n",
              "    <tr>\n",
              "      <th>0</th>\n",
              "      <td>Afghanistan</td>\n",
              "      <td>0</td>\n",
              "      <td>0</td>\n",
              "      <td>0</td>\n",
              "      <td>0.0</td>\n",
              "      <td>AS</td>\n",
              "    </tr>\n",
              "    <tr>\n",
              "      <th>13</th>\n",
              "      <td>Bangladesh</td>\n",
              "      <td>0</td>\n",
              "      <td>0</td>\n",
              "      <td>0</td>\n",
              "      <td>0.0</td>\n",
              "      <td>AS</td>\n",
              "    </tr>\n",
              "    <tr>\n",
              "      <th>38</th>\n",
              "      <td>Comoros</td>\n",
              "      <td>1</td>\n",
              "      <td>3</td>\n",
              "      <td>1</td>\n",
              "      <td>0.1</td>\n",
              "      <td>AF</td>\n",
              "    </tr>\n",
              "    <tr>\n",
              "      <th>40</th>\n",
              "      <td>Cook Islands</td>\n",
              "      <td>0</td>\n",
              "      <td>254</td>\n",
              "      <td>74</td>\n",
              "      <td>5.9</td>\n",
              "      <td>OC</td>\n",
              "    </tr>\n",
              "    <tr>\n",
              "      <th>46</th>\n",
              "      <td>North Korea</td>\n",
              "      <td>0</td>\n",
              "      <td>0</td>\n",
              "      <td>0</td>\n",
              "      <td>0.0</td>\n",
              "      <td>AS</td>\n",
              "    </tr>\n",
              "    <tr>\n",
              "      <th>53</th>\n",
              "      <td>Egypt</td>\n",
              "      <td>6</td>\n",
              "      <td>4</td>\n",
              "      <td>1</td>\n",
              "      <td>0.2</td>\n",
              "      <td>AF</td>\n",
              "    </tr>\n",
              "    <tr>\n",
              "      <th>63</th>\n",
              "      <td>Gambia</td>\n",
              "      <td>8</td>\n",
              "      <td>0</td>\n",
              "      <td>1</td>\n",
              "      <td>2.4</td>\n",
              "      <td>AF</td>\n",
              "    </tr>\n",
              "    <tr>\n",
              "      <th>70</th>\n",
              "      <td>Guinea</td>\n",
              "      <td>9</td>\n",
              "      <td>0</td>\n",
              "      <td>2</td>\n",
              "      <td>0.2</td>\n",
              "      <td>AF</td>\n",
              "    </tr>\n",
              "    <tr>\n",
              "      <th>73</th>\n",
              "      <td>Haiti</td>\n",
              "      <td>1</td>\n",
              "      <td>326</td>\n",
              "      <td>1</td>\n",
              "      <td>5.9</td>\n",
              "      <td>NaN</td>\n",
              "    </tr>\n",
              "    <tr>\n",
              "      <th>77</th>\n",
              "      <td>India</td>\n",
              "      <td>9</td>\n",
              "      <td>114</td>\n",
              "      <td>0</td>\n",
              "      <td>2.2</td>\n",
              "      <td>AS</td>\n",
              "    </tr>\n",
              "    <tr>\n",
              "      <th>78</th>\n",
              "      <td>Indonesia</td>\n",
              "      <td>5</td>\n",
              "      <td>1</td>\n",
              "      <td>0</td>\n",
              "      <td>0.1</td>\n",
              "      <td>AS</td>\n",
              "    </tr>\n",
              "    <tr>\n",
              "      <th>79</th>\n",
              "      <td>Iran</td>\n",
              "      <td>0</td>\n",
              "      <td>0</td>\n",
              "      <td>0</td>\n",
              "      <td>0.0</td>\n",
              "      <td>AS</td>\n",
              "    </tr>\n",
              "    <tr>\n",
              "      <th>80</th>\n",
              "      <td>Iraq</td>\n",
              "      <td>9</td>\n",
              "      <td>3</td>\n",
              "      <td>0</td>\n",
              "      <td>0.2</td>\n",
              "      <td>AS</td>\n",
              "    </tr>\n",
              "    <tr>\n",
              "      <th>86</th>\n",
              "      <td>Jordan</td>\n",
              "      <td>6</td>\n",
              "      <td>21</td>\n",
              "      <td>1</td>\n",
              "      <td>0.5</td>\n",
              "      <td>AS</td>\n",
              "    </tr>\n",
              "    <tr>\n",
              "      <th>90</th>\n",
              "      <td>Kuwait</td>\n",
              "      <td>0</td>\n",
              "      <td>0</td>\n",
              "      <td>0</td>\n",
              "      <td>0.0</td>\n",
              "      <td>AS</td>\n",
              "    </tr>\n",
              "    <tr>\n",
              "      <th>97</th>\n",
              "      <td>Libya</td>\n",
              "      <td>0</td>\n",
              "      <td>0</td>\n",
              "      <td>0</td>\n",
              "      <td>0.0</td>\n",
              "      <td>AF</td>\n",
              "    </tr>\n",
              "    <tr>\n",
              "      <th>101</th>\n",
              "      <td>Malawi</td>\n",
              "      <td>8</td>\n",
              "      <td>11</td>\n",
              "      <td>1</td>\n",
              "      <td>1.5</td>\n",
              "      <td>AF</td>\n",
              "    </tr>\n",
              "    <tr>\n",
              "      <th>103</th>\n",
              "      <td>Maldives</td>\n",
              "      <td>0</td>\n",
              "      <td>0</td>\n",
              "      <td>0</td>\n",
              "      <td>0.0</td>\n",
              "      <td>AS</td>\n",
              "    </tr>\n",
              "    <tr>\n",
              "      <th>104</th>\n",
              "      <td>Mali</td>\n",
              "      <td>5</td>\n",
              "      <td>1</td>\n",
              "      <td>1</td>\n",
              "      <td>0.6</td>\n",
              "      <td>AF</td>\n",
              "    </tr>\n",
              "    <tr>\n",
              "      <th>106</th>\n",
              "      <td>Marshall Islands</td>\n",
              "      <td>0</td>\n",
              "      <td>0</td>\n",
              "      <td>0</td>\n",
              "      <td>0.0</td>\n",
              "      <td>OC</td>\n",
              "    </tr>\n",
              "    <tr>\n",
              "      <th>107</th>\n",
              "      <td>Mauritania</td>\n",
              "      <td>0</td>\n",
              "      <td>0</td>\n",
              "      <td>0</td>\n",
              "      <td>0.0</td>\n",
              "      <td>AF</td>\n",
              "    </tr>\n",
              "    <tr>\n",
              "      <th>111</th>\n",
              "      <td>Monaco</td>\n",
              "      <td>0</td>\n",
              "      <td>0</td>\n",
              "      <td>0</td>\n",
              "      <td>0.0</td>\n",
              "      <td>EU</td>\n",
              "    </tr>\n",
              "    <tr>\n",
              "      <th>116</th>\n",
              "      <td>Myanmar</td>\n",
              "      <td>5</td>\n",
              "      <td>1</td>\n",
              "      <td>0</td>\n",
              "      <td>0.1</td>\n",
              "      <td>AS</td>\n",
              "    </tr>\n",
              "    <tr>\n",
              "      <th>119</th>\n",
              "      <td>Nepal</td>\n",
              "      <td>5</td>\n",
              "      <td>6</td>\n",
              "      <td>0</td>\n",
              "      <td>0.2</td>\n",
              "      <td>AS</td>\n",
              "    </tr>\n",
              "    <tr>\n",
              "      <th>123</th>\n",
              "      <td>Niger</td>\n",
              "      <td>3</td>\n",
              "      <td>2</td>\n",
              "      <td>1</td>\n",
              "      <td>0.1</td>\n",
              "      <td>AF</td>\n",
              "    </tr>\n",
              "    <tr>\n",
              "      <th>128</th>\n",
              "      <td>Pakistan</td>\n",
              "      <td>0</td>\n",
              "      <td>0</td>\n",
              "      <td>0</td>\n",
              "      <td>0.0</td>\n",
              "      <td>AS</td>\n",
              "    </tr>\n",
              "    <tr>\n",
              "      <th>137</th>\n",
              "      <td>Qatar</td>\n",
              "      <td>1</td>\n",
              "      <td>42</td>\n",
              "      <td>7</td>\n",
              "      <td>0.9</td>\n",
              "      <td>AS</td>\n",
              "    </tr>\n",
              "    <tr>\n",
              "      <th>147</th>\n",
              "      <td>San Marino</td>\n",
              "      <td>0</td>\n",
              "      <td>0</td>\n",
              "      <td>0</td>\n",
              "      <td>0.0</td>\n",
              "      <td>EU</td>\n",
              "    </tr>\n",
              "    <tr>\n",
              "      <th>149</th>\n",
              "      <td>Saudi Arabia</td>\n",
              "      <td>0</td>\n",
              "      <td>5</td>\n",
              "      <td>0</td>\n",
              "      <td>0.1</td>\n",
              "      <td>AS</td>\n",
              "    </tr>\n",
              "    <tr>\n",
              "      <th>150</th>\n",
              "      <td>Senegal</td>\n",
              "      <td>9</td>\n",
              "      <td>1</td>\n",
              "      <td>7</td>\n",
              "      <td>0.3</td>\n",
              "      <td>AF</td>\n",
              "    </tr>\n",
              "    <tr>\n",
              "      <th>158</th>\n",
              "      <td>Somalia</td>\n",
              "      <td>0</td>\n",
              "      <td>0</td>\n",
              "      <td>0</td>\n",
              "      <td>0.0</td>\n",
              "      <td>AF</td>\n",
              "    </tr>\n",
              "    <tr>\n",
              "      <th>162</th>\n",
              "      <td>Sudan</td>\n",
              "      <td>8</td>\n",
              "      <td>13</td>\n",
              "      <td>0</td>\n",
              "      <td>1.7</td>\n",
              "      <td>AF</td>\n",
              "    </tr>\n",
              "    <tr>\n",
              "      <th>167</th>\n",
              "      <td>Syria</td>\n",
              "      <td>5</td>\n",
              "      <td>35</td>\n",
              "      <td>16</td>\n",
              "      <td>1.0</td>\n",
              "      <td>AS</td>\n",
              "    </tr>\n",
              "    <tr>\n",
              "      <th>168</th>\n",
              "      <td>Tajikistan</td>\n",
              "      <td>2</td>\n",
              "      <td>15</td>\n",
              "      <td>0</td>\n",
              "      <td>0.3</td>\n",
              "      <td>AS</td>\n",
              "    </tr>\n",
              "    <tr>\n",
              "      <th>171</th>\n",
              "      <td>Timor-Leste</td>\n",
              "      <td>1</td>\n",
              "      <td>1</td>\n",
              "      <td>4</td>\n",
              "      <td>0.1</td>\n",
              "      <td>AS</td>\n",
              "    </tr>\n",
              "    <tr>\n",
              "      <th>178</th>\n",
              "      <td>Tuvalu</td>\n",
              "      <td>6</td>\n",
              "      <td>41</td>\n",
              "      <td>9</td>\n",
              "      <td>1.0</td>\n",
              "      <td>OC</td>\n",
              "    </tr>\n",
              "    <tr>\n",
              "      <th>190</th>\n",
              "      <td>Yemen</td>\n",
              "      <td>6</td>\n",
              "      <td>0</td>\n",
              "      <td>0</td>\n",
              "      <td>0.1</td>\n",
              "      <td>AS</td>\n",
              "    </tr>\n",
              "  </tbody>\n",
              "</table>\n",
              "</div>"
            ],
            "text/plain": [
              "              country  beer_servings  ...  total_litres_of_pure_alcohol  continent\n",
              "0         Afghanistan              0  ...                           0.0         AS\n",
              "13         Bangladesh              0  ...                           0.0         AS\n",
              "38            Comoros              1  ...                           0.1         AF\n",
              "40       Cook Islands              0  ...                           5.9         OC\n",
              "46        North Korea              0  ...                           0.0         AS\n",
              "53              Egypt              6  ...                           0.2         AF\n",
              "63             Gambia              8  ...                           2.4         AF\n",
              "70             Guinea              9  ...                           0.2         AF\n",
              "73              Haiti              1  ...                           5.9        NaN\n",
              "77              India              9  ...                           2.2         AS\n",
              "78          Indonesia              5  ...                           0.1         AS\n",
              "79               Iran              0  ...                           0.0         AS\n",
              "80               Iraq              9  ...                           0.2         AS\n",
              "86             Jordan              6  ...                           0.5         AS\n",
              "90             Kuwait              0  ...                           0.0         AS\n",
              "97              Libya              0  ...                           0.0         AF\n",
              "101            Malawi              8  ...                           1.5         AF\n",
              "103          Maldives              0  ...                           0.0         AS\n",
              "104              Mali              5  ...                           0.6         AF\n",
              "106  Marshall Islands              0  ...                           0.0         OC\n",
              "107        Mauritania              0  ...                           0.0         AF\n",
              "111            Monaco              0  ...                           0.0         EU\n",
              "116           Myanmar              5  ...                           0.1         AS\n",
              "119             Nepal              5  ...                           0.2         AS\n",
              "123             Niger              3  ...                           0.1         AF\n",
              "128          Pakistan              0  ...                           0.0         AS\n",
              "137             Qatar              1  ...                           0.9         AS\n",
              "147        San Marino              0  ...                           0.0         EU\n",
              "149      Saudi Arabia              0  ...                           0.1         AS\n",
              "150           Senegal              9  ...                           0.3         AF\n",
              "158           Somalia              0  ...                           0.0         AF\n",
              "162             Sudan              8  ...                           1.7         AF\n",
              "167             Syria              5  ...                           1.0         AS\n",
              "168        Tajikistan              2  ...                           0.3         AS\n",
              "171       Timor-Leste              1  ...                           0.1         AS\n",
              "178            Tuvalu              6  ...                           1.0         OC\n",
              "190             Yemen              6  ...                           0.1         AS\n",
              "\n",
              "[37 rows x 6 columns]"
            ]
          },
          "metadata": {
            "tags": []
          },
          "execution_count": 50
        }
      ]
    },
    {
      "cell_type": "code",
      "metadata": {
        "colab": {
          "base_uri": "https://localhost:8080/"
        },
        "id": "nWfLouZe-6Gg",
        "outputId": "e0c60ae4-688c-4111-af26-80973a820a84"
      },
      "source": [
        "# drink_df[drinks.beer_servings <= 10]는 데이터프레임이다. \n",
        "drink_df[drink_df.beer_servings <= 10][['country','beer_servings']].head(20)"
      ],
      "execution_count": null,
      "outputs": [
        {
          "output_type": "execute_result",
          "data": {
            "text/html": [
              "<div>\n",
              "<style scoped>\n",
              "    .dataframe tbody tr th:only-of-type {\n",
              "        vertical-align: middle;\n",
              "    }\n",
              "\n",
              "    .dataframe tbody tr th {\n",
              "        vertical-align: top;\n",
              "    }\n",
              "\n",
              "    .dataframe thead th {\n",
              "        text-align: right;\n",
              "    }\n",
              "</style>\n",
              "<table border=\"1\" class=\"dataframe\">\n",
              "  <thead>\n",
              "    <tr style=\"text-align: right;\">\n",
              "      <th></th>\n",
              "      <th>country</th>\n",
              "      <th>beer_servings</th>\n",
              "    </tr>\n",
              "  </thead>\n",
              "  <tbody>\n",
              "    <tr>\n",
              "      <th>0</th>\n",
              "      <td>Afghanistan</td>\n",
              "      <td>0</td>\n",
              "    </tr>\n",
              "    <tr>\n",
              "      <th>13</th>\n",
              "      <td>Bangladesh</td>\n",
              "      <td>0</td>\n",
              "    </tr>\n",
              "    <tr>\n",
              "      <th>38</th>\n",
              "      <td>Comoros</td>\n",
              "      <td>1</td>\n",
              "    </tr>\n",
              "    <tr>\n",
              "      <th>40</th>\n",
              "      <td>Cook Islands</td>\n",
              "      <td>0</td>\n",
              "    </tr>\n",
              "    <tr>\n",
              "      <th>46</th>\n",
              "      <td>North Korea</td>\n",
              "      <td>0</td>\n",
              "    </tr>\n",
              "    <tr>\n",
              "      <th>53</th>\n",
              "      <td>Egypt</td>\n",
              "      <td>6</td>\n",
              "    </tr>\n",
              "    <tr>\n",
              "      <th>63</th>\n",
              "      <td>Gambia</td>\n",
              "      <td>8</td>\n",
              "    </tr>\n",
              "    <tr>\n",
              "      <th>70</th>\n",
              "      <td>Guinea</td>\n",
              "      <td>9</td>\n",
              "    </tr>\n",
              "    <tr>\n",
              "      <th>73</th>\n",
              "      <td>Haiti</td>\n",
              "      <td>1</td>\n",
              "    </tr>\n",
              "    <tr>\n",
              "      <th>77</th>\n",
              "      <td>India</td>\n",
              "      <td>9</td>\n",
              "    </tr>\n",
              "    <tr>\n",
              "      <th>78</th>\n",
              "      <td>Indonesia</td>\n",
              "      <td>5</td>\n",
              "    </tr>\n",
              "    <tr>\n",
              "      <th>79</th>\n",
              "      <td>Iran</td>\n",
              "      <td>0</td>\n",
              "    </tr>\n",
              "    <tr>\n",
              "      <th>80</th>\n",
              "      <td>Iraq</td>\n",
              "      <td>9</td>\n",
              "    </tr>\n",
              "    <tr>\n",
              "      <th>86</th>\n",
              "      <td>Jordan</td>\n",
              "      <td>6</td>\n",
              "    </tr>\n",
              "    <tr>\n",
              "      <th>90</th>\n",
              "      <td>Kuwait</td>\n",
              "      <td>0</td>\n",
              "    </tr>\n",
              "    <tr>\n",
              "      <th>97</th>\n",
              "      <td>Libya</td>\n",
              "      <td>0</td>\n",
              "    </tr>\n",
              "    <tr>\n",
              "      <th>101</th>\n",
              "      <td>Malawi</td>\n",
              "      <td>8</td>\n",
              "    </tr>\n",
              "    <tr>\n",
              "      <th>103</th>\n",
              "      <td>Maldives</td>\n",
              "      <td>0</td>\n",
              "    </tr>\n",
              "    <tr>\n",
              "      <th>104</th>\n",
              "      <td>Mali</td>\n",
              "      <td>5</td>\n",
              "    </tr>\n",
              "    <tr>\n",
              "      <th>106</th>\n",
              "      <td>Marshall Islands</td>\n",
              "      <td>0</td>\n",
              "    </tr>\n",
              "  </tbody>\n",
              "</table>\n",
              "</div>"
            ],
            "text/plain": [
              "              country  beer_servings\n",
              "0         Afghanistan              0\n",
              "13         Bangladesh              0\n",
              "38            Comoros              1\n",
              "40       Cook Islands              0\n",
              "46        North Korea              0\n",
              "53              Egypt              6\n",
              "63             Gambia              8\n",
              "70             Guinea              9\n",
              "73              Haiti              1\n",
              "77              India              9\n",
              "78          Indonesia              5\n",
              "79               Iran              0\n",
              "80               Iraq              9\n",
              "86             Jordan              6\n",
              "90             Kuwait              0\n",
              "97              Libya              0\n",
              "101            Malawi              8\n",
              "103          Maldives              0\n",
              "104              Mali              5\n",
              "106  Marshall Islands              0"
            ]
          },
          "metadata": {
            "tags": []
          },
          "execution_count": 36
        }
      ]
    },
    {
      "cell_type": "markdown",
      "metadata": {
        "id": "-fZ2AXHvg63O"
      },
      "source": [
        "조건으로 필터링하여 시리즈(Series)를 얻어낸 뒤에 평균(mean) 출력."
      ]
    },
    {
      "cell_type": "code",
      "metadata": {
        "colab": {
          "base_uri": "https://localhost:8080/"
        },
        "id": "htWFFC5Z_D_X",
        "outputId": "86607db8-e9f3-445b-abe7-753613401764"
      },
      "source": [
        "drink_df[drink_df.continent=='EU'].beer_servings.mean()"
      ],
      "execution_count": null,
      "outputs": [
        {
          "output_type": "execute_result",
          "data": {
            "text/plain": [
              "193.77777777777777"
            ]
          },
          "metadata": {
            "tags": []
          },
          "execution_count": 51
        }
      ]
    },
    {
      "cell_type": "markdown",
      "metadata": {
        "id": "VVvzU9mUg8Od"
      },
      "source": [
        "위 코드는 continent의 값이 'EU'인 경우로 데이터프레임을 뽑아내지만, 그 중 beer_servings라는 하나의 열만을 뽑아내므로 (앞서 열을 하나만 뽑을 경우 데이터프레임이 아니라 시리즈.) 시리즈로 변환되며,  \n",
        " 시리즈에 대해서 mean()을 사용하여 평균값을 출력.  \n",
        "  결과적으로 continent의 값이 EU인 beer_servings 열의 평균값(mean)을 얻게 되는 것.\n",
        "\n",
        "beer_servings 열의 평균값을 조건에 넣어보면."
      ]
    },
    {
      "cell_type": "code",
      "metadata": {
        "colab": {
          "base_uri": "https://localhost:8080/"
        },
        "id": "oxrtiPi9AHpS",
        "outputId": "f67231f2-ba28-4cee-ebf1-6405874f47ad"
      },
      "source": [
        "drink_df[drink_df.beer_servings > drink_df.beer_servings.mean()]"
      ],
      "execution_count": null,
      "outputs": [
        {
          "output_type": "execute_result",
          "data": {
            "text/html": [
              "<div>\n",
              "<style scoped>\n",
              "    .dataframe tbody tr th:only-of-type {\n",
              "        vertical-align: middle;\n",
              "    }\n",
              "\n",
              "    .dataframe tbody tr th {\n",
              "        vertical-align: top;\n",
              "    }\n",
              "\n",
              "    .dataframe thead th {\n",
              "        text-align: right;\n",
              "    }\n",
              "</style>\n",
              "<table border=\"1\" class=\"dataframe\">\n",
              "  <thead>\n",
              "    <tr style=\"text-align: right;\">\n",
              "      <th></th>\n",
              "      <th>country</th>\n",
              "      <th>beer_servings</th>\n",
              "      <th>spirit_servings</th>\n",
              "      <th>wine_servings</th>\n",
              "      <th>total_litres_of_pure_alcohol</th>\n",
              "      <th>continent</th>\n",
              "    </tr>\n",
              "  </thead>\n",
              "  <tbody>\n",
              "    <tr>\n",
              "      <th>3</th>\n",
              "      <td>Andorra</td>\n",
              "      <td>245</td>\n",
              "      <td>138</td>\n",
              "      <td>312</td>\n",
              "      <td>12.4</td>\n",
              "      <td>EU</td>\n",
              "    </tr>\n",
              "    <tr>\n",
              "      <th>4</th>\n",
              "      <td>Angola</td>\n",
              "      <td>217</td>\n",
              "      <td>57</td>\n",
              "      <td>45</td>\n",
              "      <td>5.9</td>\n",
              "      <td>AF</td>\n",
              "    </tr>\n",
              "    <tr>\n",
              "      <th>6</th>\n",
              "      <td>Argentina</td>\n",
              "      <td>193</td>\n",
              "      <td>25</td>\n",
              "      <td>221</td>\n",
              "      <td>8.3</td>\n",
              "      <td>SA</td>\n",
              "    </tr>\n",
              "    <tr>\n",
              "      <th>8</th>\n",
              "      <td>Australia</td>\n",
              "      <td>261</td>\n",
              "      <td>72</td>\n",
              "      <td>212</td>\n",
              "      <td>10.4</td>\n",
              "      <td>OC</td>\n",
              "    </tr>\n",
              "    <tr>\n",
              "      <th>9</th>\n",
              "      <td>Austria</td>\n",
              "      <td>279</td>\n",
              "      <td>75</td>\n",
              "      <td>191</td>\n",
              "      <td>9.7</td>\n",
              "      <td>EU</td>\n",
              "    </tr>\n",
              "    <tr>\n",
              "      <th>...</th>\n",
              "      <td>...</td>\n",
              "      <td>...</td>\n",
              "      <td>...</td>\n",
              "      <td>...</td>\n",
              "      <td>...</td>\n",
              "      <td>...</td>\n",
              "    </tr>\n",
              "    <tr>\n",
              "      <th>182</th>\n",
              "      <td>United Kingdom</td>\n",
              "      <td>219</td>\n",
              "      <td>126</td>\n",
              "      <td>195</td>\n",
              "      <td>10.4</td>\n",
              "      <td>EU</td>\n",
              "    </tr>\n",
              "    <tr>\n",
              "      <th>184</th>\n",
              "      <td>USA</td>\n",
              "      <td>249</td>\n",
              "      <td>158</td>\n",
              "      <td>84</td>\n",
              "      <td>8.7</td>\n",
              "      <td>NaN</td>\n",
              "    </tr>\n",
              "    <tr>\n",
              "      <th>185</th>\n",
              "      <td>Uruguay</td>\n",
              "      <td>115</td>\n",
              "      <td>35</td>\n",
              "      <td>220</td>\n",
              "      <td>6.6</td>\n",
              "      <td>SA</td>\n",
              "    </tr>\n",
              "    <tr>\n",
              "      <th>188</th>\n",
              "      <td>Venezuela</td>\n",
              "      <td>333</td>\n",
              "      <td>100</td>\n",
              "      <td>3</td>\n",
              "      <td>7.7</td>\n",
              "      <td>SA</td>\n",
              "    </tr>\n",
              "    <tr>\n",
              "      <th>189</th>\n",
              "      <td>Vietnam</td>\n",
              "      <td>111</td>\n",
              "      <td>2</td>\n",
              "      <td>1</td>\n",
              "      <td>2.0</td>\n",
              "      <td>AS</td>\n",
              "    </tr>\n",
              "  </tbody>\n",
              "</table>\n",
              "<p>76 rows × 6 columns</p>\n",
              "</div>"
            ],
            "text/plain": [
              "            country  beer_servings  ...  total_litres_of_pure_alcohol  continent\n",
              "3           Andorra            245  ...                          12.4         EU\n",
              "4            Angola            217  ...                           5.9         AF\n",
              "6         Argentina            193  ...                           8.3         SA\n",
              "8         Australia            261  ...                          10.4         OC\n",
              "9           Austria            279  ...                           9.7         EU\n",
              "..              ...            ...  ...                           ...        ...\n",
              "182  United Kingdom            219  ...                          10.4         EU\n",
              "184             USA            249  ...                           8.7        NaN\n",
              "185         Uruguay            115  ...                           6.6         SA\n",
              "188       Venezuela            333  ...                           7.7         SA\n",
              "189         Vietnam            111  ...                           2.0         AS\n",
              "\n",
              "[76 rows x 6 columns]"
            ]
          },
          "metadata": {
            "tags": []
          },
          "execution_count": 38
        }
      ]
    },
    {
      "cell_type": "markdown",
      "metadata": {
        "id": "oDfi34b4g-CE"
      },
      "source": [
        "해당 열에 null 값(결측값)이 존재하는지 유무에 대한 True와 False의 시리즈(Series)로 얻어내는 방법은 해당 열의 isnull()을 하면 알 수 있다.  \n",
        " isnull()은 해당 행에 Null 값이 들어있는 경우만 True를 리턴하고, 아니라면 False를 리턴."
      ]
    },
    {
      "cell_type": "code",
      "metadata": {
        "colab": {
          "base_uri": "https://localhost:8080/"
        },
        "id": "LFGa-0CS_OJl",
        "outputId": "76c83301-e424-495a-e5ba-993d50077e49"
      },
      "source": [
        "drink_df.continent.isnull()"
      ],
      "execution_count": null,
      "outputs": [
        {
          "output_type": "execute_result",
          "data": {
            "text/plain": [
              "0      False\n",
              "1      False\n",
              "2      False\n",
              "3      False\n",
              "4      False\n",
              "       ...  \n",
              "188    False\n",
              "189    False\n",
              "190    False\n",
              "191    False\n",
              "192    False\n",
              "Name: continent, Length: 193, dtype: bool"
            ]
          },
          "metadata": {
            "tags": []
          },
          "execution_count": 52
        }
      ]
    },
    {
      "cell_type": "code",
      "metadata": {
        "colab": {
          "base_uri": "https://localhost:8080/"
        },
        "id": "f1FgvDyD0RuZ",
        "outputId": "f57b8503-37d5-4ad3-8be0-2cb74be63975"
      },
      "source": [
        "drink_df.continent.isnull().sum()"
      ],
      "execution_count": null,
      "outputs": [
        {
          "output_type": "execute_result",
          "data": {
            "text/plain": [
              "23"
            ]
          },
          "metadata": {
            "tags": []
          },
          "execution_count": 53
        }
      ]
    },
    {
      "cell_type": "markdown",
      "metadata": {
        "id": "sgUxqVBDg-7E"
      },
      "source": [
        "이를 이용하면 데이터프레임에서 특정 열에 Null 값이 위치한 경우만 뽑을 수 있다."
      ]
    },
    {
      "cell_type": "code",
      "metadata": {
        "colab": {
          "base_uri": "https://localhost:8080/",
          "height": 758
        },
        "id": "JrnWklWi_O9X",
        "outputId": "a33f6540-f786-42d1-8c58-ed29874055e0"
      },
      "source": [
        "drink_df[drink_df.continent.isnull()]"
      ],
      "execution_count": null,
      "outputs": [
        {
          "output_type": "execute_result",
          "data": {
            "text/html": [
              "<div>\n",
              "<style scoped>\n",
              "    .dataframe tbody tr th:only-of-type {\n",
              "        vertical-align: middle;\n",
              "    }\n",
              "\n",
              "    .dataframe tbody tr th {\n",
              "        vertical-align: top;\n",
              "    }\n",
              "\n",
              "    .dataframe thead th {\n",
              "        text-align: right;\n",
              "    }\n",
              "</style>\n",
              "<table border=\"1\" class=\"dataframe\">\n",
              "  <thead>\n",
              "    <tr style=\"text-align: right;\">\n",
              "      <th></th>\n",
              "      <th>country</th>\n",
              "      <th>beer_servings</th>\n",
              "      <th>spirit_servings</th>\n",
              "      <th>wine_servings</th>\n",
              "      <th>total_litres_of_pure_alcohol</th>\n",
              "      <th>continent</th>\n",
              "    </tr>\n",
              "  </thead>\n",
              "  <tbody>\n",
              "    <tr>\n",
              "      <th>5</th>\n",
              "      <td>Antigua &amp; Barbuda</td>\n",
              "      <td>102</td>\n",
              "      <td>128</td>\n",
              "      <td>45</td>\n",
              "      <td>4.9</td>\n",
              "      <td>NaN</td>\n",
              "    </tr>\n",
              "    <tr>\n",
              "      <th>11</th>\n",
              "      <td>Bahamas</td>\n",
              "      <td>122</td>\n",
              "      <td>176</td>\n",
              "      <td>51</td>\n",
              "      <td>6.3</td>\n",
              "      <td>NaN</td>\n",
              "    </tr>\n",
              "    <tr>\n",
              "      <th>14</th>\n",
              "      <td>Barbados</td>\n",
              "      <td>143</td>\n",
              "      <td>173</td>\n",
              "      <td>36</td>\n",
              "      <td>6.3</td>\n",
              "      <td>NaN</td>\n",
              "    </tr>\n",
              "    <tr>\n",
              "      <th>17</th>\n",
              "      <td>Belize</td>\n",
              "      <td>263</td>\n",
              "      <td>114</td>\n",
              "      <td>8</td>\n",
              "      <td>6.8</td>\n",
              "      <td>NaN</td>\n",
              "    </tr>\n",
              "    <tr>\n",
              "      <th>32</th>\n",
              "      <td>Canada</td>\n",
              "      <td>240</td>\n",
              "      <td>122</td>\n",
              "      <td>100</td>\n",
              "      <td>8.2</td>\n",
              "      <td>NaN</td>\n",
              "    </tr>\n",
              "    <tr>\n",
              "      <th>41</th>\n",
              "      <td>Costa Rica</td>\n",
              "      <td>149</td>\n",
              "      <td>87</td>\n",
              "      <td>11</td>\n",
              "      <td>4.4</td>\n",
              "      <td>NaN</td>\n",
              "    </tr>\n",
              "    <tr>\n",
              "      <th>43</th>\n",
              "      <td>Cuba</td>\n",
              "      <td>93</td>\n",
              "      <td>137</td>\n",
              "      <td>5</td>\n",
              "      <td>4.2</td>\n",
              "      <td>NaN</td>\n",
              "    </tr>\n",
              "    <tr>\n",
              "      <th>50</th>\n",
              "      <td>Dominica</td>\n",
              "      <td>52</td>\n",
              "      <td>286</td>\n",
              "      <td>26</td>\n",
              "      <td>6.6</td>\n",
              "      <td>NaN</td>\n",
              "    </tr>\n",
              "    <tr>\n",
              "      <th>51</th>\n",
              "      <td>Dominican Republic</td>\n",
              "      <td>193</td>\n",
              "      <td>147</td>\n",
              "      <td>9</td>\n",
              "      <td>6.2</td>\n",
              "      <td>NaN</td>\n",
              "    </tr>\n",
              "    <tr>\n",
              "      <th>54</th>\n",
              "      <td>El Salvador</td>\n",
              "      <td>52</td>\n",
              "      <td>69</td>\n",
              "      <td>2</td>\n",
              "      <td>2.2</td>\n",
              "      <td>NaN</td>\n",
              "    </tr>\n",
              "    <tr>\n",
              "      <th>68</th>\n",
              "      <td>Grenada</td>\n",
              "      <td>199</td>\n",
              "      <td>438</td>\n",
              "      <td>28</td>\n",
              "      <td>11.9</td>\n",
              "      <td>NaN</td>\n",
              "    </tr>\n",
              "    <tr>\n",
              "      <th>69</th>\n",
              "      <td>Guatemala</td>\n",
              "      <td>53</td>\n",
              "      <td>69</td>\n",
              "      <td>2</td>\n",
              "      <td>2.2</td>\n",
              "      <td>NaN</td>\n",
              "    </tr>\n",
              "    <tr>\n",
              "      <th>73</th>\n",
              "      <td>Haiti</td>\n",
              "      <td>1</td>\n",
              "      <td>326</td>\n",
              "      <td>1</td>\n",
              "      <td>5.9</td>\n",
              "      <td>NaN</td>\n",
              "    </tr>\n",
              "    <tr>\n",
              "      <th>74</th>\n",
              "      <td>Honduras</td>\n",
              "      <td>69</td>\n",
              "      <td>98</td>\n",
              "      <td>2</td>\n",
              "      <td>3.0</td>\n",
              "      <td>NaN</td>\n",
              "    </tr>\n",
              "    <tr>\n",
              "      <th>84</th>\n",
              "      <td>Jamaica</td>\n",
              "      <td>82</td>\n",
              "      <td>97</td>\n",
              "      <td>9</td>\n",
              "      <td>3.4</td>\n",
              "      <td>NaN</td>\n",
              "    </tr>\n",
              "    <tr>\n",
              "      <th>109</th>\n",
              "      <td>Mexico</td>\n",
              "      <td>238</td>\n",
              "      <td>68</td>\n",
              "      <td>5</td>\n",
              "      <td>5.5</td>\n",
              "      <td>NaN</td>\n",
              "    </tr>\n",
              "    <tr>\n",
              "      <th>122</th>\n",
              "      <td>Nicaragua</td>\n",
              "      <td>78</td>\n",
              "      <td>118</td>\n",
              "      <td>1</td>\n",
              "      <td>3.5</td>\n",
              "      <td>NaN</td>\n",
              "    </tr>\n",
              "    <tr>\n",
              "      <th>130</th>\n",
              "      <td>Panama</td>\n",
              "      <td>285</td>\n",
              "      <td>104</td>\n",
              "      <td>18</td>\n",
              "      <td>7.2</td>\n",
              "      <td>NaN</td>\n",
              "    </tr>\n",
              "    <tr>\n",
              "      <th>143</th>\n",
              "      <td>St. Kitts &amp; Nevis</td>\n",
              "      <td>194</td>\n",
              "      <td>205</td>\n",
              "      <td>32</td>\n",
              "      <td>7.7</td>\n",
              "      <td>NaN</td>\n",
              "    </tr>\n",
              "    <tr>\n",
              "      <th>144</th>\n",
              "      <td>St. Lucia</td>\n",
              "      <td>171</td>\n",
              "      <td>315</td>\n",
              "      <td>71</td>\n",
              "      <td>10.1</td>\n",
              "      <td>NaN</td>\n",
              "    </tr>\n",
              "    <tr>\n",
              "      <th>145</th>\n",
              "      <td>St. Vincent &amp; the Grenadines</td>\n",
              "      <td>120</td>\n",
              "      <td>221</td>\n",
              "      <td>11</td>\n",
              "      <td>6.3</td>\n",
              "      <td>NaN</td>\n",
              "    </tr>\n",
              "    <tr>\n",
              "      <th>174</th>\n",
              "      <td>Trinidad &amp; Tobago</td>\n",
              "      <td>197</td>\n",
              "      <td>156</td>\n",
              "      <td>7</td>\n",
              "      <td>6.4</td>\n",
              "      <td>NaN</td>\n",
              "    </tr>\n",
              "    <tr>\n",
              "      <th>184</th>\n",
              "      <td>USA</td>\n",
              "      <td>249</td>\n",
              "      <td>158</td>\n",
              "      <td>84</td>\n",
              "      <td>8.7</td>\n",
              "      <td>NaN</td>\n",
              "    </tr>\n",
              "  </tbody>\n",
              "</table>\n",
              "</div>"
            ],
            "text/plain": [
              "                          country  ...  continent\n",
              "5               Antigua & Barbuda  ...        NaN\n",
              "11                        Bahamas  ...        NaN\n",
              "14                       Barbados  ...        NaN\n",
              "17                         Belize  ...        NaN\n",
              "32                         Canada  ...        NaN\n",
              "41                     Costa Rica  ...        NaN\n",
              "43                           Cuba  ...        NaN\n",
              "50                       Dominica  ...        NaN\n",
              "51             Dominican Republic  ...        NaN\n",
              "54                    El Salvador  ...        NaN\n",
              "68                        Grenada  ...        NaN\n",
              "69                      Guatemala  ...        NaN\n",
              "73                          Haiti  ...        NaN\n",
              "74                       Honduras  ...        NaN\n",
              "84                        Jamaica  ...        NaN\n",
              "109                        Mexico  ...        NaN\n",
              "122                     Nicaragua  ...        NaN\n",
              "130                        Panama  ...        NaN\n",
              "143             St. Kitts & Nevis  ...        NaN\n",
              "144                     St. Lucia  ...        NaN\n",
              "145  St. Vincent & the Grenadines  ...        NaN\n",
              "174             Trinidad & Tobago  ...        NaN\n",
              "184                           USA  ...        NaN\n",
              "\n",
              "[23 rows x 6 columns]"
            ]
          },
          "metadata": {
            "tags": []
          },
          "execution_count": 54
        }
      ]
    },
    {
      "cell_type": "code",
      "metadata": {
        "colab": {
          "base_uri": "https://localhost:8080/"
        },
        "id": "iZkCZ0YI0ydB",
        "outputId": "822dc9b7-35f6-4b06-80c5-1d8e0d22a5ab"
      },
      "source": [
        "len(drink_df[drink_df.continent.isnull()])"
      ],
      "execution_count": null,
      "outputs": [
        {
          "output_type": "execute_result",
          "data": {
            "text/plain": [
              "23"
            ]
          },
          "metadata": {
            "tags": []
          },
          "execution_count": 55
        }
      ]
    },
    {
      "cell_type": "markdown",
      "metadata": {
        "id": "NIWnpT8ehFTx"
      },
      "source": [
        "continent의 값에 NaN 값(결측값을 의미)인 경우만 출력되는 것을 확인할 수 있습니다. 즉, 이 데이터들은 다른 열에는 값이 다 존재하지만 continent의 열에는 실질적으로 값이 존재하지 않는다고 해석할 수 있습니다."
      ]
    },
    {
      "cell_type": "markdown",
      "metadata": {
        "id": "wKuWM0ai_IQX"
      },
      "source": [
        "## AND, OR, NOT 연산자 사용하기"
      ]
    },
    {
      "cell_type": "markdown",
      "metadata": {
        "id": "JJ3jZqH2uLi6"
      },
      "source": [
        "참고 : https://wikidocs.net/22211"
      ]
    },
    {
      "cell_type": "markdown",
      "metadata": {
        "id": "Xt4yeE1ShJQK"
      },
      "source": [
        "`AND`나 `OR` 또는 `NOT`과 같은 연산자를 사용하여 여러 개의 조건을 동시에 사용하거나, 조건문 자체를 반대로 해석하는 것이 가능."
      ]
    },
    {
      "cell_type": "markdown",
      "metadata": {
        "id": "N7qYREo7hLd9"
      },
      "source": [
        "데이터프레임의 AND, OR, NOT은 각각 &, |, ~에 해당.\n",
        "\n",
        "- & : AND\n",
        "- | : OR\n",
        "- ~ : NOT\n",
        "\n",
        "다음과 같이 사용 가능.\n",
        "\n",
        "- `A조건 & B조건` : A조건과 B조건 모두 만족하는 경우\n",
        "- `A조건 | B조건` : A조건 또는 B조건 둘 중 하나를 만족하는 경우\n",
        "- `~A조건` : A조건을 만족하는 경우의 반대. 즉, A조건을 만족하지 않는 경우.\n",
        "\n",
        "물론 실제로는 조건이 2개 이상일 수도 있고, 이들을 섞어서 사용하는 것도 가능하므로 위 케이스보다 다양하게 사용 가능.\n",
        "\n",
        "우선 NOT을 사용한 경우,"
      ]
    },
    {
      "cell_type": "code",
      "metadata": {
        "colab": {
          "base_uri": "https://localhost:8080/"
        },
        "id": "5tN_Y7nyu-FL",
        "outputId": "96a0f67d-67dc-4bfe-f9c9-f344bb21cb19"
      },
      "source": [
        "# NOT 조건\n",
        "drink_df[~(drink_df.continent=='EU')]"
      ],
      "execution_count": null,
      "outputs": [
        {
          "output_type": "execute_result",
          "data": {
            "text/html": [
              "<div>\n",
              "<style scoped>\n",
              "    .dataframe tbody tr th:only-of-type {\n",
              "        vertical-align: middle;\n",
              "    }\n",
              "\n",
              "    .dataframe tbody tr th {\n",
              "        vertical-align: top;\n",
              "    }\n",
              "\n",
              "    .dataframe thead th {\n",
              "        text-align: right;\n",
              "    }\n",
              "</style>\n",
              "<table border=\"1\" class=\"dataframe\">\n",
              "  <thead>\n",
              "    <tr style=\"text-align: right;\">\n",
              "      <th></th>\n",
              "      <th>country</th>\n",
              "      <th>beer_servings</th>\n",
              "      <th>spirit_servings</th>\n",
              "      <th>wine_servings</th>\n",
              "      <th>total_litres_of_pure_alcohol</th>\n",
              "      <th>continent</th>\n",
              "    </tr>\n",
              "  </thead>\n",
              "  <tbody>\n",
              "    <tr>\n",
              "      <th>0</th>\n",
              "      <td>Afghanistan</td>\n",
              "      <td>0</td>\n",
              "      <td>0</td>\n",
              "      <td>0</td>\n",
              "      <td>0.0</td>\n",
              "      <td>AS</td>\n",
              "    </tr>\n",
              "    <tr>\n",
              "      <th>2</th>\n",
              "      <td>Algeria</td>\n",
              "      <td>25</td>\n",
              "      <td>0</td>\n",
              "      <td>14</td>\n",
              "      <td>0.7</td>\n",
              "      <td>AF</td>\n",
              "    </tr>\n",
              "    <tr>\n",
              "      <th>4</th>\n",
              "      <td>Angola</td>\n",
              "      <td>217</td>\n",
              "      <td>57</td>\n",
              "      <td>45</td>\n",
              "      <td>5.9</td>\n",
              "      <td>AF</td>\n",
              "    </tr>\n",
              "    <tr>\n",
              "      <th>5</th>\n",
              "      <td>Antigua &amp; Barbuda</td>\n",
              "      <td>102</td>\n",
              "      <td>128</td>\n",
              "      <td>45</td>\n",
              "      <td>4.9</td>\n",
              "      <td>NaN</td>\n",
              "    </tr>\n",
              "    <tr>\n",
              "      <th>6</th>\n",
              "      <td>Argentina</td>\n",
              "      <td>193</td>\n",
              "      <td>25</td>\n",
              "      <td>221</td>\n",
              "      <td>8.3</td>\n",
              "      <td>SA</td>\n",
              "    </tr>\n",
              "    <tr>\n",
              "      <th>...</th>\n",
              "      <td>...</td>\n",
              "      <td>...</td>\n",
              "      <td>...</td>\n",
              "      <td>...</td>\n",
              "      <td>...</td>\n",
              "      <td>...</td>\n",
              "    </tr>\n",
              "    <tr>\n",
              "      <th>188</th>\n",
              "      <td>Venezuela</td>\n",
              "      <td>333</td>\n",
              "      <td>100</td>\n",
              "      <td>3</td>\n",
              "      <td>7.7</td>\n",
              "      <td>SA</td>\n",
              "    </tr>\n",
              "    <tr>\n",
              "      <th>189</th>\n",
              "      <td>Vietnam</td>\n",
              "      <td>111</td>\n",
              "      <td>2</td>\n",
              "      <td>1</td>\n",
              "      <td>2.0</td>\n",
              "      <td>AS</td>\n",
              "    </tr>\n",
              "    <tr>\n",
              "      <th>190</th>\n",
              "      <td>Yemen</td>\n",
              "      <td>6</td>\n",
              "      <td>0</td>\n",
              "      <td>0</td>\n",
              "      <td>0.1</td>\n",
              "      <td>AS</td>\n",
              "    </tr>\n",
              "    <tr>\n",
              "      <th>191</th>\n",
              "      <td>Zambia</td>\n",
              "      <td>32</td>\n",
              "      <td>19</td>\n",
              "      <td>4</td>\n",
              "      <td>2.5</td>\n",
              "      <td>AF</td>\n",
              "    </tr>\n",
              "    <tr>\n",
              "      <th>192</th>\n",
              "      <td>Zimbabwe</td>\n",
              "      <td>64</td>\n",
              "      <td>18</td>\n",
              "      <td>4</td>\n",
              "      <td>4.7</td>\n",
              "      <td>AF</td>\n",
              "    </tr>\n",
              "  </tbody>\n",
              "</table>\n",
              "<p>148 rows × 6 columns</p>\n",
              "</div>"
            ],
            "text/plain": [
              "               country  beer_servings  ...  total_litres_of_pure_alcohol  continent\n",
              "0          Afghanistan              0  ...                           0.0         AS\n",
              "2              Algeria             25  ...                           0.7         AF\n",
              "4               Angola            217  ...                           5.9         AF\n",
              "5    Antigua & Barbuda            102  ...                           4.9        NaN\n",
              "6            Argentina            193  ...                           8.3         SA\n",
              "..                 ...            ...  ...                           ...        ...\n",
              "188          Venezuela            333  ...                           7.7         SA\n",
              "189            Vietnam            111  ...                           2.0         AS\n",
              "190              Yemen              6  ...                           0.1         AS\n",
              "191             Zambia             32  ...                           2.5         AF\n",
              "192           Zimbabwe             64  ...                           4.7         AF\n",
              "\n",
              "[148 rows x 6 columns]"
            ]
          },
          "metadata": {
            "tags": []
          },
          "execution_count": 41
        }
      ]
    },
    {
      "cell_type": "markdown",
      "metadata": {
        "id": "HXt3Vrv0hN5v"
      },
      "source": [
        "위 코드는 continent의 값이 'EU'가 아닌 경우만을 필터링하는 코드.\n",
        "\n",
        "이번에는 두 개의 조건 모두가 참인 경우만을 필터링하는 AND를 사용"
      ]
    },
    {
      "cell_type": "code",
      "metadata": {
        "colab": {
          "base_uri": "https://localhost:8080/"
        },
        "id": "u0iiuuql_Kgr",
        "outputId": "59eb58b0-665b-4e84-df3c-dd9357c2d0da"
      },
      "source": [
        "# AND 조건\n",
        "drink_df[(drink_df.continent=='EU') & (drink_df.wine_servings > 300)]"
      ],
      "execution_count": null,
      "outputs": [
        {
          "output_type": "execute_result",
          "data": {
            "text/html": [
              "<div>\n",
              "<style scoped>\n",
              "    .dataframe tbody tr th:only-of-type {\n",
              "        vertical-align: middle;\n",
              "    }\n",
              "\n",
              "    .dataframe tbody tr th {\n",
              "        vertical-align: top;\n",
              "    }\n",
              "\n",
              "    .dataframe thead th {\n",
              "        text-align: right;\n",
              "    }\n",
              "</style>\n",
              "<table border=\"1\" class=\"dataframe\">\n",
              "  <thead>\n",
              "    <tr style=\"text-align: right;\">\n",
              "      <th></th>\n",
              "      <th>country</th>\n",
              "      <th>beer_servings</th>\n",
              "      <th>spirit_servings</th>\n",
              "      <th>wine_servings</th>\n",
              "      <th>total_litres_of_pure_alcohol</th>\n",
              "      <th>continent</th>\n",
              "    </tr>\n",
              "  </thead>\n",
              "  <tbody>\n",
              "    <tr>\n",
              "      <th>3</th>\n",
              "      <td>Andorra</td>\n",
              "      <td>245</td>\n",
              "      <td>138</td>\n",
              "      <td>312</td>\n",
              "      <td>12.4</td>\n",
              "      <td>EU</td>\n",
              "    </tr>\n",
              "    <tr>\n",
              "      <th>61</th>\n",
              "      <td>France</td>\n",
              "      <td>127</td>\n",
              "      <td>151</td>\n",
              "      <td>370</td>\n",
              "      <td>11.8</td>\n",
              "      <td>EU</td>\n",
              "    </tr>\n",
              "    <tr>\n",
              "      <th>136</th>\n",
              "      <td>Portugal</td>\n",
              "      <td>194</td>\n",
              "      <td>67</td>\n",
              "      <td>339</td>\n",
              "      <td>11.0</td>\n",
              "      <td>EU</td>\n",
              "    </tr>\n",
              "  </tbody>\n",
              "</table>\n",
              "</div>"
            ],
            "text/plain": [
              "      country  beer_servings  ...  total_litres_of_pure_alcohol  continent\n",
              "3     Andorra            245  ...                          12.4         EU\n",
              "61     France            127  ...                          11.8         EU\n",
              "136  Portugal            194  ...                          11.0         EU\n",
              "\n",
              "[3 rows x 6 columns]"
            ]
          },
          "metadata": {
            "tags": []
          },
          "execution_count": 42
        }
      ]
    },
    {
      "cell_type": "markdown",
      "metadata": {
        "id": "csA6pqxGhPqt"
      },
      "source": [
        "위 코드는 continent의 값이 'EU'이면서 wine_servings의 값이 300보다 큰 경우만을 필터링.  \n",
        " 두 개의 조건을 만족하는 행은 193개의 행 중 3개.\n",
        "\n",
        "하지만 두 가지 조건을 모두 만족하는 것이 아니라 단, 한 개만 만족하더라도 데이터를 뽑으려고 한다면 AND를 OR로 변경. \n",
        "\n",
        "`len(입력)`\n",
        "\n",
        "을 사용하면 입력의 길이를 계산.  \n",
        " 데이터프레임의 이름을 입력으로 할 경우에는 데이터프레임의 행의 길이를 출력."
      ]
    },
    {
      "cell_type": "code",
      "metadata": {
        "colab": {
          "base_uri": "https://localhost:8080/"
        },
        "id": "dllPDMDr_-Vl",
        "outputId": "96f84f2d-ed48-4c1a-d4ff-699c8e030d66"
      },
      "source": [
        "# OR 조건\n",
        "len(drink_df[(drink_df.continent=='EU') | (drink_df.wine_servings > 300)])"
      ],
      "execution_count": null,
      "outputs": [
        {
          "output_type": "execute_result",
          "data": {
            "text/plain": [
              "45"
            ]
          },
          "metadata": {
            "tags": []
          },
          "execution_count": 56
        }
      ]
    },
    {
      "cell_type": "markdown",
      "metadata": {
        "id": "ZzdWnYv0hR1W"
      },
      "source": [
        "AND 조건을 사용하였을 경우에는 행이 3개밖에 없었지만, 이번에는 45개로 증가함을 확인."
      ]
    },
    {
      "cell_type": "markdown",
      "metadata": {
        "id": "T5EQD9ZCAQNC"
      },
      "source": [
        "## 로직과 수치 정보의 결합"
      ]
    },
    {
      "cell_type": "markdown",
      "metadata": {
        "id": "frRzY3WHa-fV"
      },
      "source": [
        "drink_df에서 total_litres_of_pure_alchohol의 값이 최대값인 경우의 country 열을 출력한다면?\n",
        "\n",
        "1. 특정 열의 최대값을 구하는 방법이 무엇이었는지.  \n",
        "2. 특정 열만을 출력하는 방법이 무엇이었는지. "
      ]
    },
    {
      "cell_type": "code",
      "metadata": {
        "colab": {
          "base_uri": "https://localhost:8080/"
        },
        "id": "EechOCHNAXJX",
        "outputId": "9303ef9c-b084-4d2a-8b2a-0210211a161f"
      },
      "source": [
        "# 어떤 나라가 total litres of pure alcohol의 값이 가장 클까?\n",
        "drink_df[drink_df.total_litres_of_pure_alcohol == drink_df.total_litres_of_pure_alcohol.max()]['country']"
      ],
      "execution_count": null,
      "outputs": [
        {
          "output_type": "execute_result",
          "data": {
            "text/plain": [
              "15    Belarus\n",
              "Name: country, dtype: object"
            ]
          },
          "metadata": {
            "tags": []
          },
          "execution_count": 44
        }
      ]
    },
    {
      "cell_type": "markdown",
      "metadata": {
        "id": "hXV58EYshd0W"
      },
      "source": [
        "우선 drink_df.total_litres_of_pure_alcohol.max()를 통해서 total_litres_of_pure_alcohol열의 최댓값을 구하고, 이를 로직에 적용하여 출력 가능\n",
        "\n",
        "`drink_df`에서 wine_servings의 값이 300보다 크거나, beer_servings의 값이 300보다 크거나, spirit_servings의 값이 300보다 큰 경우의 country열의 데이터를 모두 카운트하였을 때의 숫자를 출력.  \n",
        " 이를 구현하기 위해서 고려해야할 것은 총 두 가지\n",
        "\n",
        "1. 다수의 조건을 '또는'으로 한 번에 사용하는 방법이 무엇이었는지.\n",
        "2. 숫자를 '카운트' 하는 방법이 무엇이었는지."
      ]
    },
    {
      "cell_type": "code",
      "metadata": {
        "colab": {
          "base_uri": "https://localhost:8080/"
        },
        "id": "jqnccXXlA19R",
        "outputId": "21a2bafb-6dab-4c3a-f92e-b86969ae24bd"
      },
      "source": [
        "# 이번에는 drink_df에서 wine_servings의 값이 300보다 크거나,\n",
        "# beer_servings의 값이 300보다 크거나,\n",
        "# spirit_servings의 값이 300보다 큰 경우를 모두 카운트하였을 때의 숫자를 출력해봅시다.\n",
        "drink_df[(drink_df.wine_servings > 300) | (drink_df.beer_servings > 300) | (drink_df.spirit_servings > 300)].country.count()"
      ],
      "execution_count": null,
      "outputs": [
        {
          "output_type": "execute_result",
          "data": {
            "text/plain": [
              "18"
            ]
          },
          "metadata": {
            "tags": []
          },
          "execution_count": 45
        }
      ]
    },
    {
      "cell_type": "markdown",
      "metadata": {
        "id": "w1uk2isZG5BD"
      },
      "source": [
        "## 정렬하기\n"
      ]
    },
    {
      "cell_type": "markdown",
      "metadata": {
        "id": "5Sm3E81zhmwm"
      },
      "source": [
        "데이터를 특정 기준으로 정렬.\n",
        "\n",
        "`데이터프레임의 이름.sort_values('정렬 기준이 되는 열의 이름')`"
      ]
    },
    {
      "cell_type": "code",
      "metadata": {
        "colab": {
          "base_uri": "https://localhost:8080/"
        },
        "id": "4D91gf2GG89j",
        "outputId": "b8960ec1-d08f-4f53-fb43-c4ec66f65bcb"
      },
      "source": [
        "drink_df.sort_values('beer_servings') # 특정 컬럼을 기준으로 정렬"
      ],
      "execution_count": null,
      "outputs": [
        {
          "output_type": "execute_result",
          "data": {
            "text/html": [
              "<div>\n",
              "<style scoped>\n",
              "    .dataframe tbody tr th:only-of-type {\n",
              "        vertical-align: middle;\n",
              "    }\n",
              "\n",
              "    .dataframe tbody tr th {\n",
              "        vertical-align: top;\n",
              "    }\n",
              "\n",
              "    .dataframe thead th {\n",
              "        text-align: right;\n",
              "    }\n",
              "</style>\n",
              "<table border=\"1\" class=\"dataframe\">\n",
              "  <thead>\n",
              "    <tr style=\"text-align: right;\">\n",
              "      <th></th>\n",
              "      <th>country</th>\n",
              "      <th>beer_servings</th>\n",
              "      <th>spirit_servings</th>\n",
              "      <th>wine_servings</th>\n",
              "      <th>total_litres_of_pure_alcohol</th>\n",
              "      <th>continent</th>\n",
              "    </tr>\n",
              "  </thead>\n",
              "  <tbody>\n",
              "    <tr>\n",
              "      <th>0</th>\n",
              "      <td>Afghanistan</td>\n",
              "      <td>0</td>\n",
              "      <td>0</td>\n",
              "      <td>0</td>\n",
              "      <td>0.0</td>\n",
              "      <td>AS</td>\n",
              "    </tr>\n",
              "    <tr>\n",
              "      <th>40</th>\n",
              "      <td>Cook Islands</td>\n",
              "      <td>0</td>\n",
              "      <td>254</td>\n",
              "      <td>74</td>\n",
              "      <td>5.9</td>\n",
              "      <td>OC</td>\n",
              "    </tr>\n",
              "    <tr>\n",
              "      <th>79</th>\n",
              "      <td>Iran</td>\n",
              "      <td>0</td>\n",
              "      <td>0</td>\n",
              "      <td>0</td>\n",
              "      <td>0.0</td>\n",
              "      <td>AS</td>\n",
              "    </tr>\n",
              "    <tr>\n",
              "      <th>90</th>\n",
              "      <td>Kuwait</td>\n",
              "      <td>0</td>\n",
              "      <td>0</td>\n",
              "      <td>0</td>\n",
              "      <td>0.0</td>\n",
              "      <td>AS</td>\n",
              "    </tr>\n",
              "    <tr>\n",
              "      <th>97</th>\n",
              "      <td>Libya</td>\n",
              "      <td>0</td>\n",
              "      <td>0</td>\n",
              "      <td>0</td>\n",
              "      <td>0.0</td>\n",
              "      <td>AF</td>\n",
              "    </tr>\n",
              "    <tr>\n",
              "      <th>...</th>\n",
              "      <td>...</td>\n",
              "      <td>...</td>\n",
              "      <td>...</td>\n",
              "      <td>...</td>\n",
              "      <td>...</td>\n",
              "      <td>...</td>\n",
              "    </tr>\n",
              "    <tr>\n",
              "      <th>135</th>\n",
              "      <td>Poland</td>\n",
              "      <td>343</td>\n",
              "      <td>215</td>\n",
              "      <td>56</td>\n",
              "      <td>10.9</td>\n",
              "      <td>EU</td>\n",
              "    </tr>\n",
              "    <tr>\n",
              "      <th>65</th>\n",
              "      <td>Germany</td>\n",
              "      <td>346</td>\n",
              "      <td>117</td>\n",
              "      <td>175</td>\n",
              "      <td>11.3</td>\n",
              "      <td>EU</td>\n",
              "    </tr>\n",
              "    <tr>\n",
              "      <th>62</th>\n",
              "      <td>Gabon</td>\n",
              "      <td>347</td>\n",
              "      <td>98</td>\n",
              "      <td>59</td>\n",
              "      <td>8.9</td>\n",
              "      <td>AF</td>\n",
              "    </tr>\n",
              "    <tr>\n",
              "      <th>45</th>\n",
              "      <td>Czech Republic</td>\n",
              "      <td>361</td>\n",
              "      <td>170</td>\n",
              "      <td>134</td>\n",
              "      <td>11.8</td>\n",
              "      <td>EU</td>\n",
              "    </tr>\n",
              "    <tr>\n",
              "      <th>117</th>\n",
              "      <td>Namibia</td>\n",
              "      <td>376</td>\n",
              "      <td>3</td>\n",
              "      <td>1</td>\n",
              "      <td>6.8</td>\n",
              "      <td>AF</td>\n",
              "    </tr>\n",
              "  </tbody>\n",
              "</table>\n",
              "<p>193 rows × 6 columns</p>\n",
              "</div>"
            ],
            "text/plain": [
              "            country  beer_servings  ...  total_litres_of_pure_alcohol  continent\n",
              "0       Afghanistan              0  ...                           0.0         AS\n",
              "40     Cook Islands              0  ...                           5.9         OC\n",
              "79             Iran              0  ...                           0.0         AS\n",
              "90           Kuwait              0  ...                           0.0         AS\n",
              "97            Libya              0  ...                           0.0         AF\n",
              "..              ...            ...  ...                           ...        ...\n",
              "135          Poland            343  ...                          10.9         EU\n",
              "65          Germany            346  ...                          11.3         EU\n",
              "62            Gabon            347  ...                           8.9         AF\n",
              "45   Czech Republic            361  ...                          11.8         EU\n",
              "117         Namibia            376  ...                           6.8         AF\n",
              "\n",
              "[193 rows x 6 columns]"
            ]
          },
          "metadata": {
            "tags": []
          },
          "execution_count": 46
        }
      ]
    },
    {
      "cell_type": "markdown",
      "metadata": {
        "id": "sIBqE-5ohom6"
      },
      "source": [
        "beer_servings의 열을 보면 오름차순을 기준으로 정렬된 것을 확인.\n",
        "\n",
        "기본적으로는 오름차순으로 정렬되지만, 만약 내림차순으로 정렬하고 싶다면\n",
        "\n",
        "`데이터프레임의 이름.sort_values('정렬 기준이 되는 열의 이름', ascending=False)`\n",
        "\n",
        "sort_values의 인자로 ascending=False를 추가."
      ]
    },
    {
      "cell_type": "code",
      "metadata": {
        "colab": {
          "base_uri": "https://localhost:8080/"
        },
        "id": "53xarFvuHKPi",
        "outputId": "f6e58c52-62bf-4f45-b6db-fb0f1ac133cd"
      },
      "source": [
        "# 내림차순으로 정렬\n",
        "drink_df.sort_values('beer_servings', ascending=False)"
      ],
      "execution_count": null,
      "outputs": [
        {
          "output_type": "execute_result",
          "data": {
            "text/html": [
              "<div>\n",
              "<style scoped>\n",
              "    .dataframe tbody tr th:only-of-type {\n",
              "        vertical-align: middle;\n",
              "    }\n",
              "\n",
              "    .dataframe tbody tr th {\n",
              "        vertical-align: top;\n",
              "    }\n",
              "\n",
              "    .dataframe thead th {\n",
              "        text-align: right;\n",
              "    }\n",
              "</style>\n",
              "<table border=\"1\" class=\"dataframe\">\n",
              "  <thead>\n",
              "    <tr style=\"text-align: right;\">\n",
              "      <th></th>\n",
              "      <th>country</th>\n",
              "      <th>beer_servings</th>\n",
              "      <th>spirit_servings</th>\n",
              "      <th>wine_servings</th>\n",
              "      <th>total_litres_of_pure_alcohol</th>\n",
              "      <th>continent</th>\n",
              "    </tr>\n",
              "  </thead>\n",
              "  <tbody>\n",
              "    <tr>\n",
              "      <th>117</th>\n",
              "      <td>Namibia</td>\n",
              "      <td>376</td>\n",
              "      <td>3</td>\n",
              "      <td>1</td>\n",
              "      <td>6.8</td>\n",
              "      <td>AF</td>\n",
              "    </tr>\n",
              "    <tr>\n",
              "      <th>45</th>\n",
              "      <td>Czech Republic</td>\n",
              "      <td>361</td>\n",
              "      <td>170</td>\n",
              "      <td>134</td>\n",
              "      <td>11.8</td>\n",
              "      <td>EU</td>\n",
              "    </tr>\n",
              "    <tr>\n",
              "      <th>62</th>\n",
              "      <td>Gabon</td>\n",
              "      <td>347</td>\n",
              "      <td>98</td>\n",
              "      <td>59</td>\n",
              "      <td>8.9</td>\n",
              "      <td>AF</td>\n",
              "    </tr>\n",
              "    <tr>\n",
              "      <th>65</th>\n",
              "      <td>Germany</td>\n",
              "      <td>346</td>\n",
              "      <td>117</td>\n",
              "      <td>175</td>\n",
              "      <td>11.3</td>\n",
              "      <td>EU</td>\n",
              "    </tr>\n",
              "    <tr>\n",
              "      <th>98</th>\n",
              "      <td>Lithuania</td>\n",
              "      <td>343</td>\n",
              "      <td>244</td>\n",
              "      <td>56</td>\n",
              "      <td>12.9</td>\n",
              "      <td>EU</td>\n",
              "    </tr>\n",
              "    <tr>\n",
              "      <th>...</th>\n",
              "      <td>...</td>\n",
              "      <td>...</td>\n",
              "      <td>...</td>\n",
              "      <td>...</td>\n",
              "      <td>...</td>\n",
              "      <td>...</td>\n",
              "    </tr>\n",
              "    <tr>\n",
              "      <th>107</th>\n",
              "      <td>Mauritania</td>\n",
              "      <td>0</td>\n",
              "      <td>0</td>\n",
              "      <td>0</td>\n",
              "      <td>0.0</td>\n",
              "      <td>AF</td>\n",
              "    </tr>\n",
              "    <tr>\n",
              "      <th>158</th>\n",
              "      <td>Somalia</td>\n",
              "      <td>0</td>\n",
              "      <td>0</td>\n",
              "      <td>0</td>\n",
              "      <td>0.0</td>\n",
              "      <td>AF</td>\n",
              "    </tr>\n",
              "    <tr>\n",
              "      <th>111</th>\n",
              "      <td>Monaco</td>\n",
              "      <td>0</td>\n",
              "      <td>0</td>\n",
              "      <td>0</td>\n",
              "      <td>0.0</td>\n",
              "      <td>EU</td>\n",
              "    </tr>\n",
              "    <tr>\n",
              "      <th>128</th>\n",
              "      <td>Pakistan</td>\n",
              "      <td>0</td>\n",
              "      <td>0</td>\n",
              "      <td>0</td>\n",
              "      <td>0.0</td>\n",
              "      <td>AS</td>\n",
              "    </tr>\n",
              "    <tr>\n",
              "      <th>0</th>\n",
              "      <td>Afghanistan</td>\n",
              "      <td>0</td>\n",
              "      <td>0</td>\n",
              "      <td>0</td>\n",
              "      <td>0.0</td>\n",
              "      <td>AS</td>\n",
              "    </tr>\n",
              "  </tbody>\n",
              "</table>\n",
              "<p>193 rows × 6 columns</p>\n",
              "</div>"
            ],
            "text/plain": [
              "            country  beer_servings  ...  total_litres_of_pure_alcohol  continent\n",
              "117         Namibia            376  ...                           6.8         AF\n",
              "45   Czech Republic            361  ...                          11.8         EU\n",
              "62            Gabon            347  ...                           8.9         AF\n",
              "65          Germany            346  ...                          11.3         EU\n",
              "98        Lithuania            343  ...                          12.9         EU\n",
              "..              ...            ...  ...                           ...        ...\n",
              "107      Mauritania              0  ...                           0.0         AF\n",
              "158         Somalia              0  ...                           0.0         AF\n",
              "111          Monaco              0  ...                           0.0         EU\n",
              "128        Pakistan              0  ...                           0.0         AS\n",
              "0       Afghanistan              0  ...                           0.0         AS\n",
              "\n",
              "[193 rows x 6 columns]"
            ]
          },
          "metadata": {
            "tags": []
          },
          "execution_count": 47
        }
      ]
    },
    {
      "cell_type": "markdown",
      "metadata": {
        "id": "1XOclxonhqN5"
      },
      "source": [
        "정렬의 기준은 하나의 열이 아니라 다수의 열도 가능.  \n",
        " 열의 이름들을 원소로하는 리스트를 sort_values의 입력으로 사용하면 해당 열들을 기준으로 정렬을 수행."
      ]
    },
    {
      "cell_type": "code",
      "metadata": {
        "colab": {
          "base_uri": "https://localhost:8080/"
        },
        "id": "mvfYu55LHTnc",
        "outputId": "f53a2763-8ec5-46f2-c875-04c54483aa0c"
      },
      "source": [
        "# 2개의 컬럼 기준으로 정렬\n",
        "drink_df.sort_values(['beer_servings', 'wine_servings'])"
      ],
      "execution_count": null,
      "outputs": [
        {
          "output_type": "execute_result",
          "data": {
            "text/html": [
              "<div>\n",
              "<style scoped>\n",
              "    .dataframe tbody tr th:only-of-type {\n",
              "        vertical-align: middle;\n",
              "    }\n",
              "\n",
              "    .dataframe tbody tr th {\n",
              "        vertical-align: top;\n",
              "    }\n",
              "\n",
              "    .dataframe thead th {\n",
              "        text-align: right;\n",
              "    }\n",
              "</style>\n",
              "<table border=\"1\" class=\"dataframe\">\n",
              "  <thead>\n",
              "    <tr style=\"text-align: right;\">\n",
              "      <th></th>\n",
              "      <th>country</th>\n",
              "      <th>beer_servings</th>\n",
              "      <th>spirit_servings</th>\n",
              "      <th>wine_servings</th>\n",
              "      <th>total_litres_of_pure_alcohol</th>\n",
              "      <th>continent</th>\n",
              "    </tr>\n",
              "  </thead>\n",
              "  <tbody>\n",
              "    <tr>\n",
              "      <th>0</th>\n",
              "      <td>Afghanistan</td>\n",
              "      <td>0</td>\n",
              "      <td>0</td>\n",
              "      <td>0</td>\n",
              "      <td>0.0</td>\n",
              "      <td>AS</td>\n",
              "    </tr>\n",
              "    <tr>\n",
              "      <th>13</th>\n",
              "      <td>Bangladesh</td>\n",
              "      <td>0</td>\n",
              "      <td>0</td>\n",
              "      <td>0</td>\n",
              "      <td>0.0</td>\n",
              "      <td>AS</td>\n",
              "    </tr>\n",
              "    <tr>\n",
              "      <th>46</th>\n",
              "      <td>North Korea</td>\n",
              "      <td>0</td>\n",
              "      <td>0</td>\n",
              "      <td>0</td>\n",
              "      <td>0.0</td>\n",
              "      <td>AS</td>\n",
              "    </tr>\n",
              "    <tr>\n",
              "      <th>79</th>\n",
              "      <td>Iran</td>\n",
              "      <td>0</td>\n",
              "      <td>0</td>\n",
              "      <td>0</td>\n",
              "      <td>0.0</td>\n",
              "      <td>AS</td>\n",
              "    </tr>\n",
              "    <tr>\n",
              "      <th>90</th>\n",
              "      <td>Kuwait</td>\n",
              "      <td>0</td>\n",
              "      <td>0</td>\n",
              "      <td>0</td>\n",
              "      <td>0.0</td>\n",
              "      <td>AS</td>\n",
              "    </tr>\n",
              "    <tr>\n",
              "      <th>...</th>\n",
              "      <td>...</td>\n",
              "      <td>...</td>\n",
              "      <td>...</td>\n",
              "      <td>...</td>\n",
              "      <td>...</td>\n",
              "      <td>...</td>\n",
              "    </tr>\n",
              "    <tr>\n",
              "      <th>135</th>\n",
              "      <td>Poland</td>\n",
              "      <td>343</td>\n",
              "      <td>215</td>\n",
              "      <td>56</td>\n",
              "      <td>10.9</td>\n",
              "      <td>EU</td>\n",
              "    </tr>\n",
              "    <tr>\n",
              "      <th>65</th>\n",
              "      <td>Germany</td>\n",
              "      <td>346</td>\n",
              "      <td>117</td>\n",
              "      <td>175</td>\n",
              "      <td>11.3</td>\n",
              "      <td>EU</td>\n",
              "    </tr>\n",
              "    <tr>\n",
              "      <th>62</th>\n",
              "      <td>Gabon</td>\n",
              "      <td>347</td>\n",
              "      <td>98</td>\n",
              "      <td>59</td>\n",
              "      <td>8.9</td>\n",
              "      <td>AF</td>\n",
              "    </tr>\n",
              "    <tr>\n",
              "      <th>45</th>\n",
              "      <td>Czech Republic</td>\n",
              "      <td>361</td>\n",
              "      <td>170</td>\n",
              "      <td>134</td>\n",
              "      <td>11.8</td>\n",
              "      <td>EU</td>\n",
              "    </tr>\n",
              "    <tr>\n",
              "      <th>117</th>\n",
              "      <td>Namibia</td>\n",
              "      <td>376</td>\n",
              "      <td>3</td>\n",
              "      <td>1</td>\n",
              "      <td>6.8</td>\n",
              "      <td>AF</td>\n",
              "    </tr>\n",
              "  </tbody>\n",
              "</table>\n",
              "<p>193 rows × 6 columns</p>\n",
              "</div>"
            ],
            "text/plain": [
              "            country  beer_servings  ...  total_litres_of_pure_alcohol  continent\n",
              "0       Afghanistan              0  ...                           0.0         AS\n",
              "13       Bangladesh              0  ...                           0.0         AS\n",
              "46      North Korea              0  ...                           0.0         AS\n",
              "79             Iran              0  ...                           0.0         AS\n",
              "90           Kuwait              0  ...                           0.0         AS\n",
              "..              ...            ...  ...                           ...        ...\n",
              "135          Poland            343  ...                          10.9         EU\n",
              "65          Germany            346  ...                          11.3         EU\n",
              "62            Gabon            347  ...                           8.9         AF\n",
              "45   Czech Republic            361  ...                          11.8         EU\n",
              "117         Namibia            376  ...                           6.8         AF\n",
              "\n",
              "[193 rows x 6 columns]"
            ]
          },
          "metadata": {
            "tags": []
          },
          "execution_count": 48
        }
      ]
    },
    {
      "cell_type": "markdown",
      "metadata": {
        "id": "RqW67_i8Hk87"
      },
      "source": [
        "#상관관계 분석"
      ]
    },
    {
      "cell_type": "markdown",
      "metadata": {
        "id": "plKOqTTYhs3f"
      },
      "source": [
        "`상관 분석`이란 두 변수 간의 선형적 관계를 상관 계수로 표현하는 것.  \n",
        " 상관 계수를 구하는 것은 공분산의 개념을 포함, 공분산은 2개의 변수에 대한 상관 정도.  \n",
        " 2개의 변수 중 하나의 값이 상승하는 경향을 보이면 다른 값도 상승하는 경향을 수치로 표현한 것.\n",
        "하지만 공분산만으로 두 확률 변수의 상관 관계를 구한다면 두 변수의 단위 크기에 영향.  \n",
        " 따라서 이를 -1과 1 사이 값으로 변환. 이게 상관 계수.\n",
        "\n",
        "만약 상관 계수가 1에 가깝다면 서로 강한 양의 상관 관계, -1에 가깝다면 음의 상관 관계.  \n",
        "0이면 상관 관계가 없다.\n",
        "\n",
        "**Matplotlib**는 파이썬에서 자료를 차트나 플롯으로 시각화하는 패키지.   **Seaborn**은 Matplotlib을 기반으로 다양한 테마와 기능을 추가한 시각화 패키지.\n"
      ]
    },
    {
      "cell_type": "markdown",
      "metadata": {
        "id": "7A1mc7GGFzGJ"
      },
      "source": [
        "##테스트"
      ]
    },
    {
      "cell_type": "code",
      "metadata": {
        "id": "A4TspUS3F_p5"
      },
      "source": [
        "import pandas as pd # 판다스 임포트.\n",
        "import matplotlib.pyplot as plt # 맷플롯립 임포트.\n",
        "import seaborn as sns # 시본 임포트"
      ],
      "execution_count": null,
      "outputs": []
    },
    {
      "cell_type": "code",
      "metadata": {
        "id": "cqLhnL7SF4Gl"
      },
      "source": [
        "test_df = pd.DataFrame({\"v1\":[100,200,300,400], \"v2\":[400,200,100,250], \"v3\":[40,60,60,100]})"
      ],
      "execution_count": null,
      "outputs": []
    },
    {
      "cell_type": "code",
      "metadata": {
        "colab": {
          "base_uri": "https://localhost:8080/"
        },
        "id": "iGySO7ITRI4v",
        "outputId": "fffe07d3-f7e1-4773-977e-15284e64d705"
      },
      "source": [
        "test_df"
      ],
      "execution_count": null,
      "outputs": [
        {
          "output_type": "execute_result",
          "data": {
            "text/html": [
              "<div>\n",
              "<style scoped>\n",
              "    .dataframe tbody tr th:only-of-type {\n",
              "        vertical-align: middle;\n",
              "    }\n",
              "\n",
              "    .dataframe tbody tr th {\n",
              "        vertical-align: top;\n",
              "    }\n",
              "\n",
              "    .dataframe thead th {\n",
              "        text-align: right;\n",
              "    }\n",
              "</style>\n",
              "<table border=\"1\" class=\"dataframe\">\n",
              "  <thead>\n",
              "    <tr style=\"text-align: right;\">\n",
              "      <th></th>\n",
              "      <th>v1</th>\n",
              "      <th>v2</th>\n",
              "      <th>v3</th>\n",
              "    </tr>\n",
              "  </thead>\n",
              "  <tbody>\n",
              "    <tr>\n",
              "      <th>0</th>\n",
              "      <td>100</td>\n",
              "      <td>400</td>\n",
              "      <td>40</td>\n",
              "    </tr>\n",
              "    <tr>\n",
              "      <th>1</th>\n",
              "      <td>200</td>\n",
              "      <td>200</td>\n",
              "      <td>60</td>\n",
              "    </tr>\n",
              "    <tr>\n",
              "      <th>2</th>\n",
              "      <td>300</td>\n",
              "      <td>100</td>\n",
              "      <td>60</td>\n",
              "    </tr>\n",
              "    <tr>\n",
              "      <th>3</th>\n",
              "      <td>400</td>\n",
              "      <td>250</td>\n",
              "      <td>100</td>\n",
              "    </tr>\n",
              "  </tbody>\n",
              "</table>\n",
              "</div>"
            ],
            "text/plain": [
              "    v1   v2   v3\n",
              "0  100  400   40\n",
              "1  200  200   60\n",
              "2  300  100   60\n",
              "3  400  250  100"
            ]
          },
          "metadata": {
            "tags": []
          },
          "execution_count": 51
        }
      ]
    },
    {
      "cell_type": "markdown",
      "metadata": {
        "id": "PivVfBpchwGn"
      },
      "source": [
        "데이터의 상관계수를 구하는 방법.\n",
        "\n",
        "`데이터프레임의 이름.corr(method='pearson')`"
      ]
    },
    {
      "cell_type": "code",
      "metadata": {
        "colab": {
          "base_uri": "https://localhost:8080/"
        },
        "id": "fL38qe-SF76t",
        "outputId": "9cb68e26-624d-4dbb-f062-cfbc812be533"
      },
      "source": [
        "corr = test_df.corr(method = 'pearson')\n",
        "corr"
      ],
      "execution_count": null,
      "outputs": [
        {
          "output_type": "execute_result",
          "data": {
            "text/html": [
              "<div>\n",
              "<style scoped>\n",
              "    .dataframe tbody tr th:only-of-type {\n",
              "        vertical-align: middle;\n",
              "    }\n",
              "\n",
              "    .dataframe tbody tr th {\n",
              "        vertical-align: top;\n",
              "    }\n",
              "\n",
              "    .dataframe thead th {\n",
              "        text-align: right;\n",
              "    }\n",
              "</style>\n",
              "<table border=\"1\" class=\"dataframe\">\n",
              "  <thead>\n",
              "    <tr style=\"text-align: right;\">\n",
              "      <th></th>\n",
              "      <th>v1</th>\n",
              "      <th>v2</th>\n",
              "      <th>v3</th>\n",
              "    </tr>\n",
              "  </thead>\n",
              "  <tbody>\n",
              "    <tr>\n",
              "      <th>v1</th>\n",
              "      <td>1.000000</td>\n",
              "      <td>-0.568038</td>\n",
              "      <td>0.923381</td>\n",
              "    </tr>\n",
              "    <tr>\n",
              "      <th>v2</th>\n",
              "      <td>-0.568038</td>\n",
              "      <td>1.000000</td>\n",
              "      <td>-0.291397</td>\n",
              "    </tr>\n",
              "    <tr>\n",
              "      <th>v3</th>\n",
              "      <td>0.923381</td>\n",
              "      <td>-0.291397</td>\n",
              "      <td>1.000000</td>\n",
              "    </tr>\n",
              "  </tbody>\n",
              "</table>\n",
              "</div>"
            ],
            "text/plain": [
              "          v1        v2        v3\n",
              "v1  1.000000 -0.568038  0.923381\n",
              "v2 -0.568038  1.000000 -0.291397\n",
              "v3  0.923381 -0.291397  1.000000"
            ]
          },
          "metadata": {
            "tags": []
          },
          "execution_count": 52
        }
      ]
    },
    {
      "cell_type": "markdown",
      "metadata": {
        "id": "lbUl3kKthxoR"
      },
      "source": [
        "데이터프레임에서 .values를 하게되면 데이터프레임의 각 행이 마치 리스트 형태로 변환되어서 출력. 이를 뒤에 차트를 그릴 때, 입력으로 사용."
      ]
    },
    {
      "cell_type": "code",
      "metadata": {
        "colab": {
          "base_uri": "https://localhost:8080/"
        },
        "id": "HCfZ1wGAGy67",
        "outputId": "01c5bcdf-133f-413f-b8ab-5d061914ebdd"
      },
      "source": [
        "corr.values"
      ],
      "execution_count": null,
      "outputs": [
        {
          "output_type": "execute_result",
          "data": {
            "text/plain": [
              "array([[ 1.        , -0.56803756,  0.92338052],\n",
              "       [-0.56803756,  1.        , -0.29139712],\n",
              "       [ 0.92338052, -0.29139712,  1.        ]])"
            ]
          },
          "metadata": {
            "tags": []
          },
          "execution_count": 53
        }
      ]
    },
    {
      "cell_type": "markdown",
      "metadata": {
        "id": "EUHfjnlzhy8v"
      },
      "source": [
        "차트에 이름을 입력하기 위해서 다음과 같이 column_names라는 리스트 생성."
      ]
    },
    {
      "cell_type": "code",
      "metadata": {
        "id": "SNnfThGQG1zf"
      },
      "source": [
        "column_names = ['ver1', 'ver2', 'ver3']"
      ],
      "execution_count": null,
      "outputs": []
    },
    {
      "cell_type": "markdown",
      "metadata": {
        "id": "FvvlsmMKh0kc"
      },
      "source": [
        "일반적으로 상관계수 차트를 그릴 때는 seaborn에서 제공하는 heatmap()을 주로 사용.  \n",
        " seaborn을 sns이라는 이름으로 임포트하였다면, 사용법은\n",
        "\n",
        "`sns.heatmap(데이터프레임의 상관계수 데이터)`\n",
        "\n",
        "아래 코드에 heatmap에서 사용하는 각종 추가적인 설정값에 대해서 주석 생성. 이 설정값들은 필수적인 입력이 아니며, 좀 더 예쁘게 차트를 그리기 위해서 여러분들이 추가적으로 조작하는 것들."
      ]
    },
    {
      "cell_type": "code",
      "metadata": {
        "colab": {
          "base_uri": "https://localhost:8080/"
        },
        "id": "ULjdJkBllfod",
        "outputId": "76f61625-47cc-463e-80f2-7fd2035efe6d"
      },
      "source": [
        "# 레이블의 폰트 사이즈를 조정\n",
        "sns.set(font_scale=2.0)\n",
        "\n",
        "test_heatmap = sns.heatmap(corr.values, # 데이터\n",
        "                          cbar = False, # 오른쪽 컬러 막대 출력 여부\n",
        "                           annot = True, # 차트에 숫자를 보여줄 것인지 여부\n",
        "                          annot_kws={'size' : 20}, # 숫자 출력 시 숫자 크기 조절\n",
        "                           fmt = '.2f', # 숫자의 출력 소수점자리 개수 조절\n",
        "                           square = 'True', # 차트를 정사각형으로 할 것인지\n",
        "                          yticklabels=column_names, # y축에 컬럼명 출력\n",
        "                          xticklabels=column_names) # x축에 컬럼명 출력\n",
        "plt.tight_layout()\n",
        "plt.show()"
      ],
      "execution_count": null,
      "outputs": [
        {
          "output_type": "display_data",
          "data": {
            "image/png": "[encoded data removed]",
            "text/plain": [
              "<Figure size 432x288 with 1 Axes>"
            ]
          },
          "metadata": {
            "tags": []
          }
        }
      ]
    },
    {
      "cell_type": "markdown",
      "metadata": {
        "id": "wcTrelw7-Kdy"
      },
      "source": [
        "이번에는 cbar를 True."
      ]
    },
    {
      "cell_type": "code",
      "metadata": {
        "colab": {
          "base_uri": "https://localhost:8080/"
        },
        "id": "DKmCc030GDaw",
        "outputId": "6eb89b32-605b-4be1-a922-00e007513d31"
      },
      "source": [
        "# 레이블의 폰트 사이즈를 조정\n",
        "sns.set(font_scale=2.0)\n",
        "\n",
        "test_heatmap = sns.heatmap(corr.values,\n",
        "                           cbar = True,\n",
        "                           annot = True,\n",
        "                           annot_kws={'size' : 20},\n",
        "                           fmt = '.2f',\n",
        "                           square = True,\n",
        "                          yticklabels=column_names,\n",
        "                          xticklabels=column_names)\n",
        "plt.tight_layout()\n",
        "plt.show()"
      ],
      "execution_count": null,
      "outputs": [
        {
          "output_type": "display_data",
          "data": {
            "image/png": "[encoded data removed]",
            "text/plain": [
              "<Figure size 432x288 with 2 Axes>"
            ]
          },
          "metadata": {
            "tags": []
          }
        }
      ]
    },
    {
      "cell_type": "markdown",
      "metadata": {
        "id": "C7oW2Kevh4RR"
      },
      "source": [
        "각종 설정값이 어떻게 동작하는지 가장 쉽게 알 수 있는 방법은 해당 설정값을 지워서 재출력 해보는 것!  \n",
        " 예를 들어서 **fmt = '.2f'**의 값을 **fmt = '.3f'**으로 바꿔서 재실행시,     그러면 차트 위의 숫자가 소수점 셋 째자리까지 출력\n",
        "\n",
        "상관 분석을 시각화 할 수 있는 또 다른 방법을 **산점도(scatter plot)**를 그리는 것.  \n",
        " 산점도는 좌표상에 점들을 표시하는 방법으로 두 개 변수 간의 관계를 나타내는 그래프 방법.   \n",
        "  변수 A가 증가할 때 변수 B 또한 증가하는 어떤 상관 관계가 있는지, 아니면 아무런 관계가 없는지 산점도를 통해서 확인이 가능하다.\n",
        "\n",
        "seaborn을 sns란 이름으로 임포트하였다면, pairplot은 각 열의 조합에 대해서 산점도를 그리고, 같은 데이터가 만나는 대각선 영역에는 해당 데이터의 히스토그램을 그린다.\n",
        "\n",
        "`sns.pairplot(데이터프레임)`"
      ]
    },
    {
      "cell_type": "code",
      "metadata": {
        "colab": {
          "base_uri": "https://localhost:8080/"
        },
        "id": "0c9i4ctlRFNL",
        "outputId": "b60c3f79-9a76-4ead-8d3b-2825d05c6ac0"
      },
      "source": [
        "# whitegrid = 배경에 하얀 선을 넣는다.\n",
        "sns.set(style='whitegrid')\n",
        "sns.pairplot(test_df)\n",
        "plt.show()"
      ],
      "execution_count": null,
      "outputs": [
        {
          "output_type": "display_data",
          "data": {
            "image/png": "[encoded data removed]",
            "text/plain": [
              "<Figure size 540x540 with 12 Axes>"
            ]
          },
          "metadata": {
            "tags": []
          }
        }
      ]
    },
    {
      "cell_type": "markdown",
      "metadata": {
        "id": "ngMaSvzwh6jw"
      },
      "source": [
        "지금은 데이터가 너무 적어서 산점도를 해석하기에는 무리. 산점도의 해석은 주류 데이터에 대해서 진행해보자!"
      ]
    },
    {
      "cell_type": "markdown",
      "metadata": {
        "id": "8BwIxd_CGTau"
      },
      "source": [
        "##주류 데이터의 상관계수"
      ]
    },
    {
      "cell_type": "markdown",
      "metadata": {
        "id": "F1a4Xb3bHqPZ"
      },
      "source": [
        "주류 데이터의 각 특성(feature)에 대해서 상관계수를 계산하고, 이를 seaborn의 heatmap과 pairplot을 통해서 시각화해보자.  \n",
        " 우선, 'beer_servings', 'wine_servings' 두 특성 간의 상관계수를 계산"
      ]
    },
    {
      "cell_type": "code",
      "metadata": {
        "colab": {
          "base_uri": "https://localhost:8080/"
        },
        "id": "uPgbE8OBHmWL",
        "outputId": "2c1820ce-d360-4422-dc06-d3e969307419"
      },
      "source": [
        "# 'beer_servings', 'wine_servings' 두 피처간의 상관계수를 계산.\n",
        "# pearson은 상관계수를 구하는 계산 방법 중 하나를 의미하며, 가장 널리 쓰이는 방법\n",
        "corr = drink_df[['beer_servings', 'wine_servings']].corr(method = 'pearson')\n",
        "corr"
      ],
      "execution_count": null,
      "outputs": [
        {
          "output_type": "execute_result",
          "data": {
            "text/html": [
              "<div>\n",
              "<style scoped>\n",
              "    .dataframe tbody tr th:only-of-type {\n",
              "        vertical-align: middle;\n",
              "    }\n",
              "\n",
              "    .dataframe tbody tr th {\n",
              "        vertical-align: top;\n",
              "    }\n",
              "\n",
              "    .dataframe thead th {\n",
              "        text-align: right;\n",
              "    }\n",
              "</style>\n",
              "<table border=\"1\" class=\"dataframe\">\n",
              "  <thead>\n",
              "    <tr style=\"text-align: right;\">\n",
              "      <th></th>\n",
              "      <th>beer_servings</th>\n",
              "      <th>wine_servings</th>\n",
              "    </tr>\n",
              "  </thead>\n",
              "  <tbody>\n",
              "    <tr>\n",
              "      <th>beer_servings</th>\n",
              "      <td>1.000000</td>\n",
              "      <td>0.527172</td>\n",
              "    </tr>\n",
              "    <tr>\n",
              "      <th>wine_servings</th>\n",
              "      <td>0.527172</td>\n",
              "      <td>1.000000</td>\n",
              "    </tr>\n",
              "  </tbody>\n",
              "</table>\n",
              "</div>"
            ],
            "text/plain": [
              "               beer_servings  wine_servings\n",
              "beer_servings       1.000000       0.527172\n",
              "wine_servings       0.527172       1.000000"
            ]
          },
          "metadata": {
            "tags": []
          },
          "execution_count": 58
        }
      ]
    },
    {
      "cell_type": "markdown",
      "metadata": {
        "id": "8xoTfTF2IX0J"
      },
      "source": [
        "주류 데이터의 각 특성(feature)에 대해서 상관계수를 계산하고, 이를 seaborn의 heatmap과 pairplot을 통해서 시각화  \n",
        " 우선, 'beer_servings', 'wine_servings' 두 특성 간의 상관계수를 계산"
      ]
    },
    {
      "cell_type": "code",
      "metadata": {
        "colab": {
          "base_uri": "https://localhost:8080/"
        },
        "id": "gQ0cEGgbHww0",
        "outputId": "150d5973-9a2e-4497-f19e-edd4882e630d"
      },
      "source": [
        "# 피처간의 상관계수 행렬\n",
        "cols = ['beer_servings', 'spirit_servings', 'wine_servings', 'total_litres_of_pure_alcohol']\n",
        "corr = drink_df[cols].corr(method = 'pearson')\n",
        "corr"
      ],
      "execution_count": null,
      "outputs": [
        {
          "output_type": "execute_result",
          "data": {
            "text/html": [
              "<div>\n",
              "<style scoped>\n",
              "    .dataframe tbody tr th:only-of-type {\n",
              "        vertical-align: middle;\n",
              "    }\n",
              "\n",
              "    .dataframe tbody tr th {\n",
              "        vertical-align: top;\n",
              "    }\n",
              "\n",
              "    .dataframe thead th {\n",
              "        text-align: right;\n",
              "    }\n",
              "</style>\n",
              "<table border=\"1\" class=\"dataframe\">\n",
              "  <thead>\n",
              "    <tr style=\"text-align: right;\">\n",
              "      <th></th>\n",
              "      <th>beer_servings</th>\n",
              "      <th>spirit_servings</th>\n",
              "      <th>wine_servings</th>\n",
              "      <th>total_litres_of_pure_alcohol</th>\n",
              "    </tr>\n",
              "  </thead>\n",
              "  <tbody>\n",
              "    <tr>\n",
              "      <th>beer_servings</th>\n",
              "      <td>1.000000</td>\n",
              "      <td>0.458819</td>\n",
              "      <td>0.527172</td>\n",
              "      <td>0.835839</td>\n",
              "    </tr>\n",
              "    <tr>\n",
              "      <th>spirit_servings</th>\n",
              "      <td>0.458819</td>\n",
              "      <td>1.000000</td>\n",
              "      <td>0.194797</td>\n",
              "      <td>0.654968</td>\n",
              "    </tr>\n",
              "    <tr>\n",
              "      <th>wine_servings</th>\n",
              "      <td>0.527172</td>\n",
              "      <td>0.194797</td>\n",
              "      <td>1.000000</td>\n",
              "      <td>0.667598</td>\n",
              "    </tr>\n",
              "    <tr>\n",
              "      <th>total_litres_of_pure_alcohol</th>\n",
              "      <td>0.835839</td>\n",
              "      <td>0.654968</td>\n",
              "      <td>0.667598</td>\n",
              "      <td>1.000000</td>\n",
              "    </tr>\n",
              "  </tbody>\n",
              "</table>\n",
              "</div>"
            ],
            "text/plain": [
              "                              beer_servings  ...  total_litres_of_pure_alcohol\n",
              "beer_servings                      1.000000  ...                      0.835839\n",
              "spirit_servings                    0.458819  ...                      0.654968\n",
              "wine_servings                      0.527172  ...                      0.667598\n",
              "total_litres_of_pure_alcohol       0.835839  ...                      1.000000\n",
              "\n",
              "[4 rows x 4 columns]"
            ]
          },
          "metadata": {
            "tags": []
          },
          "execution_count": 59
        }
      ]
    },
    {
      "cell_type": "markdown",
      "metadata": {
        "id": "GwleW8B3iA_F"
      },
      "source": [
        "가장 상관계수 값이 높은 경우는 beer_servings와 total_litres_of_pure_alcohold의 상관계수 값으로 0.835839에 해당.  \n",
        " 이를 seaborn의 heatmap을 통해서 시각화.  \n",
        "  우선 heatmap의 입력을 만들기 위해서 상관계수값에 .values를 적용."
      ]
    },
    {
      "cell_type": "code",
      "metadata": {
        "colab": {
          "base_uri": "https://localhost:8080/"
        },
        "id": "cA6hoDQoFAZE",
        "outputId": "766b3d6d-1d28-4ce9-91ba-8723bf27dc88"
      },
      "source": [
        "corr.values"
      ],
      "execution_count": null,
      "outputs": [
        {
          "output_type": "execute_result",
          "data": {
            "text/plain": [
              "array([[1.        , 0.45881887, 0.52717169, 0.83583863],\n",
              "       [0.45881887, 1.        , 0.19479705, 0.65496818],\n",
              "       [0.52717169, 0.19479705, 1.        , 0.66759834],\n",
              "       [0.83583863, 0.65496818, 0.66759834, 1.        ]])"
            ]
          },
          "metadata": {
            "tags": []
          },
          "execution_count": 60
        }
      ]
    },
    {
      "cell_type": "markdown",
      "metadata": {
        "id": "tz5Ef3J7iEaQ"
      },
      "source": [
        "히트맵 차트의 x축과 y축에 각각의 레이블을 달아주기 위해서 리스트 생성"
      ]
    },
    {
      "cell_type": "code",
      "metadata": {
        "id": "5gGhXb2oFNtc"
      },
      "source": [
        "column_names = ['beer', 'spirit', 'wine', 'alcohol']"
      ],
      "execution_count": null,
      "outputs": []
    },
    {
      "cell_type": "markdown",
      "metadata": {
        "id": "ev0wJmP4iGsb"
      },
      "source": [
        "seaborn의 heatmap 시각화"
      ]
    },
    {
      "cell_type": "code",
      "metadata": {
        "colab": {
          "base_uri": "https://localhost:8080/"
        },
        "id": "yVvOBJV_IxSH",
        "outputId": "866b163f-ef6a-43a6-a2b6-cf9943331bb2"
      },
      "source": [
        "import seaborn as sns\n",
        "import matplotlib.pyplot as plt\n",
        "\n",
        "# 레이블의 폰트 사이즈를 조정\n",
        "sns.set(font_scale=1.5)\n",
        "hm = sns.heatmap(corr.values,\n",
        "            cbar=True,\n",
        "            annot=True, \n",
        "            square=True,\n",
        "            fmt='.2f',\n",
        "            annot_kws={'size': 15},\n",
        "            yticklabels=column_names,\n",
        "            xticklabels=column_names)\n",
        "\n",
        "plt.tight_layout()\n",
        "plt.show()"
      ],
      "execution_count": null,
      "outputs": [
        {
          "output_type": "display_data",
          "data": {
            "image/png": "[encoded data removed]",
            "text/plain": [
              "<Figure size 432x288 with 2 Axes>"
            ]
          },
          "metadata": {
            "tags": []
          }
        }
      ]
    },
    {
      "cell_type": "markdown",
      "metadata": {
        "id": "d-vhAAukFcWL"
      },
      "source": [
        "cbar는 오른쪽에 있는 막대(범주)를 표시.\n",
        "\n",
        "annot는 상관계수를 표시.  \n",
        "\n",
        "square는 정사각형으로 지정, False로 설정 시 직사각형.\n",
        "\n",
        "fmt 는 상관계수의 소수점 자리수를 지정.\n",
        "\n",
        "annot_kws는 상관계수의 글자 크기를 지정.  \n",
        "\n",
        "yticklabels는 y축 레이블 값을 의미.  \n",
        "\n",
        "xticklabels는 x축 레이블 값을 의미."
      ]
    },
    {
      "cell_type": "markdown",
      "metadata": {
        "id": "POvAxG9IiLNN"
      },
      "source": [
        "alcohol은 대체적으로 다른 특성들과 모두 상관 계수가 높다.  \n",
        " 이미 시각화를 진행하기 전에도 확인한 내용이기는 하지만, 그 중에서도 0.84로 beer와 상관 계수값이 가장 높다.  \n",
        " 앞서 확인하였을 때는 0.835839였지만, 여기서는 소수점 두 자리까지만 출력하면서 반올림되어 0.84로 출력."
      ]
    },
    {
      "cell_type": "markdown",
      "metadata": {
        "id": "3RZlcoA9FVQP"
      },
      "source": [
        "피어슨의 상관계수는 일반적으로,\n",
        "\n",
        "  값이 -1.0 ~ -0.7 이면, 강한 음적 상관관계\n",
        "\n",
        "  값이 -0.7 ~ -0.3 이면, 뚜렷한 음적 상관관계\n",
        "\n",
        "  값이 -0.3 ~ -0.1 이면, 약한 음적 상관관계\n",
        "\n",
        "  값이 -0.1 ~ +0.1 이면, 없다고 할 수 있는 상관관계\n",
        "\n",
        "  값이 +0.1 ~ +0.3 이면, 약한 양적 상관관계\n",
        "\n",
        "  값이 +0.3 ~ +0.7 이면, 뚜렷한 양적 상관관계\n",
        "\n",
        "  값이 +0.7 ~ +1.0 이면, 강한 양적 상관관계\n",
        "\n",
        "로 해석."
      ]
    },
    {
      "cell_type": "markdown",
      "metadata": {
        "id": "XIkwbt9mQ9G-"
      },
      "source": [
        "##pairplot"
      ]
    },
    {
      "cell_type": "markdown",
      "metadata": {
        "id": "On85nmsAiRsH"
      },
      "source": [
        "주류 데이터의 산점도. 즉, pairplot을 확인해봅시다. pairplot은 데이터프레임을 인수로 받아 그리드(grid) 형태로 각 데이터 열의 조합에 대해 산점도를 그립니다. 같은 데이터가 만나는 대각선 영역에는 해당 데이터의 히스토그램을 그립니다."
      ]
    },
    {
      "cell_type": "code",
      "metadata": {
        "colab": {
          "base_uri": "https://localhost:8080/"
        },
        "id": "blVxodbKR5g8",
        "outputId": "022af214-86c9-4161-a622-027daba22efd"
      },
      "source": [
        "# 시각화 라이브러리를 이용한 피처간의 scatter plot을 출력합니다.\n",
        "sns.set(style='whitegrid')\n",
        "sns.pairplot(drink_df[['beer_servings', 'spirit_servings', \n",
        "                     'wine_servings', 'total_litres_of_pure_alcohol']])\n",
        "plt.show()"
      ],
      "execution_count": null,
      "outputs": [
        {
          "output_type": "display_data",
          "data": {
            "image/png": "[encoded data removed]",
            "text/plain": [
              "<Figure size 720x720 with 20 Axes>"
            ]
          },
          "metadata": {
            "tags": []
          }
        }
      ]
    },
    {
      "cell_type": "markdown",
      "metadata": {
        "id": "F2TrVbhwJWTD"
      },
      "source": [
        "위 두 그래프로 결과를 살펴보면 total_litres_of_pure_alchol 특성이 대체적으로 모든 특성과 상관 관계가 있는 것으로 보이며, 특히 bear_servings의 상관성이 매우 높은 것으로 나타납니다."
      ]
    },
    {
      "cell_type": "markdown",
      "metadata": {
        "id": "9Ratpr2uJtxl"
      },
      "source": [
        "#탐색적 분석"
      ]
    },
    {
      "cell_type": "markdown",
      "metadata": {
        "id": "4CMbjoBQKxW3"
      },
      "source": [
        "##결측값 처리"
      ]
    },
    {
      "cell_type": "markdown",
      "metadata": {
        "id": "DNnPCUhtrhFO"
      },
      "source": [
        "결측값은 탐색적 데이터 분석에서도, 그 후 더 나아가 머신 러닝 알고리즘을 통해 분석을 할 때에도 성능에 영향을 줄 수 있는 값.  \n",
        " 결측값은 **아예 제거를 해주거나**, **특정 값으로 채워주거나** 크게 두 가지 선택.\n",
        "\n",
        "제거할 때는 주로 `dropna()`를 쓰는 반면, 채워줄 때는 주로 `fillna()`를 사용.\n",
        "\n",
        "앞서 continent열에 결측값이 23개가 있는 것을 확인했다.\n",
        "\n",
        "여기서는  특정값으로 채우는 `fillna()`를 사용."
      ]
    },
    {
      "cell_type": "code",
      "metadata": {
        "id": "OnBdAB9RKOUT"
      },
      "source": [
        "# 결측 데이터를 특정값으로 채우는 방법은 .fillna()를 사용하는 것이다.\n",
        "# 이 경우 기타 값이라는 의미에서 'ETC'를 넣어준다.\n",
        "drink_df['continent'] = drink_df['continent'].fillna('ETC')"
      ],
      "execution_count": null,
      "outputs": []
    },
    {
      "cell_type": "code",
      "metadata": {
        "colab": {
          "base_uri": "https://localhost:8080/"
        },
        "id": "-pQ_e6orKW0a",
        "outputId": "c449cf78-b3b1-44ec-eba8-a1d75927e627"
      },
      "source": [
        "drink_df.sample(10)"
      ],
      "execution_count": null,
      "outputs": [
        {
          "output_type": "execute_result",
          "data": {
            "text/html": [
              "<div>\n",
              "<style scoped>\n",
              "    .dataframe tbody tr th:only-of-type {\n",
              "        vertical-align: middle;\n",
              "    }\n",
              "\n",
              "    .dataframe tbody tr th {\n",
              "        vertical-align: top;\n",
              "    }\n",
              "\n",
              "    .dataframe thead th {\n",
              "        text-align: right;\n",
              "    }\n",
              "</style>\n",
              "<table border=\"1\" class=\"dataframe\">\n",
              "  <thead>\n",
              "    <tr style=\"text-align: right;\">\n",
              "      <th></th>\n",
              "      <th>country</th>\n",
              "      <th>beer_servings</th>\n",
              "      <th>spirit_servings</th>\n",
              "      <th>wine_servings</th>\n",
              "      <th>total_litres_of_pure_alcohol</th>\n",
              "      <th>continent</th>\n",
              "    </tr>\n",
              "  </thead>\n",
              "  <tbody>\n",
              "    <tr>\n",
              "      <th>148</th>\n",
              "      <td>Sao Tome &amp; Principe</td>\n",
              "      <td>56</td>\n",
              "      <td>38</td>\n",
              "      <td>140</td>\n",
              "      <td>4.2</td>\n",
              "      <td>AF</td>\n",
              "    </tr>\n",
              "    <tr>\n",
              "      <th>115</th>\n",
              "      <td>Mozambique</td>\n",
              "      <td>47</td>\n",
              "      <td>18</td>\n",
              "      <td>5</td>\n",
              "      <td>1.3</td>\n",
              "      <td>AF</td>\n",
              "    </tr>\n",
              "    <tr>\n",
              "      <th>29</th>\n",
              "      <td>Cabo Verde</td>\n",
              "      <td>144</td>\n",
              "      <td>56</td>\n",
              "      <td>16</td>\n",
              "      <td>4.0</td>\n",
              "      <td>AF</td>\n",
              "    </tr>\n",
              "    <tr>\n",
              "      <th>67</th>\n",
              "      <td>Greece</td>\n",
              "      <td>133</td>\n",
              "      <td>112</td>\n",
              "      <td>218</td>\n",
              "      <td>8.3</td>\n",
              "      <td>EU</td>\n",
              "    </tr>\n",
              "    <tr>\n",
              "      <th>175</th>\n",
              "      <td>Tunisia</td>\n",
              "      <td>51</td>\n",
              "      <td>3</td>\n",
              "      <td>20</td>\n",
              "      <td>1.3</td>\n",
              "      <td>AF</td>\n",
              "    </tr>\n",
              "    <tr>\n",
              "      <th>78</th>\n",
              "      <td>Indonesia</td>\n",
              "      <td>5</td>\n",
              "      <td>1</td>\n",
              "      <td>0</td>\n",
              "      <td>0.1</td>\n",
              "      <td>AS</td>\n",
              "    </tr>\n",
              "    <tr>\n",
              "      <th>84</th>\n",
              "      <td>Jamaica</td>\n",
              "      <td>82</td>\n",
              "      <td>97</td>\n",
              "      <td>9</td>\n",
              "      <td>3.4</td>\n",
              "      <td>ETC</td>\n",
              "    </tr>\n",
              "    <tr>\n",
              "      <th>96</th>\n",
              "      <td>Liberia</td>\n",
              "      <td>19</td>\n",
              "      <td>152</td>\n",
              "      <td>2</td>\n",
              "      <td>3.1</td>\n",
              "      <td>AF</td>\n",
              "    </tr>\n",
              "    <tr>\n",
              "      <th>173</th>\n",
              "      <td>Tonga</td>\n",
              "      <td>36</td>\n",
              "      <td>21</td>\n",
              "      <td>5</td>\n",
              "      <td>1.1</td>\n",
              "      <td>OC</td>\n",
              "    </tr>\n",
              "    <tr>\n",
              "      <th>46</th>\n",
              "      <td>North Korea</td>\n",
              "      <td>0</td>\n",
              "      <td>0</td>\n",
              "      <td>0</td>\n",
              "      <td>0.0</td>\n",
              "      <td>AS</td>\n",
              "    </tr>\n",
              "  </tbody>\n",
              "</table>\n",
              "</div>"
            ],
            "text/plain": [
              "                 country  beer_servings  ...  total_litres_of_pure_alcohol  continent\n",
              "148  Sao Tome & Principe             56  ...                           4.2         AF\n",
              "115           Mozambique             47  ...                           1.3         AF\n",
              "29            Cabo Verde            144  ...                           4.0         AF\n",
              "67                Greece            133  ...                           8.3         EU\n",
              "175              Tunisia             51  ...                           1.3         AF\n",
              "78             Indonesia              5  ...                           0.1         AS\n",
              "84               Jamaica             82  ...                           3.4        ETC\n",
              "96               Liberia             19  ...                           3.1         AF\n",
              "173                Tonga             36  ...                           1.1         OC\n",
              "46           North Korea              0  ...                           0.0         AS\n",
              "\n",
              "[10 rows x 6 columns]"
            ]
          },
          "metadata": {
            "tags": []
          },
          "execution_count": 65
        }
      ]
    },
    {
      "cell_type": "markdown",
      "metadata": {
        "id": "lsjjvvi3rlFs"
      },
      "source": [
        "continent열에 결측값이 있을 경우 'ETC'라는 값으로 채우기."
      ]
    },
    {
      "cell_type": "markdown",
      "metadata": {
        "id": "OTOE2vRnrmXc"
      },
      "source": [
        "채우고 나서 랜덤으로 10개를 출력하도록 해보았는데, ETC란 값이 중간에 보인다."
      ]
    },
    {
      "cell_type": "markdown",
      "metadata": {
        "id": "w7c1Gxo1ibU7"
      },
      "source": [
        "이제 결측값이 사라졌는지 앞서 배운 코드인 isnull().sum()으로 확인."
      ]
    },
    {
      "cell_type": "code",
      "metadata": {
        "colab": {
          "base_uri": "https://localhost:8080/"
        },
        "id": "MGNkWP6es-2_",
        "outputId": "7583d2cc-eca1-4bd4-e6fe-4ef19f971169"
      },
      "source": [
        "drink_df.isnull().sum()"
      ],
      "execution_count": null,
      "outputs": [
        {
          "output_type": "execute_result",
          "data": {
            "text/plain": [
              "country                         0\n",
              "beer_servings                   0\n",
              "spirit_servings                 0\n",
              "wine_servings                   0\n",
              "total_litres_of_pure_alcohol    0\n",
              "continent                       0\n",
              "dtype: int64"
            ]
          },
          "metadata": {
            "tags": []
          },
          "execution_count": 66
        }
      ]
    },
    {
      "cell_type": "markdown",
      "metadata": {
        "id": "GNGvEJ3uicpY"
      },
      "source": [
        "이제 continent 열에는 결측값이 존재하지 않는다."
      ]
    },
    {
      "cell_type": "markdown",
      "metadata": {
        "id": "_C25artpKvUB"
      },
      "source": [
        "##파이 차트 그리기"
      ]
    },
    {
      "cell_type": "markdown",
      "metadata": {
        "id": "s-OpvAKVrpOa"
      },
      "source": [
        "파이 차트를 그리려면\n",
        "\n",
        "- 파이 차트로 사용할 데이터의 이름이 담긴 리스트,\n",
        "- 그리고 해당 이름에 해당하는 데이터의 값이 담긴 리스트\n",
        "\n",
        "이 두 가지가 필요.\n",
        "\n",
        "여기서는 continent에 대해서 파이차트 생성.  \n",
        " 파이 차트의 값으로는 continent에 있는 각 값들의 개수를 사용.   \n",
        " 우선, 특정 열에 대해서 `value_counts()`를 사용하였을 때의 결과."
      ]
    },
    {
      "cell_type": "code",
      "metadata": {
        "colab": {
          "base_uri": "https://localhost:8080/"
        },
        "id": "bwDi1-Bx5V7D",
        "outputId": "77af3748-2f38-4333-89c5-9560b519dd20"
      },
      "source": [
        "drink_df['continent'].value_counts()"
      ],
      "execution_count": null,
      "outputs": [
        {
          "output_type": "execute_result",
          "data": {
            "text/plain": [
              "AF     53\n",
              "EU     45\n",
              "AS     44\n",
              "ETC    23\n",
              "OC     16\n",
              "SA     12\n",
              "Name: continent, dtype: int64"
            ]
          },
          "metadata": {
            "tags": []
          },
          "execution_count": 67
        }
      ]
    },
    {
      "cell_type": "code",
      "metadata": {
        "colab": {
          "base_uri": "https://localhost:8080/"
        },
        "id": "488yaY6w5fr6",
        "outputId": "1574d9ba-459c-42ad-8d96-26c5ae7b4113"
      },
      "source": [
        "type(drink_df['continent'].value_counts())"
      ],
      "execution_count": null,
      "outputs": [
        {
          "output_type": "execute_result",
          "data": {
            "text/plain": [
              "pandas.core.series.Series"
            ]
          },
          "metadata": {
            "tags": []
          },
          "execution_count": 68
        }
      ]
    },
    {
      "cell_type": "markdown",
      "metadata": {
        "id": "yArKpcG1rr8e"
      },
      "source": [
        "인덱스에는 continents의 이름, 그리고 실제 값 부분에는 해당 continents에 있는 값들을 각각 카운트한 값.  \n",
        " 인덱스는 index로 접근하고 값에 대해서는 values로 접근하므로 각각 접근 후에 리스트로 값을 변환하는 tolist()를 사용."
      ]
    },
    {
      "cell_type": "code",
      "metadata": {
        "id": "t0zbLOm-KYIi"
      },
      "source": [
        "pie_labels = drink_df['continent'].value_counts().index.tolist()\n",
        "pie_values = drink_df['continent'].value_counts().values.tolist()"
      ],
      "execution_count": null,
      "outputs": []
    },
    {
      "cell_type": "code",
      "metadata": {
        "colab": {
          "base_uri": "https://localhost:8080/"
        },
        "id": "5Quk9kSLK8RD",
        "outputId": "81e77ba9-d736-4af8-d6dd-aec551c3a7fc"
      },
      "source": [
        "print(pie_labels)\n",
        "print(pie_values)"
      ],
      "execution_count": null,
      "outputs": [
        {
          "output_type": "stream",
          "text": [
            "['AF', 'EU', 'AS', 'ETC', 'OC', 'SA']\n",
            "[53, 45, 44, 23, 16, 12]\n"
          ],
          "name": "stdout"
        }
      ]
    },
    {
      "cell_type": "markdown",
      "metadata": {
        "id": "MtwircF1rwbR"
      },
      "source": [
        "파이 차트를 그리기 위해 필요한 두 가지.  \n",
        " 파이 차트를 그리는 방법은 plt.pie()를 사용.  \n",
        "  autopct는 소수점을 몇 개까지 출력할지를 정하기 위한 값."
      ]
    },
    {
      "cell_type": "markdown",
      "metadata": {
        "id": "segdwYHtijgj"
      },
      "source": [
        "사용 방법.\n",
        "\n",
        "`plt.pie(데이터의 실질적인 값, labels=데이터의 레이블 리스트)`\n",
        "\n",
        "autopct는 소수점을 몇 개까지 출력할지를 정하기 위한 값."
      ]
    },
    {
      "cell_type": "code",
      "metadata": {
        "colab": {
          "base_uri": "https://localhost:8080/"
        },
        "id": "za3nTAJWKsPR",
        "outputId": "cbf95fc5-19a1-4ce9-db16-3b8567dba828"
      },
      "source": [
        "plt.pie(pie_values, labels=pie_labels, autopct='%.02f%%')\n",
        "plt.title('Percentage of each continent')\n",
        "plt.show()"
      ],
      "execution_count": null,
      "outputs": [
        {
          "output_type": "display_data",
          "data": {
            "image/png": "[encoded data removed]",
            "text/plain": [
              "<Figure size 432x288 with 1 Axes>"
            ]
          },
          "metadata": {
            "tags": []
          }
        }
      ]
    },
    {
      "cell_type": "markdown",
      "metadata": {
        "id": "CBgo8OyL1Wq5"
      },
      "source": [
        "## GroupBy를 이용한 통계 확인"
      ]
    },
    {
      "cell_type": "markdown",
      "metadata": {
        "id": "boazLfn3r1Rp"
      },
      "source": [
        "`Group By`는 특정 값을 기준으로 그룹핑한 후에 그룹 별로 통계적인 수치 정보를 구할 수 있도록 하는 방법\n",
        "\n",
        "`데이터프레임의 이름.groupby('그룹핑 기준이 되는 열')['보고자 하는 열'].통계 함수`\n",
        "\n",
        "Group By를 통해서 수치 정보를 계산.\n",
        "\n",
        "- 어떤 대륙이 평균적으로 맥주를 더 먹을까?\n",
        "\n",
        "대륙에 대한 열은 continent.  맥주의 소비량은 beer_servings 열. \n",
        "\n",
        "평균을 구하는 함수는 mean()이므로 다음과 같이 사용."
      ]
    },
    {
      "cell_type": "markdown",
      "metadata": {
        "id": "B66PHEae0cLM"
      },
      "source": [
        "어떤 대륙이 평균적으로 맥주를 더 먹을까?"
      ]
    },
    {
      "cell_type": "code",
      "metadata": {
        "colab": {
          "base_uri": "https://localhost:8080/"
        },
        "id": "Gg2pWiNG0R58",
        "outputId": "656faf87-a57e-463b-f007-48ba3abab58d"
      },
      "source": [
        "drink_df.groupby('continent')['beer_servings'].mean()"
      ],
      "execution_count": null,
      "outputs": [
        {
          "output_type": "execute_result",
          "data": {
            "text/plain": [
              "continent\n",
              "AF      61.471698\n",
              "AS      37.045455\n",
              "ETC    145.434783\n",
              "EU     193.777778\n",
              "OC      89.687500\n",
              "SA     175.083333\n",
              "Name: beer_servings, dtype: float64"
            ]
          },
          "metadata": {
            "tags": []
          },
          "execution_count": 72
        }
      ]
    },
    {
      "cell_type": "code",
      "metadata": {
        "colab": {
          "base_uri": "https://localhost:8080/"
        },
        "id": "4qOiqzcOwtoB",
        "outputId": "a80a16f0-e31d-4cb7-e7ab-e2e74a73a900"
      },
      "source": [
        "type(drink_df.groupby('continent')['beer_servings'].mean())"
      ],
      "execution_count": null,
      "outputs": [
        {
          "output_type": "execute_result",
          "data": {
            "text/plain": [
              "pandas.core.series.Series"
            ]
          },
          "metadata": {
            "tags": []
          },
          "execution_count": 73
        }
      ]
    },
    {
      "cell_type": "markdown",
      "metadata": {
        "id": "uWYMvWaI0iVJ"
      },
      "source": [
        "각 대륙 별로 와인 소비에 대한 통계 정보를 출력"
      ]
    },
    {
      "cell_type": "code",
      "metadata": {
        "colab": {
          "base_uri": "https://localhost:8080/"
        },
        "id": "tFhYqDxl0hMz",
        "outputId": "e3d543a0-bcba-4248-97b8-a25c4ac7034f"
      },
      "source": [
        "drink_df.groupby('continent')['wine_servings'].describe()"
      ],
      "execution_count": null,
      "outputs": [
        {
          "output_type": "execute_result",
          "data": {
            "text/html": [
              "<div>\n",
              "<style scoped>\n",
              "    .dataframe tbody tr th:only-of-type {\n",
              "        vertical-align: middle;\n",
              "    }\n",
              "\n",
              "    .dataframe tbody tr th {\n",
              "        vertical-align: top;\n",
              "    }\n",
              "\n",
              "    .dataframe thead th {\n",
              "        text-align: right;\n",
              "    }\n",
              "</style>\n",
              "<table border=\"1\" class=\"dataframe\">\n",
              "  <thead>\n",
              "    <tr style=\"text-align: right;\">\n",
              "      <th></th>\n",
              "      <th>count</th>\n",
              "      <th>mean</th>\n",
              "      <th>std</th>\n",
              "      <th>min</th>\n",
              "      <th>25%</th>\n",
              "      <th>50%</th>\n",
              "      <th>75%</th>\n",
              "      <th>max</th>\n",
              "    </tr>\n",
              "    <tr>\n",
              "      <th>continent</th>\n",
              "      <th></th>\n",
              "      <th></th>\n",
              "      <th></th>\n",
              "      <th></th>\n",
              "      <th></th>\n",
              "      <th></th>\n",
              "      <th></th>\n",
              "      <th></th>\n",
              "    </tr>\n",
              "  </thead>\n",
              "  <tbody>\n",
              "    <tr>\n",
              "      <th>AF</th>\n",
              "      <td>53.0</td>\n",
              "      <td>16.264151</td>\n",
              "      <td>38.846419</td>\n",
              "      <td>0.0</td>\n",
              "      <td>1.0</td>\n",
              "      <td>2.0</td>\n",
              "      <td>13.00</td>\n",
              "      <td>233.0</td>\n",
              "    </tr>\n",
              "    <tr>\n",
              "      <th>AS</th>\n",
              "      <td>44.0</td>\n",
              "      <td>9.068182</td>\n",
              "      <td>21.667034</td>\n",
              "      <td>0.0</td>\n",
              "      <td>0.0</td>\n",
              "      <td>1.0</td>\n",
              "      <td>8.00</td>\n",
              "      <td>123.0</td>\n",
              "    </tr>\n",
              "    <tr>\n",
              "      <th>ETC</th>\n",
              "      <td>23.0</td>\n",
              "      <td>24.521739</td>\n",
              "      <td>28.266378</td>\n",
              "      <td>1.0</td>\n",
              "      <td>5.0</td>\n",
              "      <td>11.0</td>\n",
              "      <td>34.00</td>\n",
              "      <td>100.0</td>\n",
              "    </tr>\n",
              "    <tr>\n",
              "      <th>EU</th>\n",
              "      <td>45.0</td>\n",
              "      <td>142.222222</td>\n",
              "      <td>97.421738</td>\n",
              "      <td>0.0</td>\n",
              "      <td>59.0</td>\n",
              "      <td>128.0</td>\n",
              "      <td>195.00</td>\n",
              "      <td>370.0</td>\n",
              "    </tr>\n",
              "    <tr>\n",
              "      <th>OC</th>\n",
              "      <td>16.0</td>\n",
              "      <td>35.625000</td>\n",
              "      <td>64.555790</td>\n",
              "      <td>0.0</td>\n",
              "      <td>1.0</td>\n",
              "      <td>8.5</td>\n",
              "      <td>23.25</td>\n",
              "      <td>212.0</td>\n",
              "    </tr>\n",
              "    <tr>\n",
              "      <th>SA</th>\n",
              "      <td>12.0</td>\n",
              "      <td>62.416667</td>\n",
              "      <td>88.620189</td>\n",
              "      <td>1.0</td>\n",
              "      <td>3.0</td>\n",
              "      <td>12.0</td>\n",
              "      <td>98.50</td>\n",
              "      <td>221.0</td>\n",
              "    </tr>\n",
              "  </tbody>\n",
              "</table>\n",
              "</div>"
            ],
            "text/plain": [
              "           count        mean        std  min   25%    50%     75%    max\n",
              "continent                                                               \n",
              "AF          53.0   16.264151  38.846419  0.0   1.0    2.0   13.00  233.0\n",
              "AS          44.0    9.068182  21.667034  0.0   0.0    1.0    8.00  123.0\n",
              "ETC         23.0   24.521739  28.266378  1.0   5.0   11.0   34.00  100.0\n",
              "EU          45.0  142.222222  97.421738  0.0  59.0  128.0  195.00  370.0\n",
              "OC          16.0   35.625000  64.555790  0.0   1.0    8.5   23.25  212.0\n",
              "SA          12.0   62.416667  88.620189  1.0   3.0   12.0   98.50  221.0"
            ]
          },
          "metadata": {
            "tags": []
          },
          "execution_count": 74
        }
      ]
    },
    {
      "cell_type": "markdown",
      "metadata": {
        "id": "rLeJWGdM0703"
      },
      "source": [
        "모든 컬럼에 대해서 대륙별로 평균 알콜 소비량을 출력\n"
      ]
    },
    {
      "cell_type": "code",
      "metadata": {
        "colab": {
          "base_uri": "https://localhost:8080/"
        },
        "id": "Yq9y9gsh0spT",
        "outputId": "bb94e85d-b847-43af-ab1d-0a2eeda09180"
      },
      "source": [
        "drink_df.groupby('continent').mean()"
      ],
      "execution_count": null,
      "outputs": [
        {
          "output_type": "execute_result",
          "data": {
            "text/html": [
              "<div>\n",
              "<style scoped>\n",
              "    .dataframe tbody tr th:only-of-type {\n",
              "        vertical-align: middle;\n",
              "    }\n",
              "\n",
              "    .dataframe tbody tr th {\n",
              "        vertical-align: top;\n",
              "    }\n",
              "\n",
              "    .dataframe thead th {\n",
              "        text-align: right;\n",
              "    }\n",
              "</style>\n",
              "<table border=\"1\" class=\"dataframe\">\n",
              "  <thead>\n",
              "    <tr style=\"text-align: right;\">\n",
              "      <th></th>\n",
              "      <th>beer_servings</th>\n",
              "      <th>spirit_servings</th>\n",
              "      <th>wine_servings</th>\n",
              "      <th>total_litres_of_pure_alcohol</th>\n",
              "    </tr>\n",
              "    <tr>\n",
              "      <th>continent</th>\n",
              "      <th></th>\n",
              "      <th></th>\n",
              "      <th></th>\n",
              "      <th></th>\n",
              "    </tr>\n",
              "  </thead>\n",
              "  <tbody>\n",
              "    <tr>\n",
              "      <th>AF</th>\n",
              "      <td>61.471698</td>\n",
              "      <td>16.339623</td>\n",
              "      <td>16.264151</td>\n",
              "      <td>3.007547</td>\n",
              "    </tr>\n",
              "    <tr>\n",
              "      <th>AS</th>\n",
              "      <td>37.045455</td>\n",
              "      <td>60.840909</td>\n",
              "      <td>9.068182</td>\n",
              "      <td>2.170455</td>\n",
              "    </tr>\n",
              "    <tr>\n",
              "      <th>ETC</th>\n",
              "      <td>145.434783</td>\n",
              "      <td>165.739130</td>\n",
              "      <td>24.521739</td>\n",
              "      <td>5.995652</td>\n",
              "    </tr>\n",
              "    <tr>\n",
              "      <th>EU</th>\n",
              "      <td>193.777778</td>\n",
              "      <td>132.555556</td>\n",
              "      <td>142.222222</td>\n",
              "      <td>8.617778</td>\n",
              "    </tr>\n",
              "    <tr>\n",
              "      <th>OC</th>\n",
              "      <td>89.687500</td>\n",
              "      <td>58.437500</td>\n",
              "      <td>35.625000</td>\n",
              "      <td>3.381250</td>\n",
              "    </tr>\n",
              "    <tr>\n",
              "      <th>SA</th>\n",
              "      <td>175.083333</td>\n",
              "      <td>114.750000</td>\n",
              "      <td>62.416667</td>\n",
              "      <td>6.308333</td>\n",
              "    </tr>\n",
              "  </tbody>\n",
              "</table>\n",
              "</div>"
            ],
            "text/plain": [
              "           beer_servings  ...  total_litres_of_pure_alcohol\n",
              "continent                 ...                              \n",
              "AF             61.471698  ...                      3.007547\n",
              "AS             37.045455  ...                      2.170455\n",
              "ETC           145.434783  ...                      5.995652\n",
              "EU            193.777778  ...                      8.617778\n",
              "OC             89.687500  ...                      3.381250\n",
              "SA            175.083333  ...                      6.308333\n",
              "\n",
              "[6 rows x 4 columns]"
            ]
          },
          "metadata": {
            "tags": []
          },
          "execution_count": 75
        }
      ]
    },
    {
      "cell_type": "code",
      "metadata": {
        "colab": {
          "base_uri": "https://localhost:8080/"
        },
        "id": "U9NREDXDMBjK",
        "outputId": "845789a7-1849-4c6b-b60e-ba8026d7b730"
      },
      "source": [
        "# 전체 평균보다 많은 알코올을 섭취하는 대륙을 구합니다.\n",
        "total_mean = drink_df.total_litres_of_pure_alcohol.mean()\n",
        "continent_mean = drink_df.groupby('continent')['total_litres_of_pure_alcohol'].mean()\n",
        "continent_over_mean = continent_mean[continent_mean >= total_mean]\n",
        "print(continent_over_mean)"
      ],
      "execution_count": null,
      "outputs": [
        {
          "output_type": "stream",
          "text": [
            "continent\n",
            "ETC    5.995652\n",
            "EU     8.617778\n",
            "SA     6.308333\n",
            "Name: total_litres_of_pure_alcohol, dtype: float64\n"
          ],
          "name": "stdout"
        }
      ]
    },
    {
      "cell_type": "code",
      "metadata": {
        "colab": {
          "base_uri": "https://localhost:8080/"
        },
        "id": "_8xwC6WhMDCr",
        "outputId": "f5521f43-52b9-4799-e76b-5c7716fbfd29"
      },
      "source": [
        "# 평균 wine_servings이 가장 높은 대륙을 구합니다.\n",
        "beer_continent = drink_df.groupby('continent').wine_servings.mean().idxmax()\n",
        "print(beer_continent)"
      ],
      "execution_count": null,
      "outputs": [
        {
          "output_type": "stream",
          "text": [
            "EU\n"
          ],
          "name": "stdout"
        }
      ]
    },
    {
      "cell_type": "markdown",
      "metadata": {
        "id": "nsVcvyJO1T9G"
      },
      "source": [
        "wine_servings 소비에 대해서 평균, 최소, 최대값을 출력."
      ]
    },
    {
      "cell_type": "markdown",
      "metadata": {
        "id": "nKnxOYP7L4xc"
      },
      "source": [
        "agg()함수는 그룹에 대한 여러가지 연산 결과를 동시에 얻을 수 있는 함수.  \n",
        " 대륙별 spirit 소비의 통계적 벙보를 구하기 위해서는 agg에 구하고자하는 통계 파라미터를 입력하는 것으로 탐색이 가능."
      ]
    },
    {
      "cell_type": "code",
      "metadata": {
        "colab": {
          "base_uri": "https://localhost:8080/"
        },
        "id": "MJhlwHfp1GST",
        "outputId": "6a53d5e0-3ca5-4dc9-908a-8fdec10e99e2"
      },
      "source": [
        "drink_df.groupby('continent').wine_servings.agg(['mean', 'min', 'max', 'sum'])"
      ],
      "execution_count": null,
      "outputs": [
        {
          "output_type": "execute_result",
          "data": {
            "text/html": [
              "<div>\n",
              "<style scoped>\n",
              "    .dataframe tbody tr th:only-of-type {\n",
              "        vertical-align: middle;\n",
              "    }\n",
              "\n",
              "    .dataframe tbody tr th {\n",
              "        vertical-align: top;\n",
              "    }\n",
              "\n",
              "    .dataframe thead th {\n",
              "        text-align: right;\n",
              "    }\n",
              "</style>\n",
              "<table border=\"1\" class=\"dataframe\">\n",
              "  <thead>\n",
              "    <tr style=\"text-align: right;\">\n",
              "      <th></th>\n",
              "      <th>mean</th>\n",
              "      <th>min</th>\n",
              "      <th>max</th>\n",
              "      <th>sum</th>\n",
              "    </tr>\n",
              "    <tr>\n",
              "      <th>continent</th>\n",
              "      <th></th>\n",
              "      <th></th>\n",
              "      <th></th>\n",
              "      <th></th>\n",
              "    </tr>\n",
              "  </thead>\n",
              "  <tbody>\n",
              "    <tr>\n",
              "      <th>AF</th>\n",
              "      <td>16.264151</td>\n",
              "      <td>0</td>\n",
              "      <td>233</td>\n",
              "      <td>862</td>\n",
              "    </tr>\n",
              "    <tr>\n",
              "      <th>AS</th>\n",
              "      <td>9.068182</td>\n",
              "      <td>0</td>\n",
              "      <td>123</td>\n",
              "      <td>399</td>\n",
              "    </tr>\n",
              "    <tr>\n",
              "      <th>ETC</th>\n",
              "      <td>24.521739</td>\n",
              "      <td>1</td>\n",
              "      <td>100</td>\n",
              "      <td>564</td>\n",
              "    </tr>\n",
              "    <tr>\n",
              "      <th>EU</th>\n",
              "      <td>142.222222</td>\n",
              "      <td>0</td>\n",
              "      <td>370</td>\n",
              "      <td>6400</td>\n",
              "    </tr>\n",
              "    <tr>\n",
              "      <th>OC</th>\n",
              "      <td>35.625000</td>\n",
              "      <td>0</td>\n",
              "      <td>212</td>\n",
              "      <td>570</td>\n",
              "    </tr>\n",
              "    <tr>\n",
              "      <th>SA</th>\n",
              "      <td>62.416667</td>\n",
              "      <td>1</td>\n",
              "      <td>221</td>\n",
              "      <td>749</td>\n",
              "    </tr>\n",
              "  </tbody>\n",
              "</table>\n",
              "</div>"
            ],
            "text/plain": [
              "                 mean  min  max   sum\n",
              "continent                            \n",
              "AF          16.264151    0  233   862\n",
              "AS           9.068182    0  123   399\n",
              "ETC         24.521739    1  100   564\n",
              "EU         142.222222    0  370  6400\n",
              "OC          35.625000    0  212   570\n",
              "SA          62.416667    1  221   749"
            ]
          },
          "metadata": {
            "tags": []
          },
          "execution_count": 78
        }
      ]
    },
    {
      "cell_type": "markdown",
      "metadata": {
        "id": "83nJMDNBMZEn"
      },
      "source": [
        "##Bar Chart"
      ]
    },
    {
      "cell_type": "markdown",
      "metadata": {
        "id": "dxWfnf6ma688"
      },
      "source": [
        "참고 : https://wikidocs.net/92095"
      ]
    },
    {
      "cell_type": "markdown",
      "metadata": {
        "id": "Hd2V6JzGemne"
      },
      "source": [
        "###Bar Chart 튜토리얼"
      ]
    },
    {
      "cell_type": "markdown",
      "metadata": {
        "id": "nCeVxAR4iqpy"
      },
      "source": [
        "주류 데이터가 아닌 임의의 데이터를 가지고 바 차트를 그리는 연습"
      ]
    },
    {
      "cell_type": "code",
      "metadata": {
        "id": "f5qMC26aeK_v"
      },
      "source": [
        "import matplotlib.pyplot as plt"
      ],
      "execution_count": null,
      "outputs": []
    },
    {
      "cell_type": "markdown",
      "metadata": {
        "id": "e76tRzk9isVI"
      },
      "source": [
        "바 차트를 그리는 가장 쉬운 방법은 plt.bar()를 사용\n",
        "\n",
        "이번에는 바 차트를 그리기 위해서 세 가지 리스트를 사용.\n",
        "\n",
        "바의 위치를 결정하는 인덱스,\n",
        "\n",
        "바 차트로 사용할 데이터의 이름이 담긴 리스트(레이블),\n",
        "\n",
        "그리고 해당 이름에 해당하는 데이터의 값이 담긴 리스트(실질적인 데이터)\n",
        "\n",
        "아래의 코드에서는 각각 index, years, values에 해당"
      ]
    },
    {
      "cell_type": "code",
      "metadata": {
        "colab": {
          "base_uri": "https://localhost:8080/"
        },
        "id": "hnySuB68akH5",
        "outputId": "1b4c6d56-5c78-4b53-9081-41b2e1baaf03"
      },
      "source": [
        "# 여기서 index 값인 0, 1, 2는 순차적으로 어디에 배치될 것인지를 의미합니다.\n",
        "# 어떤 의미인지 궁금하다면 0, 1, 5로 바꿔서 실행해보세요!\n",
        "\n",
        "index = [0, 1, 2]\n",
        "years = ['2017', '2018', '2019']\n",
        "values = [100, 400, 900]\n",
        "\n",
        "plt.bar(index, values, width=0.2, color='g')\n",
        "plt.xticks(index, years)\n",
        "plt.show()"
      ],
      "execution_count": null,
      "outputs": [
        {
          "output_type": "display_data",
          "data": {
            "image/png": "[encoded data removed]",
            "text/plain": [
              "<Figure size 432x288 with 1 Axes>"
            ]
          },
          "metadata": {
            "tags": []
          }
        }
      ]
    },
    {
      "cell_type": "markdown",
      "metadata": {
        "id": "8i6S-ehzit37"
      },
      "source": [
        "인덱스는 숫자 0부터 시작,  \n",
        " "
      ]
    },
    {
      "cell_type": "code",
      "metadata": {
        "colab": {
          "base_uri": "https://localhost:8080/"
        },
        "id": "K2W80Se-9k0u",
        "outputId": "bb4c7cde-7028-46f7-ae1d-b591c0f75426"
      },
      "source": [
        "# 여기서 index 값인 0, 1, 2는 순차적으로 어디에 배치될 것인지를 의미\n",
        "# 어떤 의미인지 궁금하다면 0, 1, 5로 바꿔서 실행\n",
        "\n",
        "index = [0, 1, 5]\n",
        "years = ['2017', '2018', '2019']\n",
        "values = [100, 400, 900]\n",
        "\n",
        "plt.bar(index, values, width=0.2, color='g')\n",
        "plt.xticks(index, years)\n",
        "plt.show()"
      ],
      "execution_count": null,
      "outputs": [
        {
          "output_type": "display_data",
          "data": {
            "image/png": "[encoded data removed]",
            "text/plain": [
              "<Figure size 432x288 with 1 Axes>"
            ]
          },
          "metadata": {
            "tags": []
          }
        }
      ]
    },
    {
      "cell_type": "markdown",
      "metadata": {
        "id": "IvKnEkJoivOR"
      },
      "source": [
        "2019년 데이터가 5번 위치로 이동하면서 2번, 3번, 4번의 위치에 데이터 공백이 생겨서 위와 같은 결과가 출력.  \n",
        " 예를 들어서 데이터의 개수가 16개라면 다음과 같인 index 리스트를 작성\n",
        "\n",
        "index = [0, 1, 2, 3, 4, 5, 6, 7, 8, 9, 10, 11, 12, 13, 14, 15]\n",
        "\n",
        "그런데 이걸 일일히 0부터 작성해주는 것은 너무 비효율적.  \n",
        " 그래서 이를 자동화하고자 한다면 Numpy라는 패키지의 arange()라는 함수를 사용"
      ]
    },
    {
      "cell_type": "code",
      "metadata": {
        "id": "psDWUti1MsqT"
      },
      "source": [
        "import numpy as np"
      ],
      "execution_count": null,
      "outputs": []
    },
    {
      "cell_type": "markdown",
      "metadata": {
        "id": "FTRuyrFKiwhu"
      },
      "source": [
        "arange()는 입력으로 숫자를 넣으면 0부터 해당 숫자 전까지의 숫자 리스트 생성.\n",
        "\n",
        "예를 들어 3을 넣으면 0, 1, 2의 숫자 리스트 생성."
      ]
    },
    {
      "cell_type": "code",
      "metadata": {
        "id": "44-CsjtxcOEZ"
      },
      "source": [
        "index = np.arange(3)"
      ],
      "execution_count": null,
      "outputs": []
    },
    {
      "cell_type": "code",
      "metadata": {
        "colab": {
          "base_uri": "https://localhost:8080/"
        },
        "id": "O8Mb3X2bcO0L",
        "outputId": "6ee8e56b-445f-4018-d43a-814e53dac1b4"
      },
      "source": [
        "print(index)"
      ],
      "execution_count": null,
      "outputs": [
        {
          "output_type": "stream",
          "text": [
            "[0 1 2]\n"
          ],
          "name": "stdout"
        }
      ]
    },
    {
      "cell_type": "markdown",
      "metadata": {
        "id": "EZ3DxqgfiyTK"
      },
      "source": [
        "Numpy의 arange 함수를 통해 얻은 리스트를 입력으로 차트 그리기"
      ]
    },
    {
      "cell_type": "code",
      "metadata": {
        "colab": {
          "base_uri": "https://localhost:8080/"
        },
        "id": "NeoZDahGeVnL",
        "outputId": "2e88b2cb-e7bc-4584-9ea5-e661f049e6ff"
      },
      "source": [
        "years = ['2017', '2018', '2019']\n",
        "values = [100, 400, 900]\n",
        "\n",
        "plt.bar(index, values, width=0.2, color='g')\n",
        "plt.xticks(index, years)\n",
        "plt.show()"
      ],
      "execution_count": null,
      "outputs": [
        {
          "output_type": "display_data",
          "data": {
            "image/png": "[encoded data removed]",
            "text/plain": [
              "<Figure size 432x288 with 1 Axes>"
            ]
          },
          "metadata": {
            "tags": []
          }
        }
      ]
    },
    {
      "cell_type": "markdown",
      "metadata": {
        "id": "NNs3W6ABiz0i"
      },
      "source": [
        "처음과 동일한 결과. 앞으로는 데이터의 개수가 n개라면 arange(n)을 사용하고,\n",
        "\n",
        "index로 저장해서 차트를 그리기"
      ]
    },
    {
      "cell_type": "markdown",
      "metadata": {
        "id": "fTbb6SiWeo0Y"
      },
      "source": [
        "###Bar Chart : 대륙별 beer_servings의 평균, 최소, 최대, 합계 바 차트"
      ]
    },
    {
      "cell_type": "markdown",
      "metadata": {
        "id": "u8xubRk5i9X3"
      },
      "source": [
        "주류 데이터의 대륙 별 beer_servings의 평균, 최소, 최대, 합계에 대한 바 차트를 그리기\n",
        "\n",
        "우선 groupby를 통해서 통계 데이터 얻기."
      ]
    },
    {
      "cell_type": "code",
      "metadata": {
        "colab": {
          "base_uri": "https://localhost:8080/"
        },
        "id": "dsLnmLuQe7x1",
        "outputId": "92975aa2-cee4-422b-bdf4-a43818fa6413"
      },
      "source": [
        "drink_df.groupby('continent').beer_servings.agg(['mean', 'min', 'max', 'sum'])"
      ],
      "execution_count": null,
      "outputs": [
        {
          "output_type": "execute_result",
          "data": {
            "text/html": [
              "<div>\n",
              "<style scoped>\n",
              "    .dataframe tbody tr th:only-of-type {\n",
              "        vertical-align: middle;\n",
              "    }\n",
              "\n",
              "    .dataframe tbody tr th {\n",
              "        vertical-align: top;\n",
              "    }\n",
              "\n",
              "    .dataframe thead th {\n",
              "        text-align: right;\n",
              "    }\n",
              "</style>\n",
              "<table border=\"1\" class=\"dataframe\">\n",
              "  <thead>\n",
              "    <tr style=\"text-align: right;\">\n",
              "      <th></th>\n",
              "      <th>mean</th>\n",
              "      <th>min</th>\n",
              "      <th>max</th>\n",
              "      <th>sum</th>\n",
              "    </tr>\n",
              "    <tr>\n",
              "      <th>continent</th>\n",
              "      <th></th>\n",
              "      <th></th>\n",
              "      <th></th>\n",
              "      <th></th>\n",
              "    </tr>\n",
              "  </thead>\n",
              "  <tbody>\n",
              "    <tr>\n",
              "      <th>AF</th>\n",
              "      <td>61.471698</td>\n",
              "      <td>0</td>\n",
              "      <td>376</td>\n",
              "      <td>3258</td>\n",
              "    </tr>\n",
              "    <tr>\n",
              "      <th>AS</th>\n",
              "      <td>37.045455</td>\n",
              "      <td>0</td>\n",
              "      <td>247</td>\n",
              "      <td>1630</td>\n",
              "    </tr>\n",
              "    <tr>\n",
              "      <th>ETC</th>\n",
              "      <td>145.434783</td>\n",
              "      <td>1</td>\n",
              "      <td>285</td>\n",
              "      <td>3345</td>\n",
              "    </tr>\n",
              "    <tr>\n",
              "      <th>EU</th>\n",
              "      <td>193.777778</td>\n",
              "      <td>0</td>\n",
              "      <td>361</td>\n",
              "      <td>8720</td>\n",
              "    </tr>\n",
              "    <tr>\n",
              "      <th>OC</th>\n",
              "      <td>89.687500</td>\n",
              "      <td>0</td>\n",
              "      <td>306</td>\n",
              "      <td>1435</td>\n",
              "    </tr>\n",
              "    <tr>\n",
              "      <th>SA</th>\n",
              "      <td>175.083333</td>\n",
              "      <td>93</td>\n",
              "      <td>333</td>\n",
              "      <td>2101</td>\n",
              "    </tr>\n",
              "  </tbody>\n",
              "</table>\n",
              "</div>"
            ],
            "text/plain": [
              "                 mean  min  max   sum\n",
              "continent                            \n",
              "AF          61.471698    0  376  3258\n",
              "AS          37.045455    0  247  1630\n",
              "ETC        145.434783    1  285  3345\n",
              "EU         193.777778    0  361  8720\n",
              "OC          89.687500    0  306  1435\n",
              "SA         175.083333   93  333  2101"
            ]
          },
          "metadata": {
            "tags": []
          },
          "execution_count": 86
        }
      ]
    },
    {
      "cell_type": "markdown",
      "metadata": {
        "id": "YS1UAc8Li-zA"
      },
      "source": [
        "위 데이터프레임의 인덱스는 맨 좌측의 continent.\n",
        "\n",
        "위 데이터프레임을 beer_servings_table라는 이름의 변수에 저장."
      ]
    },
    {
      "cell_type": "markdown",
      "metadata": {
        "id": "8LtapAEAi_ci"
      },
      "source": [
        "각 대륙의 이름은 인덱스로부터 다음과 같이 얻는다."
      ]
    },
    {
      "cell_type": "code",
      "metadata": {
        "id": "CMmHVp_md74U"
      },
      "source": [
        "beer_servings_table = drink_df.groupby('continent').beer_servings.agg(['mean', 'min', 'max', 'sum'])"
      ],
      "execution_count": null,
      "outputs": []
    },
    {
      "cell_type": "code",
      "metadata": {
        "colab": {
          "base_uri": "https://localhost:8080/"
        },
        "id": "OWMto6NsaNnE",
        "outputId": "d6034777-25e5-4bb1-81e7-a5115c7dd8c6"
      },
      "source": [
        "beer_servings_table.index.to_list()"
      ],
      "execution_count": null,
      "outputs": [
        {
          "output_type": "execute_result",
          "data": {
            "text/plain": [
              "['AF', 'AS', 'ETC', 'EU', 'OC', 'SA']"
            ]
          },
          "metadata": {
            "tags": []
          },
          "execution_count": 88
        }
      ]
    },
    {
      "cell_type": "markdown",
      "metadata": {
        "id": "WGRkmwGijBvS"
      },
      "source": [
        "각 대륙의 이름은 인덱스로부터 다음과 같이 얻는다."
      ]
    },
    {
      "cell_type": "code",
      "metadata": {
        "colab": {
          "base_uri": "https://localhost:8080/"
        },
        "id": "hABLo4tKaSTI",
        "outputId": "490642f6-f45a-477c-a454-e128b6c839b5"
      },
      "source": [
        "beer_servings_table['mean'].to_list()"
      ],
      "execution_count": null,
      "outputs": [
        {
          "output_type": "execute_result",
          "data": {
            "text/plain": [
              "[61.471698113207545,\n",
              " 37.04545454545455,\n",
              " 145.43478260869566,\n",
              " 193.77777777777777,\n",
              " 89.6875,\n",
              " 175.08333333333334]"
            ]
          },
          "metadata": {
            "tags": []
          },
          "execution_count": 89
        }
      ]
    },
    {
      "cell_type": "markdown",
      "metadata": {
        "id": "4pBye5hUjDUZ"
      },
      "source": [
        "최솟값의 리스트는 다음과 같다."
      ]
    },
    {
      "cell_type": "code",
      "metadata": {
        "colab": {
          "base_uri": "https://localhost:8080/"
        },
        "id": "ME7Uq7i2aYa8",
        "outputId": "fd2991de-1ffe-4c06-a4ea-ca53b7d2e8d1"
      },
      "source": [
        "beer_servings_table['min'].to_list()"
      ],
      "execution_count": null,
      "outputs": [
        {
          "output_type": "execute_result",
          "data": {
            "text/plain": [
              "[0, 0, 1, 0, 0, 93]"
            ]
          },
          "metadata": {
            "tags": []
          },
          "execution_count": 90
        }
      ]
    },
    {
      "cell_type": "markdown",
      "metadata": {
        "id": "uKlHf3UQjEiv"
      },
      "source": [
        "최댓값의 리스트는 다음과 같이 얻는다."
      ]
    },
    {
      "cell_type": "code",
      "metadata": {
        "colab": {
          "base_uri": "https://localhost:8080/"
        },
        "id": "_njQ0TdKaWBF",
        "outputId": "d43fc457-42ec-43a7-f5ff-d423d5674522"
      },
      "source": [
        "beer_servings_table['max'].to_list()"
      ],
      "execution_count": null,
      "outputs": [
        {
          "output_type": "execute_result",
          "data": {
            "text/plain": [
              "[376, 247, 285, 361, 306, 333]"
            ]
          },
          "metadata": {
            "tags": []
          },
          "execution_count": 91
        }
      ]
    },
    {
      "cell_type": "markdown",
      "metadata": {
        "id": "POCKUK9TjFr3"
      },
      "source": [
        "합의 리스트 출력."
      ]
    },
    {
      "cell_type": "code",
      "metadata": {
        "colab": {
          "base_uri": "https://localhost:8080/"
        },
        "id": "fxWzBkCQaZ9y",
        "outputId": "d66164b9-fc73-4712-cb74-564df302c5ab"
      },
      "source": [
        "beer_servings_table['sum'].to_list()"
      ],
      "execution_count": null,
      "outputs": [
        {
          "output_type": "execute_result",
          "data": {
            "text/plain": [
              "[3258, 1630, 3345, 8720, 1435, 2101]"
            ]
          },
          "metadata": {
            "tags": []
          },
          "execution_count": 92
        }
      ]
    },
    {
      "cell_type": "markdown",
      "metadata": {
        "id": "pdMtPSL4jHBr"
      },
      "source": [
        "각 대륙의 이름(레이블)과 각 통계치(실질적인 데이터)를 확인하였으니 이제 이를 바탕으로 바 차트를 그리기!  \n",
        " 그런데 아직 남은 준비물이 있으니 바로 인덱스 리스트.\n",
        "\n",
        "대륙의 개수가 6개이므로 다음과 같이 리스트를 구성할 수 있다.\n",
        "\n",
        "[0, 1, 2, 3, 4, 5]\n",
        "\n",
        "대륙의 수가 달라지더라도 자동으로 인덱스를 구성할 수 있도록, arange 함수로 출력.  \n",
        " 대륙의 이름들이 들어가 있는 리스트의 길이를 카운트하면 대륙의 수가 출력 길이를 재는 len 함수를 이용해 대륙의 개수"
      ]
    },
    {
      "cell_type": "code",
      "metadata": {
        "colab": {
          "base_uri": "https://localhost:8080/"
        },
        "id": "En1Jnvx8exK_",
        "outputId": "f1a80a84-84de-453e-9bab-1b12a62a57ab"
      },
      "source": [
        "len(beer_servings_table.index.to_list())"
      ],
      "execution_count": null,
      "outputs": [
        {
          "output_type": "execute_result",
          "data": {
            "text/plain": [
              "6"
            ]
          },
          "metadata": {
            "tags": []
          },
          "execution_count": 93
        }
      ]
    },
    {
      "cell_type": "markdown",
      "metadata": {
        "id": "gmU6IHBMjJDQ"
      },
      "source": [
        "이 수를 arange()의 입력으로 하여 레이블의 개수 출력."
      ]
    },
    {
      "cell_type": "code",
      "metadata": {
        "id": "ogAJDhErcRXf"
      },
      "source": [
        "index = np.arange(len(beer_servings_table.index.to_list()))"
      ],
      "execution_count": null,
      "outputs": []
    },
    {
      "cell_type": "code",
      "metadata": {
        "colab": {
          "base_uri": "https://localhost:8080/"
        },
        "id": "RHsetA60e1Cs",
        "outputId": "9909a427-f4a7-44da-8123-dc4559b3ceda"
      },
      "source": [
        "index"
      ],
      "execution_count": null,
      "outputs": [
        {
          "output_type": "execute_result",
          "data": {
            "text/plain": [
              "array([0, 1, 2, 3, 4, 5])"
            ]
          },
          "metadata": {
            "tags": []
          },
          "execution_count": 95
        }
      ]
    },
    {
      "cell_type": "markdown",
      "metadata": {
        "id": "ZbNQH1X5jKrC"
      },
      "source": [
        "0부터 5까지 총 6개의 원소가 순차적으로 들어가있는 정수의 리스트 출력.\n",
        "\n",
        " **각 대륙의 평균 맥주 소비량**을 바 차트로 표현."
      ]
    },
    {
      "cell_type": "code",
      "metadata": {
        "colab": {
          "base_uri": "https://localhost:8080/"
        },
        "id": "cawsXJJpe12w",
        "outputId": "65a02586-9c0a-4121-d5b9-b7e00b65638f"
      },
      "source": [
        "continents = beer_servings_table.index.to_list()\n",
        "values = beer_servings_table['mean'].to_list()\n",
        "\n",
        "plt.bar(index, values, width=0.2, color='g')\n",
        "plt.xticks(index, continents)\n",
        "plt.show()"
      ],
      "execution_count": null,
      "outputs": [
        {
          "output_type": "display_data",
          "data": {
            "image/png": "[encoded data removed]",
            "text/plain": [
              "<Figure size 432x288 with 1 Axes>"
            ]
          },
          "metadata": {
            "tags": []
          }
        }
      ]
    },
    {
      "cell_type": "markdown",
      "metadata": {
        "id": "NiWmfwwRjMji"
      },
      "source": [
        "mean대신 min, max, sum 등을 넣으면 최솟값에 대해서 최댓값에 대해서 합계에 대해서 바 차트를 표현.  \n",
        " 다른 수치이므로 plt.bar의 color의 값을 바꿔줘서 색깔 변경\n",
        "\n",
        "위의 경우에는 color의 값이 'g'였는데, 이는 green을 나타내므로 초록색이었습니다.\n",
        "\n",
        "max를 사용. 그리고 color의 값을 'r'로 지정. 이는 red를 의미."
      ]
    },
    {
      "cell_type": "code",
      "metadata": {
        "colab": {
          "base_uri": "https://localhost:8080/"
        },
        "id": "x1Z069cqc6LH",
        "outputId": "99a91654-d9a1-40de-d6e8-c07d3ad9893c"
      },
      "source": [
        "continents = beer_servings_table.index.to_list()\n",
        "values = beer_servings_table['max'].to_list()\n",
        "\n",
        "plt.bar(index, values, width=0.2, color='r')\n",
        "plt.xticks(index, continents)\n",
        "plt.show()"
      ],
      "execution_count": null,
      "outputs": [
        {
          "output_type": "display_data",
          "data": {
            "image/png": "[encoded data removed]",
            "text/plain": [
              "<Figure size 432x288 with 1 Axes>"
            ]
          },
          "metadata": {
            "tags": []
          }
        }
      ]
    },
    {
      "cell_type": "markdown",
      "metadata": {
        "id": "anmGQUeijPBu"
      },
      "source": [
        "min을 사용. 그리고 color의 값을 'b'로 지정. 이는 blue를 의미."
      ]
    },
    {
      "cell_type": "code",
      "metadata": {
        "colab": {
          "base_uri": "https://localhost:8080/"
        },
        "id": "5-K5udxQbKDM",
        "outputId": "ffa7d7eb-e800-4031-f004-0c0c879d93af"
      },
      "source": [
        "continents = beer_servings_table.index.to_list()\n",
        "values = beer_servings_table['min'].to_list()\n",
        "\n",
        "plt.bar(index, values, width=0.2, color='b')\n",
        "plt.xticks(index, continents)\n",
        "plt.show()"
      ],
      "execution_count": null,
      "outputs": [
        {
          "output_type": "display_data",
          "data": {
            "image/png": "[encoded data removed]",
            "text/plain": [
              "<Figure size 432x288 with 1 Axes>"
            ]
          },
          "metadata": {
            "tags": []
          }
        }
      ]
    },
    {
      "cell_type": "markdown",
      "metadata": {
        "id": "AMnQMOAXjQbd"
      },
      "source": [
        "y축 레이블과 차트 제목도 추가. 이는 각각 ylabel과 title로 가능."
      ]
    },
    {
      "cell_type": "code",
      "metadata": {
        "colab": {
          "base_uri": "https://localhost:8080/"
        },
        "id": "gvARiMJVdL38",
        "outputId": "2c29e2ed-5c92-43fd-c3bb-5246dc8e28dc"
      },
      "source": [
        "continents = beer_servings_table.index.to_list()\n",
        "values = beer_servings_table['sum'].to_list()\n",
        "\n",
        "# y축 레이블과 바차트 제목 추가\n",
        "plt.ylabel('beer_servings')\n",
        "plt.title('beer_servings by continents')\n",
        "\n",
        "plt.bar(index, values, width=0.2, color='y')\n",
        "plt.xticks(index, continents)\n",
        "plt.show()"
      ],
      "execution_count": null,
      "outputs": [
        {
          "output_type": "display_data",
          "data": {
            "image/png": "[encoded data removed]",
            "text/plain": [
              "<Figure size 432x288 with 1 Axes>"
            ]
          },
          "metadata": {
            "tags": []
          }
        }
      ]
    },
    {
      "cell_type": "markdown",
      "metadata": {
        "id": "m1P9TO3bteTI"
      },
      "source": [
        "#Quiz"
      ]
    },
    {
      "cell_type": "markdown",
      "metadata": {
        "id": "OA_JWTF3uJ9G"
      },
      "source": [
        "sklearn은 머신 러닝 패키지로 각종 머신 러닝 데이터셋도 제공.\n",
        "\n",
        "이번 과제에서 사용할 머신 러닝 데이터셋은 iris data(붓꽃 데이터)."
      ]
    },
    {
      "cell_type": "code",
      "metadata": {
        "id": "_BPqpRhTuHcW"
      },
      "source": [
        "# 과제에 필요한 패키지는 아래의 두 가지가 전부.\n",
        "# 여러분들의 필요에 따라서 패키지를 지속 추가.\n",
        "import pandas as pd\n",
        "from sklearn import datasets\n",
        "\n",
        "# 붓꽃 데이터 로드\n",
        "iris_data = datasets.load_iris()"
      ],
      "execution_count": null,
      "outputs": []
    },
    {
      "cell_type": "markdown",
      "metadata": {
        "id": "6IdliXZduNeV"
      },
      "source": [
        "iris 데이터셋의 각 열은 다음과 같다.\n",
        "\n",
        "- Sepal Length : 꽃받침의 길이 정보\n",
        "- Sepal Width : 꽃받침의 너비 정보\n",
        "- Petal Length : 꽃잎의 길이 정보\n",
        "- Petal Width : 꽃잎의 너비 정보\n",
        "\n",
        "이러한 4개의 특성을 알려줄테니\n",
        "\n",
        "꽃의 종류를 예측해보라는 것이 iris 데이터셋이 제시하는 머신러닝 문제.\n",
        "\n",
        "- Species 꽃의 종류 정보 : setosa / versicolor / virginica 의 3종류.\n",
        "\n",
        "우선 4개의 특성에 해당되는 데이터를 df_data에 로드."
      ]
    },
    {
      "cell_type": "code",
      "metadata": {
        "colab": {
          "base_uri": "https://localhost:8080/",
          "height": 206
        },
        "id": "g4d1GsNZuL52",
        "outputId": "e5e3fc04-9577-4bfb-b1cd-e6332ffbfefb"
      },
      "source": [
        "df_data = pd.DataFrame(iris_data['data'], columns=iris_data['feature_names'])\n",
        "# 랜덤으로 5개의 샘플 출력\n",
        "df_data.sample(5)"
      ],
      "execution_count": null,
      "outputs": [
        {
          "output_type": "execute_result",
          "data": {
            "text/html": [
              "<div>\n",
              "<style scoped>\n",
              "    .dataframe tbody tr th:only-of-type {\n",
              "        vertical-align: middle;\n",
              "    }\n",
              "\n",
              "    .dataframe tbody tr th {\n",
              "        vertical-align: top;\n",
              "    }\n",
              "\n",
              "    .dataframe thead th {\n",
              "        text-align: right;\n",
              "    }\n",
              "</style>\n",
              "<table border=\"1\" class=\"dataframe\">\n",
              "  <thead>\n",
              "    <tr style=\"text-align: right;\">\n",
              "      <th></th>\n",
              "      <th>sepal length (cm)</th>\n",
              "      <th>sepal width (cm)</th>\n",
              "      <th>petal length (cm)</th>\n",
              "      <th>petal width (cm)</th>\n",
              "    </tr>\n",
              "  </thead>\n",
              "  <tbody>\n",
              "    <tr>\n",
              "      <th>108</th>\n",
              "      <td>6.7</td>\n",
              "      <td>2.5</td>\n",
              "      <td>5.8</td>\n",
              "      <td>1.8</td>\n",
              "    </tr>\n",
              "    <tr>\n",
              "      <th>117</th>\n",
              "      <td>7.7</td>\n",
              "      <td>3.8</td>\n",
              "      <td>6.7</td>\n",
              "      <td>2.2</td>\n",
              "    </tr>\n",
              "    <tr>\n",
              "      <th>10</th>\n",
              "      <td>5.4</td>\n",
              "      <td>3.7</td>\n",
              "      <td>1.5</td>\n",
              "      <td>0.2</td>\n",
              "    </tr>\n",
              "    <tr>\n",
              "      <th>144</th>\n",
              "      <td>6.7</td>\n",
              "      <td>3.3</td>\n",
              "      <td>5.7</td>\n",
              "      <td>2.5</td>\n",
              "    </tr>\n",
              "    <tr>\n",
              "      <th>142</th>\n",
              "      <td>5.8</td>\n",
              "      <td>2.7</td>\n",
              "      <td>5.1</td>\n",
              "      <td>1.9</td>\n",
              "    </tr>\n",
              "  </tbody>\n",
              "</table>\n",
              "</div>"
            ],
            "text/plain": [
              "     sepal length (cm)  sepal width (cm)  petal length (cm)  petal width (cm)\n",
              "108                6.7               2.5                5.8               1.8\n",
              "117                7.7               3.8                6.7               2.2\n",
              "10                 5.4               3.7                1.5               0.2\n",
              "144                6.7               3.3                5.7               2.5\n",
              "142                5.8               2.7                5.1               1.9"
            ]
          },
          "metadata": {
            "tags": []
          },
          "execution_count": 2
        }
      ]
    },
    {
      "cell_type": "markdown",
      "metadata": {
        "id": "dQh3Q-6BuQuW"
      },
      "source": [
        "4개의 열이 출력되는데, 각각 꽃받침의 길이 정보, 꽃받침의 너비 정보, 꽃잎의 길이 정보, 꽃잎의 너비 정보에 해당.  \n",
        " iris 데이터(붓꽃 데이터)는 이 4개의 특성만 보고 이 꽃이 어떤 품종의 붓꽃인지를 예측해야하는 머신 러닝 문제를 위한 데이터셋.\n",
        "\n",
        "정답에 해당되는 레이블을 df_target에 로드."
      ]
    },
    {
      "cell_type": "code",
      "metadata": {
        "colab": {
          "base_uri": "https://localhost:8080/",
          "height": 206
        },
        "id": "pX4pi1QKuPR3",
        "outputId": "01f777fc-dc7d-48a8-ae1f-9ace11e97639"
      },
      "source": [
        "df_target = pd.DataFrame(iris_data['target'], columns=['species'])\n",
        "df_target.sample(5)"
      ],
      "execution_count": null,
      "outputs": [
        {
          "output_type": "execute_result",
          "data": {
            "text/html": [
              "<div>\n",
              "<style scoped>\n",
              "    .dataframe tbody tr th:only-of-type {\n",
              "        vertical-align: middle;\n",
              "    }\n",
              "\n",
              "    .dataframe tbody tr th {\n",
              "        vertical-align: top;\n",
              "    }\n",
              "\n",
              "    .dataframe thead th {\n",
              "        text-align: right;\n",
              "    }\n",
              "</style>\n",
              "<table border=\"1\" class=\"dataframe\">\n",
              "  <thead>\n",
              "    <tr style=\"text-align: right;\">\n",
              "      <th></th>\n",
              "      <th>species</th>\n",
              "    </tr>\n",
              "  </thead>\n",
              "  <tbody>\n",
              "    <tr>\n",
              "      <th>71</th>\n",
              "      <td>1</td>\n",
              "    </tr>\n",
              "    <tr>\n",
              "      <th>90</th>\n",
              "      <td>1</td>\n",
              "    </tr>\n",
              "    <tr>\n",
              "      <th>46</th>\n",
              "      <td>0</td>\n",
              "    </tr>\n",
              "    <tr>\n",
              "      <th>7</th>\n",
              "      <td>0</td>\n",
              "    </tr>\n",
              "    <tr>\n",
              "      <th>42</th>\n",
              "      <td>0</td>\n",
              "    </tr>\n",
              "  </tbody>\n",
              "</table>\n",
              "</div>"
            ],
            "text/plain": [
              "    species\n",
              "71        1\n",
              "90        1\n",
              "46        0\n",
              "7         0\n",
              "42        0"
            ]
          },
          "metadata": {
            "tags": []
          },
          "execution_count": 3
        }
      ]
    },
    {
      "cell_type": "markdown",
      "metadata": {
        "id": "JyeLNv6XuVaM"
      },
      "source": [
        "이 시리즈에는 어떤 값들이 있는지 출력."
      ]
    },
    {
      "cell_type": "code",
      "metadata": {
        "colab": {
          "base_uri": "https://localhost:8080/"
        },
        "id": "FGJhCjftuXVI",
        "outputId": "4087153d-a534-4cd2-d2af-89e57de3d8cc"
      },
      "source": [
        "# 값의 종류를 전부 출력\n",
        "df_target['species'].unique()"
      ],
      "execution_count": null,
      "outputs": [
        {
          "output_type": "execute_result",
          "data": {
            "text/plain": [
              "array([0, 1, 2])"
            ]
          },
          "metadata": {
            "tags": []
          },
          "execution_count": 4
        }
      ]
    },
    {
      "cell_type": "markdown",
      "metadata": {
        "id": "S8agmRdMubtf"
      },
      "source": [
        "숫자가 0, 1, 2가 나오는데 각각이 의미하는 품종은 다음과 같다.\n",
        "\n",
        "- 0 = setosa\n",
        "- 1 = versicolor\n",
        "- 2 = virginica\n",
        "\n",
        "pd.concat()을 사용하면 위 데이터프레임과 시리즈를\n",
        "\n",
        "하나의 데이터프레임으로 합치는 것이 가능."
      ]
    },
    {
      "cell_type": "code",
      "metadata": {
        "colab": {
          "base_uri": "https://localhost:8080/",
          "height": 423
        },
        "id": "9inSiEWyudf4",
        "outputId": "8c42f85b-6232-4aed-939e-30c6f7d81c3c"
      },
      "source": [
        "df = pd.concat([df_data, df_target], axis=1)\n",
        "df"
      ],
      "execution_count": null,
      "outputs": [
        {
          "output_type": "execute_result",
          "data": {
            "text/html": [
              "<div>\n",
              "<style scoped>\n",
              "    .dataframe tbody tr th:only-of-type {\n",
              "        vertical-align: middle;\n",
              "    }\n",
              "\n",
              "    .dataframe tbody tr th {\n",
              "        vertical-align: top;\n",
              "    }\n",
              "\n",
              "    .dataframe thead th {\n",
              "        text-align: right;\n",
              "    }\n",
              "</style>\n",
              "<table border=\"1\" class=\"dataframe\">\n",
              "  <thead>\n",
              "    <tr style=\"text-align: right;\">\n",
              "      <th></th>\n",
              "      <th>sepal length (cm)</th>\n",
              "      <th>sepal width (cm)</th>\n",
              "      <th>petal length (cm)</th>\n",
              "      <th>petal width (cm)</th>\n",
              "      <th>species</th>\n",
              "    </tr>\n",
              "  </thead>\n",
              "  <tbody>\n",
              "    <tr>\n",
              "      <th>0</th>\n",
              "      <td>5.1</td>\n",
              "      <td>3.5</td>\n",
              "      <td>1.4</td>\n",
              "      <td>0.2</td>\n",
              "      <td>0</td>\n",
              "    </tr>\n",
              "    <tr>\n",
              "      <th>1</th>\n",
              "      <td>4.9</td>\n",
              "      <td>3.0</td>\n",
              "      <td>1.4</td>\n",
              "      <td>0.2</td>\n",
              "      <td>0</td>\n",
              "    </tr>\n",
              "    <tr>\n",
              "      <th>2</th>\n",
              "      <td>4.7</td>\n",
              "      <td>3.2</td>\n",
              "      <td>1.3</td>\n",
              "      <td>0.2</td>\n",
              "      <td>0</td>\n",
              "    </tr>\n",
              "    <tr>\n",
              "      <th>3</th>\n",
              "      <td>4.6</td>\n",
              "      <td>3.1</td>\n",
              "      <td>1.5</td>\n",
              "      <td>0.2</td>\n",
              "      <td>0</td>\n",
              "    </tr>\n",
              "    <tr>\n",
              "      <th>4</th>\n",
              "      <td>5.0</td>\n",
              "      <td>3.6</td>\n",
              "      <td>1.4</td>\n",
              "      <td>0.2</td>\n",
              "      <td>0</td>\n",
              "    </tr>\n",
              "    <tr>\n",
              "      <th>...</th>\n",
              "      <td>...</td>\n",
              "      <td>...</td>\n",
              "      <td>...</td>\n",
              "      <td>...</td>\n",
              "      <td>...</td>\n",
              "    </tr>\n",
              "    <tr>\n",
              "      <th>145</th>\n",
              "      <td>6.7</td>\n",
              "      <td>3.0</td>\n",
              "      <td>5.2</td>\n",
              "      <td>2.3</td>\n",
              "      <td>2</td>\n",
              "    </tr>\n",
              "    <tr>\n",
              "      <th>146</th>\n",
              "      <td>6.3</td>\n",
              "      <td>2.5</td>\n",
              "      <td>5.0</td>\n",
              "      <td>1.9</td>\n",
              "      <td>2</td>\n",
              "    </tr>\n",
              "    <tr>\n",
              "      <th>147</th>\n",
              "      <td>6.5</td>\n",
              "      <td>3.0</td>\n",
              "      <td>5.2</td>\n",
              "      <td>2.0</td>\n",
              "      <td>2</td>\n",
              "    </tr>\n",
              "    <tr>\n",
              "      <th>148</th>\n",
              "      <td>6.2</td>\n",
              "      <td>3.4</td>\n",
              "      <td>5.4</td>\n",
              "      <td>2.3</td>\n",
              "      <td>2</td>\n",
              "    </tr>\n",
              "    <tr>\n",
              "      <th>149</th>\n",
              "      <td>5.9</td>\n",
              "      <td>3.0</td>\n",
              "      <td>5.1</td>\n",
              "      <td>1.8</td>\n",
              "      <td>2</td>\n",
              "    </tr>\n",
              "  </tbody>\n",
              "</table>\n",
              "<p>150 rows × 5 columns</p>\n",
              "</div>"
            ],
            "text/plain": [
              "     sepal length (cm)  sepal width (cm)  ...  petal width (cm)  species\n",
              "0                  5.1               3.5  ...               0.2        0\n",
              "1                  4.9               3.0  ...               0.2        0\n",
              "2                  4.7               3.2  ...               0.2        0\n",
              "3                  4.6               3.1  ...               0.2        0\n",
              "4                  5.0               3.6  ...               0.2        0\n",
              "..                 ...               ...  ...               ...      ...\n",
              "145                6.7               3.0  ...               2.3        2\n",
              "146                6.3               2.5  ...               1.9        2\n",
              "147                6.5               3.0  ...               2.0        2\n",
              "148                6.2               3.4  ...               2.3        2\n",
              "149                5.9               3.0  ...               1.8        2\n",
              "\n",
              "[150 rows x 5 columns]"
            ]
          },
          "metadata": {
            "tags": []
          },
          "execution_count": 6
        }
      ]
    },
    {
      "cell_type": "markdown",
      "metadata": {
        "id": "dDahm71lufLd"
      },
      "source": [
        "150개의 행과 5개의 열을 가진 붓꽃 데이터가 데이터프레임에 로드된 상태.\n",
        "\n",
        "총 150개의 붓꽃이 있는데, 종류는 3개였고,\n",
        "\n",
        "각 붓꽃의 꽃받침의 길이와 너비, 꽃잎의 길이와 너비를 기록한 데이터셋.\n",
        "\n",
        "여러분들의 과제는 이 붓꽃 데이터를 가지고 데이터프레임의 기능(조건부 필터링, 상관 계수 분석 등), Matplotlib, Seaborn을 사용하여\n",
        "\n",
        "각종 통계 정보를 구하고, 시각화를 해보는 것.\n",
        "\n",
        "**하지만 단 하나의 정답이 존재하는 것은 아닙니다.** 여러분들이 배운 내용들을 복습하여 최대한 성실하게 과제를 수행해보세요. **단, 차트는 세 종류 이상을 출력**합니다."
      ]
    },
    {
      "cell_type": "markdown",
      "metadata": {
        "id": "Y7aRPPTktvAI"
      },
      "source": [
        "# Quiz 풀이"
      ]
    },
    {
      "cell_type": "markdown",
      "metadata": {
        "id": "9dalmzKZuEMb"
      },
      "source": [
        "정답 코드 : https://colab.research.google.com/drive/1x_6CVog1q31oCx09x4f7s3VvLfZq4BXg#scrollTo=s9WMSvJc5r6g"
      ]
    }
  ]
}